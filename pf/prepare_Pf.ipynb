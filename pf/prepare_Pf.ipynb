{
 "cells": [
  {
   "cell_type": "code",
   "execution_count": 1,
   "metadata": {},
   "outputs": [],
   "source": [
    "from PIL import Image, ImageFont, ImageDraw, ImageEnhance\n",
    "import requests\n",
    "from io import BytesIO\n",
    "import json\n",
    "import os\n",
    "import numpy as np\n",
    "import matplotlib.pyplot as plt\n",
    "import matplotlib.patches as mpatches\n",
    "from skimage.filters import threshold_otsu\n",
    "from skimage.io import imread, imsave\n",
    "from skimage.color import rgb2gray\n",
    "from skimage.measure import label, regionprops\n",
    "from skimage.transform import rescale, resize, downscale_local_mean\n",
    "import random\n",
    "import math\n",
    "import imageio\n",
    "import imgaug as ia\n",
    "from imgaug import augmenters as iaa\n",
    "from imgaug.augmentables.bbs import BoundingBox, BoundingBoxesOnImage\n",
    "import glob\n",
    "import random\n",
    "import shutil"
   ]
  },
  {
   "cell_type": "code",
   "execution_count": 2,
   "metadata": {},
   "outputs": [
    {
     "name": "stdout",
     "output_type": "stream",
     "text": [
      "Falciparum/gt/1305121398-0001-R_S.tif\n"
     ]
    },
    {
     "name": "stderr",
     "output_type": "stream",
     "text": [
      "/data/users/g6114450078/.local/lib/python3.7/site-packages/ipykernel_launcher.py:9: UserWarning: Falciparum/gt/1305121398-0001-R_S.jpg is a low contrast image\n",
      "  if __name__ == '__main__':\n",
      "Lossy conversion from float64 to uint8. Range [0, 1]. Convert image to uint8 prior to saving to suppress this warning.\n"
     ]
    },
    {
     "name": "stdout",
     "output_type": "stream",
     "text": [
      "Falciparum/gt/1305121398-0001-R_S.jpg\n",
      "Falciparum/gt/1305121398-0003-R.png\n"
     ]
    },
    {
     "name": "stderr",
     "output_type": "stream",
     "text": [
      "/data/users/g6114450078/.local/lib/python3.7/site-packages/ipykernel_launcher.py:9: UserWarning: Falciparum/gt/1305121398-0003-R.jpg is a low contrast image\n",
      "  if __name__ == '__main__':\n",
      "Lossy conversion from float64 to uint8. Range [0, 1]. Convert image to uint8 prior to saving to suppress this warning.\n",
      "/data/users/g6114450078/.local/lib/python3.7/site-packages/ipykernel_launcher.py:9: UserWarning: Falciparum/gt/1305121398-0004-R.jpg is a low contrast image\n",
      "  if __name__ == '__main__':\n",
      "Lossy conversion from float64 to uint8. Range [0, 1]. Convert image to uint8 prior to saving to suppress this warning.\n"
     ]
    },
    {
     "name": "stdout",
     "output_type": "stream",
     "text": [
      "Falciparum/gt/1305121398-0003-R.jpg\n",
      "Falciparum/gt/1305121398-0004-R.png\n",
      "Falciparum/gt/1305121398-0004-R.jpg\n",
      "Falciparum/gt/1305121398-0005-T.png\n"
     ]
    },
    {
     "name": "stderr",
     "output_type": "stream",
     "text": [
      "/data/users/g6114450078/.local/lib/python3.7/site-packages/ipykernel_launcher.py:9: UserWarning: Falciparum/gt/1305121398-0005-T.jpg is a low contrast image\n",
      "  if __name__ == '__main__':\n",
      "Lossy conversion from float64 to uint8. Range [0, 1]. Convert image to uint8 prior to saving to suppress this warning.\n",
      "/data/users/g6114450078/.local/lib/python3.7/site-packages/ipykernel_launcher.py:9: UserWarning: Falciparum/gt/1305121398-0006-R.jpg is a low contrast image\n",
      "  if __name__ == '__main__':\n",
      "Lossy conversion from float64 to uint8. Range [0, 1]. Convert image to uint8 prior to saving to suppress this warning.\n"
     ]
    },
    {
     "name": "stdout",
     "output_type": "stream",
     "text": [
      "Falciparum/gt/1305121398-0005-T.jpg\n",
      "Falciparum/gt/1305121398-0006-R.png\n",
      "Falciparum/gt/1305121398-0006-R.jpg\n",
      "Falciparum/gt/1305121398-0007-R.png\n"
     ]
    },
    {
     "name": "stderr",
     "output_type": "stream",
     "text": [
      "/data/users/g6114450078/.local/lib/python3.7/site-packages/ipykernel_launcher.py:9: UserWarning: Falciparum/gt/1305121398-0007-R.jpg is a low contrast image\n",
      "  if __name__ == '__main__':\n",
      "Lossy conversion from float64 to uint8. Range [0, 1]. Convert image to uint8 prior to saving to suppress this warning.\n",
      "/data/users/g6114450078/.local/lib/python3.7/site-packages/ipykernel_launcher.py:9: UserWarning: Falciparum/gt/1305121398-0008-R.jpg is a low contrast image\n",
      "  if __name__ == '__main__':\n",
      "Lossy conversion from float64 to uint8. Range [0, 1]. Convert image to uint8 prior to saving to suppress this warning.\n"
     ]
    },
    {
     "name": "stdout",
     "output_type": "stream",
     "text": [
      "Falciparum/gt/1305121398-0007-R.jpg\n",
      "Falciparum/gt/1305121398-0008-R.png\n",
      "Falciparum/gt/1305121398-0008-R.jpg\n",
      "Falciparum/gt/1305121398-0010-S.tif\n"
     ]
    },
    {
     "name": "stderr",
     "output_type": "stream",
     "text": [
      "/data/users/g6114450078/.local/lib/python3.7/site-packages/ipykernel_launcher.py:9: UserWarning: Falciparum/gt/1305121398-0010-S.jpg is a low contrast image\n",
      "  if __name__ == '__main__':\n",
      "Lossy conversion from float64 to uint8. Range [0, 1]. Convert image to uint8 prior to saving to suppress this warning.\n",
      "/data/users/g6114450078/.local/lib/python3.7/site-packages/ipykernel_launcher.py:9: UserWarning: Falciparum/gt/1305121398-0011-S.jpg is a low contrast image\n",
      "  if __name__ == '__main__':\n",
      "Lossy conversion from float64 to uint8. Range [0, 1]. Convert image to uint8 prior to saving to suppress this warning.\n"
     ]
    },
    {
     "name": "stdout",
     "output_type": "stream",
     "text": [
      "Falciparum/gt/1305121398-0010-S.jpg\n",
      "Falciparum/gt/1305121398-0011-S.tif\n",
      "Falciparum/gt/1305121398-0011-S.jpg\n",
      "Falciparum/gt/1305121398-0012-S.tif\n"
     ]
    },
    {
     "name": "stderr",
     "output_type": "stream",
     "text": [
      "/data/users/g6114450078/.local/lib/python3.7/site-packages/ipykernel_launcher.py:9: UserWarning: Falciparum/gt/1305121398-0012-S.jpg is a low contrast image\n",
      "  if __name__ == '__main__':\n",
      "Lossy conversion from float64 to uint8. Range [0, 1]. Convert image to uint8 prior to saving to suppress this warning.\n",
      "/data/users/g6114450078/.local/lib/python3.7/site-packages/ipykernel_launcher.py:9: UserWarning: Falciparum/gt/1305121398-0013-S.jpg is a low contrast image\n",
      "  if __name__ == '__main__':\n",
      "Lossy conversion from float64 to uint8. Range [0, 1]. Convert image to uint8 prior to saving to suppress this warning.\n"
     ]
    },
    {
     "name": "stdout",
     "output_type": "stream",
     "text": [
      "Falciparum/gt/1305121398-0012-S.jpg\n",
      "Falciparum/gt/1305121398-0013-S.tif\n"
     ]
    },
    {
     "name": "stderr",
     "output_type": "stream",
     "text": [
      "/data/users/g6114450078/.local/lib/python3.7/site-packages/ipykernel_launcher.py:9: UserWarning: Falciparum/gt/1305121398-0014-S.jpg is a low contrast image\n",
      "  if __name__ == '__main__':\n",
      "Lossy conversion from float64 to uint8. Range [0, 1]. Convert image to uint8 prior to saving to suppress this warning.\n"
     ]
    },
    {
     "name": "stdout",
     "output_type": "stream",
     "text": [
      "Falciparum/gt/1305121398-0013-S.jpg\n",
      "Falciparum/gt/1305121398-0014-S.tif\n",
      "Falciparum/gt/1305121398-0014-S.jpg\n",
      "Falciparum/gt/1305121398-0015-S.tif\n"
     ]
    },
    {
     "name": "stderr",
     "output_type": "stream",
     "text": [
      "/data/users/g6114450078/.local/lib/python3.7/site-packages/ipykernel_launcher.py:9: UserWarning: Falciparum/gt/1305121398-0015-S.jpg is a low contrast image\n",
      "  if __name__ == '__main__':\n",
      "Lossy conversion from float64 to uint8. Range [0, 1]. Convert image to uint8 prior to saving to suppress this warning.\n",
      "/data/users/g6114450078/.local/lib/python3.7/site-packages/ipykernel_launcher.py:9: UserWarning: Falciparum/gt/1305121398-0016-T.jpg is a low contrast image\n",
      "  if __name__ == '__main__':\n",
      "Lossy conversion from float64 to uint8. Range [0, 1]. Convert image to uint8 prior to saving to suppress this warning.\n"
     ]
    },
    {
     "name": "stdout",
     "output_type": "stream",
     "text": [
      "Falciparum/gt/1305121398-0015-S.jpg\n",
      "Falciparum/gt/1305121398-0016-T.tif\n",
      "Falciparum/gt/1305121398-0016-T.jpg\n",
      "Falciparum/gt/1305121398-0017-R.png\n"
     ]
    },
    {
     "name": "stderr",
     "output_type": "stream",
     "text": [
      "/data/users/g6114450078/.local/lib/python3.7/site-packages/ipykernel_launcher.py:9: UserWarning: Falciparum/gt/1305121398-0017-R.jpg is a low contrast image\n",
      "  if __name__ == '__main__':\n",
      "Lossy conversion from float64 to uint8. Range [0, 1]. Convert image to uint8 prior to saving to suppress this warning.\n",
      "/data/users/g6114450078/.local/lib/python3.7/site-packages/ipykernel_launcher.py:9: UserWarning: Falciparum/gt/1305121398-0018-S.jpg is a low contrast image\n",
      "  if __name__ == '__main__':\n",
      "Lossy conversion from float64 to uint8. Range [0, 1]. Convert image to uint8 prior to saving to suppress this warning.\n"
     ]
    },
    {
     "name": "stdout",
     "output_type": "stream",
     "text": [
      "Falciparum/gt/1305121398-0017-R.jpg\n",
      "Falciparum/gt/1305121398-0018-S.tif\n",
      "Falciparum/gt/1305121398-0018-S.jpg\n",
      "Falciparum/gt/1305121398-0019-R.png\n"
     ]
    },
    {
     "name": "stderr",
     "output_type": "stream",
     "text": [
      "/data/users/g6114450078/.local/lib/python3.7/site-packages/ipykernel_launcher.py:9: UserWarning: Falciparum/gt/1305121398-0019-R.jpg is a low contrast image\n",
      "  if __name__ == '__main__':\n",
      "Lossy conversion from float64 to uint8. Range [0, 1]. Convert image to uint8 prior to saving to suppress this warning.\n",
      "/data/users/g6114450078/.local/lib/python3.7/site-packages/ipykernel_launcher.py:9: UserWarning: Falciparum/gt/1305121398-0020-S.jpg is a low contrast image\n",
      "  if __name__ == '__main__':\n",
      "Lossy conversion from float64 to uint8. Range [0, 1]. Convert image to uint8 prior to saving to suppress this warning.\n"
     ]
    },
    {
     "name": "stdout",
     "output_type": "stream",
     "text": [
      "Falciparum/gt/1305121398-0019-R.jpg\n",
      "Falciparum/gt/1305121398-0020-S.tif\n",
      "Falciparum/gt/1305121398-0020-S.jpg\n",
      "Falciparum/gt/1305121398-0021-S.tif\n"
     ]
    },
    {
     "name": "stderr",
     "output_type": "stream",
     "text": [
      "/data/users/g6114450078/.local/lib/python3.7/site-packages/ipykernel_launcher.py:9: UserWarning: Falciparum/gt/1305121398-0021-S.jpg is a low contrast image\n",
      "  if __name__ == '__main__':\n",
      "Lossy conversion from float64 to uint8. Range [0, 1]. Convert image to uint8 prior to saving to suppress this warning.\n",
      "/data/users/g6114450078/.local/lib/python3.7/site-packages/ipykernel_launcher.py:9: UserWarning: Falciparum/gt/1305121398-0022-S.jpg is a low contrast image\n",
      "  if __name__ == '__main__':\n",
      "Lossy conversion from float64 to uint8. Range [0, 1]. Convert image to uint8 prior to saving to suppress this warning.\n"
     ]
    },
    {
     "name": "stdout",
     "output_type": "stream",
     "text": [
      "Falciparum/gt/1305121398-0021-S.jpg\n",
      "Falciparum/gt/1305121398-0022-S.tif\n",
      "Falciparum/gt/1305121398-0022-S.jpg\n",
      "Falciparum/gt/1307210661-0001-R.png\n"
     ]
    },
    {
     "name": "stderr",
     "output_type": "stream",
     "text": [
      "Lossy conversion from float64 to uint8. Range [0, 1]. Convert image to uint8 prior to saving to suppress this warning.\n",
      "Lossy conversion from float64 to uint8. Range [0, 1]. Convert image to uint8 prior to saving to suppress this warning.\n"
     ]
    },
    {
     "name": "stdout",
     "output_type": "stream",
     "text": [
      "Falciparum/gt/1307210661-0001-R.jpg\n",
      "Falciparum/gt/1307210661-0002-R.png\n",
      "Falciparum/gt/1307210661-0002-R.jpg\n",
      "Falciparum/gt/1307210661-0003-R.png\n"
     ]
    },
    {
     "name": "stderr",
     "output_type": "stream",
     "text": [
      "Lossy conversion from float64 to uint8. Range [0, 1]. Convert image to uint8 prior to saving to suppress this warning.\n",
      "Lossy conversion from float64 to uint8. Range [0, 1]. Convert image to uint8 prior to saving to suppress this warning.\n"
     ]
    },
    {
     "name": "stdout",
     "output_type": "stream",
     "text": [
      "Falciparum/gt/1307210661-0003-R.jpg\n",
      "Falciparum/gt/1307210661-0004-R.png\n",
      "Falciparum/gt/1307210661-0004-R.jpg\n",
      "Falciparum/gt/1307210661-0005-R.png\n"
     ]
    },
    {
     "name": "stderr",
     "output_type": "stream",
     "text": [
      "Lossy conversion from float64 to uint8. Range [0, 1]. Convert image to uint8 prior to saving to suppress this warning.\n",
      "Lossy conversion from float64 to uint8. Range [0, 1]. Convert image to uint8 prior to saving to suppress this warning.\n"
     ]
    },
    {
     "name": "stdout",
     "output_type": "stream",
     "text": [
      "Falciparum/gt/1307210661-0005-R.jpg\n",
      "Falciparum/gt/1307210661-0006-R.png\n",
      "Falciparum/gt/1307210661-0006-R.jpg\n",
      "Falciparum/gt/1307210661-0007-R.png\n"
     ]
    },
    {
     "name": "stderr",
     "output_type": "stream",
     "text": [
      "Lossy conversion from float64 to uint8. Range [0, 1]. Convert image to uint8 prior to saving to suppress this warning.\n",
      "Lossy conversion from float64 to uint8. Range [0, 1]. Convert image to uint8 prior to saving to suppress this warning.\n"
     ]
    },
    {
     "name": "stdout",
     "output_type": "stream",
     "text": [
      "Falciparum/gt/1307210661-0007-R.jpg\n",
      "Falciparum/gt/1307210661-0008-R.png\n",
      "Falciparum/gt/1307210661-0008-R.jpg\n",
      "Falciparum/gt/1307210661-0009-R.png\n"
     ]
    },
    {
     "name": "stderr",
     "output_type": "stream",
     "text": [
      "/data/users/g6114450078/.local/lib/python3.7/site-packages/ipykernel_launcher.py:9: UserWarning: Falciparum/gt/1307210661-0009-R.jpg is a low contrast image\n",
      "  if __name__ == '__main__':\n",
      "Lossy conversion from float64 to uint8. Range [0, 1]. Convert image to uint8 prior to saving to suppress this warning.\n",
      "Lossy conversion from float64 to uint8. Range [0, 1]. Convert image to uint8 prior to saving to suppress this warning.\n"
     ]
    },
    {
     "name": "stdout",
     "output_type": "stream",
     "text": [
      "Falciparum/gt/1307210661-0009-R.jpg\n",
      "Falciparum/gt/1307210661-0010-R.png\n",
      "Falciparum/gt/1307210661-0010-R.jpg\n",
      "Falciparum/gt/1401063467-0001-S.tif\n"
     ]
    },
    {
     "name": "stderr",
     "output_type": "stream",
     "text": [
      "/data/users/g6114450078/.local/lib/python3.7/site-packages/ipykernel_launcher.py:9: UserWarning: Falciparum/gt/1401063467-0001-S.jpg is a low contrast image\n",
      "  if __name__ == '__main__':\n",
      "Lossy conversion from float64 to uint8. Range [0, 1]. Convert image to uint8 prior to saving to suppress this warning.\n"
     ]
    },
    {
     "name": "stdout",
     "output_type": "stream",
     "text": [
      "Falciparum/gt/1401063467-0001-S.jpg\n",
      "Falciparum/gt/1401063467-0002-T.tif\n"
     ]
    },
    {
     "name": "stderr",
     "output_type": "stream",
     "text": [
      "/data/users/g6114450078/.local/lib/python3.7/site-packages/ipykernel_launcher.py:9: UserWarning: Falciparum/gt/1401063467-0002-T.jpg is a low contrast image\n",
      "  if __name__ == '__main__':\n",
      "Lossy conversion from float64 to uint8. Range [0, 1]. Convert image to uint8 prior to saving to suppress this warning.\n",
      "/data/users/g6114450078/.local/lib/python3.7/site-packages/ipykernel_launcher.py:9: UserWarning: Falciparum/gt/1401063467-0003-T.jpg is a low contrast image\n",
      "  if __name__ == '__main__':\n",
      "Lossy conversion from float64 to uint8. Range [0, 1]. Convert image to uint8 prior to saving to suppress this warning.\n"
     ]
    },
    {
     "name": "stdout",
     "output_type": "stream",
     "text": [
      "Falciparum/gt/1401063467-0002-T.jpg\n",
      "Falciparum/gt/1401063467-0003-T.tif\n",
      "Falciparum/gt/1401063467-0003-T.jpg\n",
      "Falciparum/gt/1401063467-0004-R.png\n"
     ]
    },
    {
     "name": "stderr",
     "output_type": "stream",
     "text": [
      "/data/users/g6114450078/.local/lib/python3.7/site-packages/ipykernel_launcher.py:9: UserWarning: Falciparum/gt/1401063467-0004-R.jpg is a low contrast image\n",
      "  if __name__ == '__main__':\n",
      "Lossy conversion from float64 to uint8. Range [0, 1]. Convert image to uint8 prior to saving to suppress this warning.\n",
      "/data/users/g6114450078/.local/lib/python3.7/site-packages/ipykernel_launcher.py:9: UserWarning: Falciparum/gt/1401063467-0005-T.jpg is a low contrast image\n",
      "  if __name__ == '__main__':\n",
      "Lossy conversion from float64 to uint8. Range [0, 1]. Convert image to uint8 prior to saving to suppress this warning.\n"
     ]
    },
    {
     "name": "stdout",
     "output_type": "stream",
     "text": [
      "Falciparum/gt/1401063467-0004-R.jpg\n",
      "Falciparum/gt/1401063467-0005-T.tif\n"
     ]
    },
    {
     "name": "stderr",
     "output_type": "stream",
     "text": [
      "/data/users/g6114450078/.local/lib/python3.7/site-packages/ipykernel_launcher.py:9: UserWarning: Falciparum/gt/1401063467-0006-T.jpg is a low contrast image\n",
      "  if __name__ == '__main__':\n",
      "Lossy conversion from float64 to uint8. Range [0, 1]. Convert image to uint8 prior to saving to suppress this warning.\n"
     ]
    },
    {
     "name": "stdout",
     "output_type": "stream",
     "text": [
      "Falciparum/gt/1401063467-0005-T.jpg\n",
      "Falciparum/gt/1401063467-0006-T.tif\n",
      "Falciparum/gt/1401063467-0006-T.jpg\n",
      "Falciparum/gt/1401063467-0007-S.tif\n"
     ]
    },
    {
     "name": "stderr",
     "output_type": "stream",
     "text": [
      "/data/users/g6114450078/.local/lib/python3.7/site-packages/ipykernel_launcher.py:9: UserWarning: Falciparum/gt/1401063467-0007-S.jpg is a low contrast image\n",
      "  if __name__ == '__main__':\n",
      "Lossy conversion from float64 to uint8. Range [0, 1]. Convert image to uint8 prior to saving to suppress this warning.\n",
      "/data/users/g6114450078/.local/lib/python3.7/site-packages/ipykernel_launcher.py:9: UserWarning: Falciparum/gt/1401063467-0008-S.jpg is a low contrast image\n",
      "  if __name__ == '__main__':\n",
      "Lossy conversion from float64 to uint8. Range [0, 1]. Convert image to uint8 prior to saving to suppress this warning.\n"
     ]
    },
    {
     "name": "stdout",
     "output_type": "stream",
     "text": [
      "Falciparum/gt/1401063467-0007-S.jpg\n",
      "Falciparum/gt/1401063467-0008-S.tif\n",
      "Falciparum/gt/1401063467-0008-S.jpg\n",
      "Falciparum/gt/1401063467-0009-T.tif\n"
     ]
    },
    {
     "name": "stderr",
     "output_type": "stream",
     "text": [
      "/data/users/g6114450078/.local/lib/python3.7/site-packages/ipykernel_launcher.py:9: UserWarning: Falciparum/gt/1401063467-0009-T.jpg is a low contrast image\n",
      "  if __name__ == '__main__':\n",
      "Lossy conversion from float64 to uint8. Range [0, 1]. Convert image to uint8 prior to saving to suppress this warning.\n",
      "/data/users/g6114450078/.local/lib/python3.7/site-packages/ipykernel_launcher.py:9: UserWarning: Falciparum/gt/1401063467-0010-T.jpg is a low contrast image\n",
      "  if __name__ == '__main__':\n",
      "Lossy conversion from float64 to uint8. Range [0, 1]. Convert image to uint8 prior to saving to suppress this warning.\n"
     ]
    },
    {
     "name": "stdout",
     "output_type": "stream",
     "text": [
      "Falciparum/gt/1401063467-0009-T.jpg\n",
      "Falciparum/gt/1401063467-0010-T.tif\n",
      "Falciparum/gt/1401063467-0010-T.jpg\n",
      "Falciparum/gt/1401063467-0011-S.tif\n"
     ]
    },
    {
     "name": "stderr",
     "output_type": "stream",
     "text": [
      "/data/users/g6114450078/.local/lib/python3.7/site-packages/ipykernel_launcher.py:9: UserWarning: Falciparum/gt/1401063467-0011-S.jpg is a low contrast image\n",
      "  if __name__ == '__main__':\n",
      "Lossy conversion from float64 to uint8. Range [0, 1]. Convert image to uint8 prior to saving to suppress this warning.\n",
      "/data/users/g6114450078/.local/lib/python3.7/site-packages/ipykernel_launcher.py:9: UserWarning: Falciparum/gt/1401063467-0012-S.jpg is a low contrast image\n",
      "  if __name__ == '__main__':\n",
      "Lossy conversion from float64 to uint8. Range [0, 1]. Convert image to uint8 prior to saving to suppress this warning.\n"
     ]
    },
    {
     "name": "stdout",
     "output_type": "stream",
     "text": [
      "Falciparum/gt/1401063467-0011-S.jpg\n",
      "Falciparum/gt/1401063467-0012-S.tif\n",
      "Falciparum/gt/1401063467-0012-S.jpg\n",
      "Falciparum/gt/1401063467-0013-T.tif\n"
     ]
    },
    {
     "name": "stderr",
     "output_type": "stream",
     "text": [
      "/data/users/g6114450078/.local/lib/python3.7/site-packages/ipykernel_launcher.py:9: UserWarning: Falciparum/gt/1401063467-0013-T.jpg is a low contrast image\n",
      "  if __name__ == '__main__':\n",
      "Lossy conversion from float64 to uint8. Range [0, 1]. Convert image to uint8 prior to saving to suppress this warning.\n",
      "Lossy conversion from float64 to uint8. Range [0, 1]. Convert image to uint8 prior to saving to suppress this warning.\n"
     ]
    },
    {
     "name": "stdout",
     "output_type": "stream",
     "text": [
      "Falciparum/gt/1401063467-0013-T.jpg\n",
      "Falciparum/gt/1405022890-0001-R.png\n",
      "Falciparum/gt/1405022890-0001-R.jpg\n",
      "Falciparum/gt/1405022890-0002-R.png\n"
     ]
    },
    {
     "name": "stderr",
     "output_type": "stream",
     "text": [
      "Lossy conversion from float64 to uint8. Range [0, 1]. Convert image to uint8 prior to saving to suppress this warning.\n",
      "Lossy conversion from float64 to uint8. Range [0, 1]. Convert image to uint8 prior to saving to suppress this warning.\n"
     ]
    },
    {
     "name": "stdout",
     "output_type": "stream",
     "text": [
      "Falciparum/gt/1405022890-0002-R.jpg\n",
      "Falciparum/gt/1405022890-0003-R.png\n",
      "Falciparum/gt/1405022890-0003-R.jpg\n",
      "Falciparum/gt/1405022890-0004-R.png\n"
     ]
    },
    {
     "name": "stderr",
     "output_type": "stream",
     "text": [
      "Lossy conversion from float64 to uint8. Range [0, 1]. Convert image to uint8 prior to saving to suppress this warning.\n",
      "Lossy conversion from float64 to uint8. Range [0, 1]. Convert image to uint8 prior to saving to suppress this warning.\n"
     ]
    },
    {
     "name": "stdout",
     "output_type": "stream",
     "text": [
      "Falciparum/gt/1405022890-0004-R.jpg\n",
      "Falciparum/gt/1405022890-0005-R.png\n",
      "Falciparum/gt/1405022890-0005-R.jpg\n",
      "Falciparum/gt/1405022890-0006-R.png\n"
     ]
    },
    {
     "name": "stderr",
     "output_type": "stream",
     "text": [
      "Lossy conversion from float64 to uint8. Range [0, 1]. Convert image to uint8 prior to saving to suppress this warning.\n",
      "/data/users/g6114450078/.local/lib/python3.7/site-packages/ipykernel_launcher.py:9: UserWarning: Falciparum/gt/1408161544-0001-S_R.jpg is a low contrast image\n",
      "  if __name__ == '__main__':\n",
      "Lossy conversion from float64 to uint8. Range [0, 1]. Convert image to uint8 prior to saving to suppress this warning.\n"
     ]
    },
    {
     "name": "stdout",
     "output_type": "stream",
     "text": [
      "Falciparum/gt/1405022890-0006-R.jpg\n",
      "Falciparum/gt/1408161544-0001-S_R.tif\n",
      "Falciparum/gt/1408161544-0001-S_R.jpg\n",
      "Falciparum/gt/1408161544-0002-R_S.tif\n"
     ]
    },
    {
     "name": "stderr",
     "output_type": "stream",
     "text": [
      "/data/users/g6114450078/.local/lib/python3.7/site-packages/ipykernel_launcher.py:9: UserWarning: Falciparum/gt/1408161544-0002-R_S.jpg is a low contrast image\n",
      "  if __name__ == '__main__':\n",
      "Lossy conversion from float64 to uint8. Range [0, 1]. Convert image to uint8 prior to saving to suppress this warning.\n",
      "/data/users/g6114450078/.local/lib/python3.7/site-packages/ipykernel_launcher.py:9: UserWarning: Falciparum/gt/1408161544-0003-R_S.jpg is a low contrast image\n",
      "  if __name__ == '__main__':\n",
      "Lossy conversion from float64 to uint8. Range [0, 1]. Convert image to uint8 prior to saving to suppress this warning.\n"
     ]
    },
    {
     "name": "stdout",
     "output_type": "stream",
     "text": [
      "Falciparum/gt/1408161544-0002-R_S.jpg\n",
      "Falciparum/gt/1408161544-0003-R_S.tif\n",
      "Falciparum/gt/1408161544-0003-R_S.jpg\n",
      "Falciparum/gt/1408290968-0001-R.png\n"
     ]
    },
    {
     "name": "stderr",
     "output_type": "stream",
     "text": [
      "/data/users/g6114450078/.local/lib/python3.7/site-packages/ipykernel_launcher.py:9: UserWarning: Falciparum/gt/1408290968-0001-R.jpg is a low contrast image\n",
      "  if __name__ == '__main__':\n",
      "Lossy conversion from float64 to uint8. Range [0, 1]. Convert image to uint8 prior to saving to suppress this warning.\n",
      "/data/users/g6114450078/.local/lib/python3.7/site-packages/ipykernel_launcher.py:9: UserWarning: Falciparum/gt/1408290968-0002-R.jpg is a low contrast image\n",
      "  if __name__ == '__main__':\n",
      "Lossy conversion from float64 to uint8. Range [0, 1]. Convert image to uint8 prior to saving to suppress this warning.\n"
     ]
    },
    {
     "name": "stdout",
     "output_type": "stream",
     "text": [
      "Falciparum/gt/1408290968-0001-R.jpg\n",
      "Falciparum/gt/1408290968-0002-R.png\n",
      "Falciparum/gt/1408290968-0002-R.jpg\n",
      "Falciparum/gt/1408290968-0003-R.png\n"
     ]
    },
    {
     "name": "stderr",
     "output_type": "stream",
     "text": [
      "/data/users/g6114450078/.local/lib/python3.7/site-packages/ipykernel_launcher.py:9: UserWarning: Falciparum/gt/1408290968-0003-R.jpg is a low contrast image\n",
      "  if __name__ == '__main__':\n",
      "Lossy conversion from float64 to uint8. Range [0, 1]. Convert image to uint8 prior to saving to suppress this warning.\n",
      "/data/users/g6114450078/.local/lib/python3.7/site-packages/ipykernel_launcher.py:9: UserWarning: Falciparum/gt/1409171742-0001-R.jpg is a low contrast image\n",
      "  if __name__ == '__main__':\n",
      "Lossy conversion from float64 to uint8. Range [0, 1]. Convert image to uint8 prior to saving to suppress this warning.\n"
     ]
    },
    {
     "name": "stdout",
     "output_type": "stream",
     "text": [
      "Falciparum/gt/1408290968-0003-R.jpg\n",
      "Falciparum/gt/1409171742-0001-R.png\n",
      "Falciparum/gt/1409171742-0001-R.jpg\n",
      "Falciparum/gt/1409171742-0002-R.png\n"
     ]
    },
    {
     "name": "stderr",
     "output_type": "stream",
     "text": [
      "/data/users/g6114450078/.local/lib/python3.7/site-packages/ipykernel_launcher.py:9: UserWarning: Falciparum/gt/1409171742-0002-R.jpg is a low contrast image\n",
      "  if __name__ == '__main__':\n",
      "Lossy conversion from float64 to uint8. Range [0, 1]. Convert image to uint8 prior to saving to suppress this warning.\n",
      "/data/users/g6114450078/.local/lib/python3.7/site-packages/ipykernel_launcher.py:9: UserWarning: Falciparum/gt/1409171742-0003-R.jpg is a low contrast image\n",
      "  if __name__ == '__main__':\n",
      "Lossy conversion from float64 to uint8. Range [0, 1]. Convert image to uint8 prior to saving to suppress this warning.\n"
     ]
    },
    {
     "name": "stdout",
     "output_type": "stream",
     "text": [
      "Falciparum/gt/1409171742-0002-R.jpg\n",
      "Falciparum/gt/1409171742-0003-R.png\n",
      "Falciparum/gt/1409171742-0003-R.jpg\n",
      "Falciparum/gt/1409171742-0004-R.png\n"
     ]
    },
    {
     "name": "stderr",
     "output_type": "stream",
     "text": [
      "/data/users/g6114450078/.local/lib/python3.7/site-packages/ipykernel_launcher.py:9: UserWarning: Falciparum/gt/1409171742-0004-R.jpg is a low contrast image\n",
      "  if __name__ == '__main__':\n",
      "Lossy conversion from float64 to uint8. Range [0, 1]. Convert image to uint8 prior to saving to suppress this warning.\n",
      "/data/users/g6114450078/.local/lib/python3.7/site-packages/ipykernel_launcher.py:9: UserWarning: Falciparum/gt/1409171742-0005-R.jpg is a low contrast image\n",
      "  if __name__ == '__main__':\n",
      "Lossy conversion from float64 to uint8. Range [0, 1]. Convert image to uint8 prior to saving to suppress this warning.\n"
     ]
    },
    {
     "name": "stdout",
     "output_type": "stream",
     "text": [
      "Falciparum/gt/1409171742-0004-R.jpg\n",
      "Falciparum/gt/1409171742-0005-R.png\n",
      "Falciparum/gt/1409171742-0005-R.jpg\n",
      "Falciparum/gt/1409171742-0006-R.png\n"
     ]
    },
    {
     "name": "stderr",
     "output_type": "stream",
     "text": [
      "/data/users/g6114450078/.local/lib/python3.7/site-packages/ipykernel_launcher.py:9: UserWarning: Falciparum/gt/1409171742-0006-R.jpg is a low contrast image\n",
      "  if __name__ == '__main__':\n",
      "Lossy conversion from float64 to uint8. Range [0, 1]. Convert image to uint8 prior to saving to suppress this warning.\n",
      "/data/users/g6114450078/.local/lib/python3.7/site-packages/ipykernel_launcher.py:9: UserWarning: Falciparum/gt/1409171742-0007-R.jpg is a low contrast image\n",
      "  if __name__ == '__main__':\n",
      "Lossy conversion from float64 to uint8. Range [0, 1]. Convert image to uint8 prior to saving to suppress this warning.\n"
     ]
    },
    {
     "name": "stdout",
     "output_type": "stream",
     "text": [
      "Falciparum/gt/1409171742-0006-R.jpg\n",
      "Falciparum/gt/1409171742-0007-R.png\n",
      "Falciparum/gt/1409171742-0007-R.jpg\n",
      "Falciparum/gt/1409171742-0008-R.png\n"
     ]
    },
    {
     "name": "stderr",
     "output_type": "stream",
     "text": [
      "/data/users/g6114450078/.local/lib/python3.7/site-packages/ipykernel_launcher.py:9: UserWarning: Falciparum/gt/1409171742-0008-R.jpg is a low contrast image\n",
      "  if __name__ == '__main__':\n",
      "Lossy conversion from float64 to uint8. Range [0, 1]. Convert image to uint8 prior to saving to suppress this warning.\n",
      "Lossy conversion from float64 to uint8. Range [0, 1]. Convert image to uint8 prior to saving to suppress this warning.\n"
     ]
    },
    {
     "name": "stdout",
     "output_type": "stream",
     "text": [
      "Falciparum/gt/1409171742-0008-R.jpg\n",
      "Falciparum/gt/1409171742-0009-R.png\n",
      "Falciparum/gt/1409171742-0009-R.jpg\n",
      "Falciparum/gt/1409171742-0010-R.png\n"
     ]
    },
    {
     "name": "stderr",
     "output_type": "stream",
     "text": [
      "/data/users/g6114450078/.local/lib/python3.7/site-packages/ipykernel_launcher.py:9: UserWarning: Falciparum/gt/1409171742-0010-R.jpg is a low contrast image\n",
      "  if __name__ == '__main__':\n",
      "Lossy conversion from float64 to uint8. Range [0, 1]. Convert image to uint8 prior to saving to suppress this warning.\n",
      "/data/users/g6114450078/.local/lib/python3.7/site-packages/ipykernel_launcher.py:9: UserWarning: Falciparum/gt/1409191647-0001-R.jpg is a low contrast image\n",
      "  if __name__ == '__main__':\n",
      "Lossy conversion from float64 to uint8. Range [0, 1]. Convert image to uint8 prior to saving to suppress this warning.\n"
     ]
    },
    {
     "name": "stdout",
     "output_type": "stream",
     "text": [
      "Falciparum/gt/1409171742-0010-R.jpg\n",
      "Falciparum/gt/1409191647-0001-R.png\n",
      "Falciparum/gt/1409191647-0001-R.jpg\n",
      "Falciparum/gt/1409191647-0002-R.png\n"
     ]
    },
    {
     "name": "stderr",
     "output_type": "stream",
     "text": [
      "/data/users/g6114450078/.local/lib/python3.7/site-packages/ipykernel_launcher.py:9: UserWarning: Falciparum/gt/1409191647-0002-R.jpg is a low contrast image\n",
      "  if __name__ == '__main__':\n",
      "Lossy conversion from float64 to uint8. Range [0, 1]. Convert image to uint8 prior to saving to suppress this warning.\n",
      "/data/users/g6114450078/.local/lib/python3.7/site-packages/ipykernel_launcher.py:9: UserWarning: Falciparum/gt/1409191647-0003-R.jpg is a low contrast image\n",
      "  if __name__ == '__main__':\n",
      "Lossy conversion from float64 to uint8. Range [0, 1]. Convert image to uint8 prior to saving to suppress this warning.\n"
     ]
    },
    {
     "name": "stdout",
     "output_type": "stream",
     "text": [
      "Falciparum/gt/1409191647-0002-R.jpg\n",
      "Falciparum/gt/1409191647-0003-R.png\n",
      "Falciparum/gt/1409191647-0003-R.jpg\n",
      "Falciparum/gt/1409191647-0004-R.png\n"
     ]
    },
    {
     "name": "stderr",
     "output_type": "stream",
     "text": [
      "/data/users/g6114450078/.local/lib/python3.7/site-packages/ipykernel_launcher.py:9: UserWarning: Falciparum/gt/1409191647-0004-R.jpg is a low contrast image\n",
      "  if __name__ == '__main__':\n",
      "Lossy conversion from float64 to uint8. Range [0, 1]. Convert image to uint8 prior to saving to suppress this warning.\n",
      "/data/users/g6114450078/.local/lib/python3.7/site-packages/ipykernel_launcher.py:9: UserWarning: Falciparum/gt/1409191647-0005-R.jpg is a low contrast image\n",
      "  if __name__ == '__main__':\n",
      "Lossy conversion from float64 to uint8. Range [0, 1]. Convert image to uint8 prior to saving to suppress this warning.\n"
     ]
    },
    {
     "name": "stdout",
     "output_type": "stream",
     "text": [
      "Falciparum/gt/1409191647-0004-R.jpg\n",
      "Falciparum/gt/1409191647-0005-R.png\n",
      "Falciparum/gt/1409191647-0005-R.jpg\n",
      "Falciparum/gt/1409191647-0006-R.png\n"
     ]
    },
    {
     "name": "stderr",
     "output_type": "stream",
     "text": [
      "/data/users/g6114450078/.local/lib/python3.7/site-packages/ipykernel_launcher.py:9: UserWarning: Falciparum/gt/1409191647-0006-R.jpg is a low contrast image\n",
      "  if __name__ == '__main__':\n",
      "Lossy conversion from float64 to uint8. Range [0, 1]. Convert image to uint8 prior to saving to suppress this warning.\n",
      "/data/users/g6114450078/.local/lib/python3.7/site-packages/ipykernel_launcher.py:9: UserWarning: Falciparum/gt/1409191647-0007-R.jpg is a low contrast image\n",
      "  if __name__ == '__main__':\n",
      "Lossy conversion from float64 to uint8. Range [0, 1]. Convert image to uint8 prior to saving to suppress this warning.\n"
     ]
    },
    {
     "name": "stdout",
     "output_type": "stream",
     "text": [
      "Falciparum/gt/1409191647-0006-R.jpg\n",
      "Falciparum/gt/1409191647-0007-R.png\n",
      "Falciparum/gt/1409191647-0007-R.jpg\n",
      "Falciparum/gt/1409191647-0008-T.png\n"
     ]
    },
    {
     "name": "stderr",
     "output_type": "stream",
     "text": [
      "/data/users/g6114450078/.local/lib/python3.7/site-packages/ipykernel_launcher.py:9: UserWarning: Falciparum/gt/1409191647-0008-T.jpg is a low contrast image\n",
      "  if __name__ == '__main__':\n",
      "Lossy conversion from float64 to uint8. Range [0, 1]. Convert image to uint8 prior to saving to suppress this warning.\n",
      "/data/users/g6114450078/.local/lib/python3.7/site-packages/ipykernel_launcher.py:9: UserWarning: Falciparum/gt/1409191647-0009-R.jpg is a low contrast image\n",
      "  if __name__ == '__main__':\n",
      "Lossy conversion from float64 to uint8. Range [0, 1]. Convert image to uint8 prior to saving to suppress this warning.\n"
     ]
    },
    {
     "name": "stdout",
     "output_type": "stream",
     "text": [
      "Falciparum/gt/1409191647-0008-T.jpg\n",
      "Falciparum/gt/1409191647-0009-R.png\n",
      "Falciparum/gt/1409191647-0009-R.jpg\n",
      "Falciparum/gt/1409191647-0010-R.png\n"
     ]
    },
    {
     "name": "stderr",
     "output_type": "stream",
     "text": [
      "/data/users/g6114450078/.local/lib/python3.7/site-packages/ipykernel_launcher.py:9: UserWarning: Falciparum/gt/1409191647-0010-R.jpg is a low contrast image\n",
      "  if __name__ == '__main__':\n",
      "Lossy conversion from float64 to uint8. Range [0, 1]. Convert image to uint8 prior to saving to suppress this warning.\n",
      "/data/users/g6114450078/.local/lib/python3.7/site-packages/ipykernel_launcher.py:9: UserWarning: Falciparum/gt/1603223711-0001-T.jpg is a low contrast image\n",
      "  if __name__ == '__main__':\n",
      "Lossy conversion from float64 to uint8. Range [0, 1]. Convert image to uint8 prior to saving to suppress this warning.\n"
     ]
    },
    {
     "name": "stdout",
     "output_type": "stream",
     "text": [
      "Falciparum/gt/1409191647-0010-R.jpg\n",
      "Falciparum/gt/1603223711-0001-T.tif\n",
      "Falciparum/gt/1603223711-0001-T.jpg\n",
      "Falciparum/gt/1603223711-0002-T.tif\n"
     ]
    },
    {
     "name": "stderr",
     "output_type": "stream",
     "text": [
      "/data/users/g6114450078/.local/lib/python3.7/site-packages/ipykernel_launcher.py:9: UserWarning: Falciparum/gt/1603223711-0002-T.jpg is a low contrast image\n",
      "  if __name__ == '__main__':\n",
      "Lossy conversion from float64 to uint8. Range [0, 1]. Convert image to uint8 prior to saving to suppress this warning.\n",
      "/data/users/g6114450078/.local/lib/python3.7/site-packages/ipykernel_launcher.py:9: UserWarning: Falciparum/gt/1603223711-0003-T_R.jpg is a low contrast image\n",
      "  if __name__ == '__main__':\n",
      "Lossy conversion from float64 to uint8. Range [0, 1]. Convert image to uint8 prior to saving to suppress this warning.\n"
     ]
    },
    {
     "name": "stdout",
     "output_type": "stream",
     "text": [
      "Falciparum/gt/1603223711-0002-T.jpg\n",
      "Falciparum/gt/1603223711-0003-T_R.tif\n",
      "Falciparum/gt/1603223711-0003-T_R.jpg\n",
      "Falciparum/gt/1603223711-0004-R.tif\n"
     ]
    },
    {
     "name": "stderr",
     "output_type": "stream",
     "text": [
      "/data/users/g6114450078/.local/lib/python3.7/site-packages/ipykernel_launcher.py:9: UserWarning: Falciparum/gt/1603223711-0004-R.jpg is a low contrast image\n",
      "  if __name__ == '__main__':\n",
      "Lossy conversion from float64 to uint8. Range [0, 1]. Convert image to uint8 prior to saving to suppress this warning.\n",
      "/data/users/g6114450078/.local/lib/python3.7/site-packages/ipykernel_launcher.py:9: UserWarning: Falciparum/gt/1603223711-0005-T.jpg is a low contrast image\n",
      "  if __name__ == '__main__':\n",
      "Lossy conversion from float64 to uint8. Range [0, 1]. Convert image to uint8 prior to saving to suppress this warning.\n"
     ]
    },
    {
     "name": "stdout",
     "output_type": "stream",
     "text": [
      "Falciparum/gt/1603223711-0004-R.jpg\n",
      "Falciparum/gt/1603223711-0005-T.tif\n",
      "Falciparum/gt/1603223711-0005-T.jpg\n",
      "Falciparum/gt/1603223711-0006-T.tif\n"
     ]
    },
    {
     "name": "stderr",
     "output_type": "stream",
     "text": [
      "/data/users/g6114450078/.local/lib/python3.7/site-packages/ipykernel_launcher.py:9: UserWarning: Falciparum/gt/1603223711-0006-T.jpg is a low contrast image\n",
      "  if __name__ == '__main__':\n",
      "Lossy conversion from float64 to uint8. Range [0, 1]. Convert image to uint8 prior to saving to suppress this warning.\n",
      "/data/users/g6114450078/.local/lib/python3.7/site-packages/ipykernel_launcher.py:9: UserWarning: Falciparum/gt/1701151546-0001-R_T.jpg is a low contrast image\n",
      "  if __name__ == '__main__':\n",
      "Lossy conversion from float64 to uint8. Range [0, 1]. Convert image to uint8 prior to saving to suppress this warning.\n"
     ]
    },
    {
     "name": "stdout",
     "output_type": "stream",
     "text": [
      "Falciparum/gt/1603223711-0006-T.jpg\n",
      "Falciparum/gt/1701151546-0001-R_T.tif\n",
      "Falciparum/gt/1701151546-0001-R_T.jpg\n",
      "Falciparum/gt/1701151546-0002-R.tif\n"
     ]
    },
    {
     "name": "stderr",
     "output_type": "stream",
     "text": [
      "/data/users/g6114450078/.local/lib/python3.7/site-packages/ipykernel_launcher.py:9: UserWarning: Falciparum/gt/1701151546-0002-R.jpg is a low contrast image\n",
      "  if __name__ == '__main__':\n",
      "Lossy conversion from float64 to uint8. Range [0, 1]. Convert image to uint8 prior to saving to suppress this warning.\n",
      "/data/users/g6114450078/.local/lib/python3.7/site-packages/ipykernel_launcher.py:9: UserWarning: Falciparum/gt/1701151546-0003-R.jpg is a low contrast image\n",
      "  if __name__ == '__main__':\n",
      "Lossy conversion from float64 to uint8. Range [0, 1]. Convert image to uint8 prior to saving to suppress this warning.\n"
     ]
    },
    {
     "name": "stdout",
     "output_type": "stream",
     "text": [
      "Falciparum/gt/1701151546-0002-R.jpg\n",
      "Falciparum/gt/1701151546-0003-R.tif\n",
      "Falciparum/gt/1701151546-0003-R.jpg\n",
      "Falciparum/gt/1701151546-0004-R_T.tif\n"
     ]
    },
    {
     "name": "stderr",
     "output_type": "stream",
     "text": [
      "/data/users/g6114450078/.local/lib/python3.7/site-packages/ipykernel_launcher.py:9: UserWarning: Falciparum/gt/1701151546-0004-R_T.jpg is a low contrast image\n",
      "  if __name__ == '__main__':\n",
      "Lossy conversion from float64 to uint8. Range [0, 1]. Convert image to uint8 prior to saving to suppress this warning.\n",
      "/data/users/g6114450078/.local/lib/python3.7/site-packages/ipykernel_launcher.py:9: UserWarning: Falciparum/gt/1701151546-0005-R.jpg is a low contrast image\n",
      "  if __name__ == '__main__':\n",
      "Lossy conversion from float64 to uint8. Range [0, 1]. Convert image to uint8 prior to saving to suppress this warning.\n"
     ]
    },
    {
     "name": "stdout",
     "output_type": "stream",
     "text": [
      "Falciparum/gt/1701151546-0004-R_T.jpg\n",
      "Falciparum/gt/1701151546-0005-R.tif\n",
      "Falciparum/gt/1701151546-0005-R.jpg\n",
      "Falciparum/gt/1701151546-0006-R_T.tif\n"
     ]
    },
    {
     "name": "stderr",
     "output_type": "stream",
     "text": [
      "/data/users/g6114450078/.local/lib/python3.7/site-packages/ipykernel_launcher.py:9: UserWarning: Falciparum/gt/1701151546-0006-R_T.jpg is a low contrast image\n",
      "  if __name__ == '__main__':\n",
      "Lossy conversion from float64 to uint8. Range [0, 1]. Convert image to uint8 prior to saving to suppress this warning.\n",
      "/data/users/g6114450078/.local/lib/python3.7/site-packages/ipykernel_launcher.py:9: UserWarning: Falciparum/gt/1701151546-0007-R.jpg is a low contrast image\n",
      "  if __name__ == '__main__':\n",
      "Lossy conversion from float64 to uint8. Range [0, 1]. Convert image to uint8 prior to saving to suppress this warning.\n"
     ]
    },
    {
     "name": "stdout",
     "output_type": "stream",
     "text": [
      "Falciparum/gt/1701151546-0006-R_T.jpg\n",
      "Falciparum/gt/1701151546-0007-R.tif\n",
      "Falciparum/gt/1701151546-0007-R.jpg\n",
      "Falciparum/gt/1701151546-0008-R-T.tif\n"
     ]
    },
    {
     "name": "stderr",
     "output_type": "stream",
     "text": [
      "/data/users/g6114450078/.local/lib/python3.7/site-packages/ipykernel_launcher.py:9: UserWarning: Falciparum/gt/1701151546-0008-R-T.jpg is a low contrast image\n",
      "  if __name__ == '__main__':\n",
      "Lossy conversion from float64 to uint8. Range [0, 1]. Convert image to uint8 prior to saving to suppress this warning.\n",
      "/data/users/g6114450078/.local/lib/python3.7/site-packages/ipykernel_launcher.py:9: UserWarning: Falciparum/gt/1701151546-0009-R.jpg is a low contrast image\n",
      "  if __name__ == '__main__':\n",
      "Lossy conversion from float64 to uint8. Range [0, 1]. Convert image to uint8 prior to saving to suppress this warning.\n"
     ]
    },
    {
     "name": "stdout",
     "output_type": "stream",
     "text": [
      "Falciparum/gt/1701151546-0008-R-T.jpg\n",
      "Falciparum/gt/1701151546-0009-R.tif\n",
      "Falciparum/gt/1701151546-0009-R.jpg\n",
      "Falciparum/gt/1701151546-0010-R.tif\n"
     ]
    },
    {
     "name": "stderr",
     "output_type": "stream",
     "text": [
      "/data/users/g6114450078/.local/lib/python3.7/site-packages/ipykernel_launcher.py:9: UserWarning: Falciparum/gt/1701151546-0010-R.jpg is a low contrast image\n",
      "  if __name__ == '__main__':\n",
      "Lossy conversion from float64 to uint8. Range [0, 1]. Convert image to uint8 prior to saving to suppress this warning.\n",
      "/data/users/g6114450078/.local/lib/python3.7/site-packages/ipykernel_launcher.py:9: UserWarning: Falciparum/gt/1701151546-0011-R_T.jpg is a low contrast image\n",
      "  if __name__ == '__main__':\n",
      "Lossy conversion from float64 to uint8. Range [0, 1]. Convert image to uint8 prior to saving to suppress this warning.\n"
     ]
    },
    {
     "name": "stdout",
     "output_type": "stream",
     "text": [
      "Falciparum/gt/1701151546-0010-R.jpg\n",
      "Falciparum/gt/1701151546-0011-R_T.tif\n",
      "Falciparum/gt/1701151546-0011-R_T.jpg\n",
      "Falciparum/gt/1701151546-0012-R.tif\n"
     ]
    },
    {
     "name": "stderr",
     "output_type": "stream",
     "text": [
      "/data/users/g6114450078/.local/lib/python3.7/site-packages/ipykernel_launcher.py:9: UserWarning: Falciparum/gt/1701151546-0012-R.jpg is a low contrast image\n",
      "  if __name__ == '__main__':\n",
      "Lossy conversion from float64 to uint8. Range [0, 1]. Convert image to uint8 prior to saving to suppress this warning.\n",
      "/data/users/g6114450078/.local/lib/python3.7/site-packages/ipykernel_launcher.py:9: UserWarning: Falciparum/gt/1701151546-0013-R-T.jpg is a low contrast image\n",
      "  if __name__ == '__main__':\n",
      "Lossy conversion from float64 to uint8. Range [0, 1]. Convert image to uint8 prior to saving to suppress this warning.\n"
     ]
    },
    {
     "name": "stdout",
     "output_type": "stream",
     "text": [
      "Falciparum/gt/1701151546-0012-R.jpg\n",
      "Falciparum/gt/1701151546-0013-R-T.tif\n",
      "Falciparum/gt/1701151546-0013-R-T.jpg\n",
      "Falciparum/gt/1701151546-0014-R.tif\n"
     ]
    },
    {
     "name": "stderr",
     "output_type": "stream",
     "text": [
      "Lossy conversion from float64 to uint8. Range [0, 1]. Convert image to uint8 prior to saving to suppress this warning.\n",
      "Lossy conversion from float64 to uint8. Range [0, 1]. Convert image to uint8 prior to saving to suppress this warning.\n"
     ]
    },
    {
     "name": "stdout",
     "output_type": "stream",
     "text": [
      "Falciparum/gt/1701151546-0014-R.jpg\n",
      "Falciparum/gt/1701151546-0015-R_T.tif\n",
      "Falciparum/gt/1701151546-0015-R_T.jpg\n",
      "Falciparum/gt/1704282807-0001-R.tif\n"
     ]
    },
    {
     "name": "stderr",
     "output_type": "stream",
     "text": [
      "/data/users/g6114450078/.local/lib/python3.7/site-packages/ipykernel_launcher.py:9: UserWarning: Falciparum/gt/1704282807-0001-R.jpg is a low contrast image\n",
      "  if __name__ == '__main__':\n",
      "Lossy conversion from float64 to uint8. Range [0, 1]. Convert image to uint8 prior to saving to suppress this warning.\n",
      "Lossy conversion from float64 to uint8. Range [0, 1]. Convert image to uint8 prior to saving to suppress this warning.\n"
     ]
    },
    {
     "name": "stdout",
     "output_type": "stream",
     "text": [
      "Falciparum/gt/1704282807-0001-R.jpg\n",
      "Falciparum/gt/1704282807-0002-R.tif\n",
      "Falciparum/gt/1704282807-0002-R.jpg\n",
      "Falciparum/gt/1704282807-0003-R.tif\n"
     ]
    },
    {
     "name": "stderr",
     "output_type": "stream",
     "text": [
      "/data/users/g6114450078/.local/lib/python3.7/site-packages/ipykernel_launcher.py:9: UserWarning: Falciparum/gt/1704282807-0003-R.jpg is a low contrast image\n",
      "  if __name__ == '__main__':\n",
      "Lossy conversion from float64 to uint8. Range [0, 1]. Convert image to uint8 prior to saving to suppress this warning.\n",
      "/data/users/g6114450078/.local/lib/python3.7/site-packages/ipykernel_launcher.py:9: UserWarning: Falciparum/gt/1704282807-0004-R_T.jpg is a low contrast image\n",
      "  if __name__ == '__main__':\n",
      "Lossy conversion from float64 to uint8. Range [0, 1]. Convert image to uint8 prior to saving to suppress this warning.\n"
     ]
    },
    {
     "name": "stdout",
     "output_type": "stream",
     "text": [
      "Falciparum/gt/1704282807-0003-R.jpg\n",
      "Falciparum/gt/1704282807-0004-R_T.tif\n",
      "Falciparum/gt/1704282807-0004-R_T.jpg\n",
      "Falciparum/gt/1704282807-0005-R.tif\n"
     ]
    },
    {
     "name": "stderr",
     "output_type": "stream",
     "text": [
      "Lossy conversion from float64 to uint8. Range [0, 1]. Convert image to uint8 prior to saving to suppress this warning.\n",
      "Lossy conversion from float64 to uint8. Range [0, 1]. Convert image to uint8 prior to saving to suppress this warning.\n"
     ]
    },
    {
     "name": "stdout",
     "output_type": "stream",
     "text": [
      "Falciparum/gt/1704282807-0005-R.jpg\n",
      "Falciparum/gt/1704282807-0006-R.tif\n",
      "Falciparum/gt/1704282807-0006-R.jpg\n",
      "Falciparum/gt/1704282807-0007-R.tif\n"
     ]
    },
    {
     "name": "stderr",
     "output_type": "stream",
     "text": [
      "Lossy conversion from float64 to uint8. Range [0, 1]. Convert image to uint8 prior to saving to suppress this warning.\n",
      "Lossy conversion from float64 to uint8. Range [0, 1]. Convert image to uint8 prior to saving to suppress this warning.\n"
     ]
    },
    {
     "name": "stdout",
     "output_type": "stream",
     "text": [
      "Falciparum/gt/1704282807-0007-R.jpg\n",
      "Falciparum/gt/1704282807-0008-R.tif\n"
     ]
    },
    {
     "name": "stderr",
     "output_type": "stream",
     "text": [
      "/data/users/g6114450078/.local/lib/python3.7/site-packages/ipykernel_launcher.py:9: UserWarning: Falciparum/gt/1704282807-0009-R.jpg is a low contrast image\n",
      "  if __name__ == '__main__':\n",
      "Lossy conversion from float64 to uint8. Range [0, 1]. Convert image to uint8 prior to saving to suppress this warning.\n"
     ]
    },
    {
     "name": "stdout",
     "output_type": "stream",
     "text": [
      "Falciparum/gt/1704282807-0008-R.jpg\n",
      "Falciparum/gt/1704282807-0009-R.tif\n",
      "Falciparum/gt/1704282807-0009-R.jpg\n",
      "Falciparum/gt/1704282807-0010-R.tif\n"
     ]
    },
    {
     "name": "stderr",
     "output_type": "stream",
     "text": [
      "Lossy conversion from float64 to uint8. Range [0, 1]. Convert image to uint8 prior to saving to suppress this warning.\n",
      "Lossy conversion from float64 to uint8. Range [0, 1]. Convert image to uint8 prior to saving to suppress this warning.\n"
     ]
    },
    {
     "name": "stdout",
     "output_type": "stream",
     "text": [
      "Falciparum/gt/1704282807-0010-R.jpg\n",
      "Falciparum/gt/1704282807-0011-R_T.tif\n"
     ]
    },
    {
     "name": "stderr",
     "output_type": "stream",
     "text": [
      "Lossy conversion from float64 to uint8. Range [0, 1]. Convert image to uint8 prior to saving to suppress this warning.\n"
     ]
    },
    {
     "name": "stdout",
     "output_type": "stream",
     "text": [
      "Falciparum/gt/1704282807-0011-R_T.jpg\n",
      "Falciparum/gt/1704282807-0012-R_T.tif\n",
      "Falciparum/gt/1704282807-0012-R_T.jpg\n",
      "Falciparum/gt/1704282807-0013-R_T.tif\n"
     ]
    },
    {
     "name": "stderr",
     "output_type": "stream",
     "text": [
      "Lossy conversion from float64 to uint8. Range [0, 1]. Convert image to uint8 prior to saving to suppress this warning.\n",
      "Lossy conversion from float64 to uint8. Range [0, 1]. Convert image to uint8 prior to saving to suppress this warning.\n"
     ]
    },
    {
     "name": "stdout",
     "output_type": "stream",
     "text": [
      "Falciparum/gt/1704282807-0013-R_T.jpg\n",
      "Falciparum/gt/1704282807-0014-R.tif\n",
      "Falciparum/gt/1704282807-0014-R.jpg\n",
      "Falciparum/gt/1704282807-0015-R.tif\n"
     ]
    },
    {
     "name": "stderr",
     "output_type": "stream",
     "text": [
      "Lossy conversion from float64 to uint8. Range [0, 1]. Convert image to uint8 prior to saving to suppress this warning.\n",
      "Lossy conversion from float64 to uint8. Range [0, 1]. Convert image to uint8 prior to saving to suppress this warning.\n"
     ]
    },
    {
     "name": "stdout",
     "output_type": "stream",
     "text": [
      "Falciparum/gt/1704282807-0015-R.jpg\n",
      "Falciparum/gt/1704282807-0016-R.tif\n",
      "Falciparum/gt/1704282807-0016-R.jpg\n",
      "Falciparum/gt/1704282807-0017-R.tif\n"
     ]
    },
    {
     "name": "stderr",
     "output_type": "stream",
     "text": [
      "Lossy conversion from float64 to uint8. Range [0, 1]. Convert image to uint8 prior to saving to suppress this warning.\n",
      "Lossy conversion from float64 to uint8. Range [0, 1]. Convert image to uint8 prior to saving to suppress this warning.\n"
     ]
    },
    {
     "name": "stdout",
     "output_type": "stream",
     "text": [
      "Falciparum/gt/1704282807-0017-R.jpg\n",
      "Falciparum/gt/1704282807-0018-R.tif\n",
      "Falciparum/gt/1704282807-0018-R.jpg\n",
      "Falciparum/gt/1704282807-0019-R_T.tif\n"
     ]
    },
    {
     "name": "stderr",
     "output_type": "stream",
     "text": [
      "Lossy conversion from float64 to uint8. Range [0, 1]. Convert image to uint8 prior to saving to suppress this warning.\n",
      "Lossy conversion from float64 to uint8. Range [0, 1]. Convert image to uint8 prior to saving to suppress this warning.\n"
     ]
    },
    {
     "name": "stdout",
     "output_type": "stream",
     "text": [
      "Falciparum/gt/1704282807-0019-R_T.jpg\n",
      "Falciparum/gt/1704282807-0020-R_T_S.tif\n",
      "Falciparum/gt/1704282807-0020-R_T_S.jpg\n",
      "Falciparum/gt/1704282807-0021_R_T.tif\n"
     ]
    },
    {
     "name": "stderr",
     "output_type": "stream",
     "text": [
      "Lossy conversion from float64 to uint8. Range [0, 1]. Convert image to uint8 prior to saving to suppress this warning.\n",
      "Lossy conversion from float64 to uint8. Range [0, 1]. Convert image to uint8 prior to saving to suppress this warning.\n",
      "Lossy conversion from float64 to uint8. Range [0, 1]. Convert image to uint8 prior to saving to suppress this warning.\n"
     ]
    },
    {
     "name": "stdout",
     "output_type": "stream",
     "text": [
      "Falciparum/gt/1704282807-0021_R_T.jpg\n",
      "Falciparum/gt/1305121398-0001-R_S.jpg\n",
      "Falciparum/gt/1305121398-0001-R_S.jpg\n",
      "Falciparum/gt/1305121398-0003-R.jpg\n",
      "Falciparum/gt/1305121398-0003-R.jpg\n",
      "Falciparum/gt/1305121398-0004-R.jpg\n"
     ]
    },
    {
     "name": "stderr",
     "output_type": "stream",
     "text": [
      "Lossy conversion from float64 to uint8. Range [0, 1]. Convert image to uint8 prior to saving to suppress this warning.\n",
      "Lossy conversion from float64 to uint8. Range [0, 1]. Convert image to uint8 prior to saving to suppress this warning.\n",
      "Lossy conversion from float64 to uint8. Range [0, 1]. Convert image to uint8 prior to saving to suppress this warning.\n"
     ]
    },
    {
     "name": "stdout",
     "output_type": "stream",
     "text": [
      "Falciparum/gt/1305121398-0004-R.jpg\n",
      "Falciparum/gt/1305121398-0005-T.jpg\n",
      "Falciparum/gt/1305121398-0005-T.jpg\n",
      "Falciparum/gt/1305121398-0006-R.jpg\n",
      "Falciparum/gt/1305121398-0006-R.jpg\n",
      "Falciparum/gt/1305121398-0007-R.jpg\n"
     ]
    },
    {
     "name": "stderr",
     "output_type": "stream",
     "text": [
      "Lossy conversion from float64 to uint8. Range [0, 1]. Convert image to uint8 prior to saving to suppress this warning.\n",
      "Lossy conversion from float64 to uint8. Range [0, 1]. Convert image to uint8 prior to saving to suppress this warning.\n",
      "Lossy conversion from float64 to uint8. Range [0, 1]. Convert image to uint8 prior to saving to suppress this warning.\n"
     ]
    },
    {
     "name": "stdout",
     "output_type": "stream",
     "text": [
      "Falciparum/gt/1305121398-0007-R.jpg\n",
      "Falciparum/gt/1305121398-0008-R.jpg\n",
      "Falciparum/gt/1305121398-0008-R.jpg\n",
      "Falciparum/gt/1305121398-0010-S.jpg\n",
      "Falciparum/gt/1305121398-0010-S.jpg\n",
      "Falciparum/gt/1305121398-0011-S.jpg\n"
     ]
    },
    {
     "name": "stderr",
     "output_type": "stream",
     "text": [
      "Lossy conversion from float64 to uint8. Range [0, 1]. Convert image to uint8 prior to saving to suppress this warning.\n",
      "Lossy conversion from float64 to uint8. Range [0, 1]. Convert image to uint8 prior to saving to suppress this warning.\n",
      "Lossy conversion from float64 to uint8. Range [0, 1]. Convert image to uint8 prior to saving to suppress this warning.\n"
     ]
    },
    {
     "name": "stdout",
     "output_type": "stream",
     "text": [
      "Falciparum/gt/1305121398-0011-S.jpg\n",
      "Falciparum/gt/1305121398-0012-S.jpg\n",
      "Falciparum/gt/1305121398-0012-S.jpg\n",
      "Falciparum/gt/1305121398-0013-S.jpg\n",
      "Falciparum/gt/1305121398-0013-S.jpg\n",
      "Falciparum/gt/1305121398-0014-S.jpg\n"
     ]
    },
    {
     "name": "stderr",
     "output_type": "stream",
     "text": [
      "Lossy conversion from float64 to uint8. Range [0, 1]. Convert image to uint8 prior to saving to suppress this warning.\n",
      "Lossy conversion from float64 to uint8. Range [0, 1]. Convert image to uint8 prior to saving to suppress this warning.\n"
     ]
    },
    {
     "name": "stdout",
     "output_type": "stream",
     "text": [
      "Falciparum/gt/1305121398-0014-S.jpg\n",
      "Falciparum/gt/1305121398-0015-S.jpg\n",
      "Falciparum/gt/1305121398-0015-S.jpg\n",
      "Falciparum/gt/1305121398-0016-T.jpg\n"
     ]
    },
    {
     "name": "stderr",
     "output_type": "stream",
     "text": [
      "Lossy conversion from float64 to uint8. Range [0, 1]. Convert image to uint8 prior to saving to suppress this warning.\n",
      "Lossy conversion from float64 to uint8. Range [0, 1]. Convert image to uint8 prior to saving to suppress this warning.\n"
     ]
    },
    {
     "name": "stdout",
     "output_type": "stream",
     "text": [
      "Falciparum/gt/1305121398-0016-T.jpg\n",
      "Falciparum/gt/1305121398-0017-R.jpg\n",
      "Falciparum/gt/1305121398-0017-R.jpg\n",
      "Falciparum/gt/1305121398-0018-S.jpg\n"
     ]
    },
    {
     "name": "stderr",
     "output_type": "stream",
     "text": [
      "Lossy conversion from float64 to uint8. Range [0, 1]. Convert image to uint8 prior to saving to suppress this warning.\n",
      "Lossy conversion from float64 to uint8. Range [0, 1]. Convert image to uint8 prior to saving to suppress this warning.\n"
     ]
    },
    {
     "name": "stdout",
     "output_type": "stream",
     "text": [
      "Falciparum/gt/1305121398-0018-S.jpg\n",
      "Falciparum/gt/1305121398-0019-R.jpg\n",
      "Falciparum/gt/1305121398-0019-R.jpg\n",
      "Falciparum/gt/1305121398-0020-S.jpg\n"
     ]
    },
    {
     "name": "stderr",
     "output_type": "stream",
     "text": [
      "Lossy conversion from float64 to uint8. Range [0, 1]. Convert image to uint8 prior to saving to suppress this warning.\n",
      "Lossy conversion from float64 to uint8. Range [0, 1]. Convert image to uint8 prior to saving to suppress this warning.\n",
      "Lossy conversion from float64 to uint8. Range [0, 1]. Convert image to uint8 prior to saving to suppress this warning.\n"
     ]
    },
    {
     "name": "stdout",
     "output_type": "stream",
     "text": [
      "Falciparum/gt/1305121398-0020-S.jpg\n",
      "Falciparum/gt/1305121398-0021-S.jpg\n",
      "Falciparum/gt/1305121398-0021-S.jpg\n",
      "Falciparum/gt/1305121398-0022-S.jpg\n",
      "Falciparum/gt/1305121398-0022-S.jpg\n",
      "Falciparum/gt/1307210661-0001-R.jpg\n"
     ]
    },
    {
     "name": "stderr",
     "output_type": "stream",
     "text": [
      "Lossy conversion from float64 to uint8. Range [0, 1]. Convert image to uint8 prior to saving to suppress this warning.\n",
      "Lossy conversion from float64 to uint8. Range [0, 1]. Convert image to uint8 prior to saving to suppress this warning.\n",
      "Lossy conversion from float64 to uint8. Range [0, 1]. Convert image to uint8 prior to saving to suppress this warning.\n"
     ]
    },
    {
     "name": "stdout",
     "output_type": "stream",
     "text": [
      "Falciparum/gt/1307210661-0001-R.jpg\n",
      "Falciparum/gt/1307210661-0002-R.jpg\n",
      "Falciparum/gt/1307210661-0002-R.jpg\n",
      "Falciparum/gt/1307210661-0003-R.jpg\n",
      "Falciparum/gt/1307210661-0003-R.jpg\n",
      "Falciparum/gt/1307210661-0004-R.jpg\n"
     ]
    },
    {
     "name": "stderr",
     "output_type": "stream",
     "text": [
      "Lossy conversion from float64 to uint8. Range [0, 1]. Convert image to uint8 prior to saving to suppress this warning.\n",
      "Lossy conversion from float64 to uint8. Range [0, 1]. Convert image to uint8 prior to saving to suppress this warning.\n",
      "Lossy conversion from float64 to uint8. Range [0, 1]. Convert image to uint8 prior to saving to suppress this warning.\n"
     ]
    },
    {
     "name": "stdout",
     "output_type": "stream",
     "text": [
      "Falciparum/gt/1307210661-0004-R.jpg\n",
      "Falciparum/gt/1307210661-0005-R.jpg\n",
      "Falciparum/gt/1307210661-0005-R.jpg\n",
      "Falciparum/gt/1307210661-0006-R.jpg\n",
      "Falciparum/gt/1307210661-0006-R.jpg\n",
      "Falciparum/gt/1307210661-0007-R.jpg\n"
     ]
    },
    {
     "name": "stderr",
     "output_type": "stream",
     "text": [
      "Lossy conversion from float64 to uint8. Range [0, 1]. Convert image to uint8 prior to saving to suppress this warning.\n",
      "Lossy conversion from float64 to uint8. Range [0, 1]. Convert image to uint8 prior to saving to suppress this warning.\n",
      "Lossy conversion from float64 to uint8. Range [0, 1]. Convert image to uint8 prior to saving to suppress this warning.\n"
     ]
    },
    {
     "name": "stdout",
     "output_type": "stream",
     "text": [
      "Falciparum/gt/1307210661-0007-R.jpg\n",
      "Falciparum/gt/1307210661-0008-R.jpg\n",
      "Falciparum/gt/1307210661-0008-R.jpg\n",
      "Falciparum/gt/1307210661-0009-R.jpg\n",
      "Falciparum/gt/1307210661-0009-R.jpg\n",
      "Falciparum/gt/1307210661-0010-R.jpg\n"
     ]
    },
    {
     "name": "stderr",
     "output_type": "stream",
     "text": [
      "Lossy conversion from float64 to uint8. Range [0, 1]. Convert image to uint8 prior to saving to suppress this warning.\n",
      "Lossy conversion from float64 to uint8. Range [0, 1]. Convert image to uint8 prior to saving to suppress this warning.\n",
      "Lossy conversion from float64 to uint8. Range [0, 1]. Convert image to uint8 prior to saving to suppress this warning.\n"
     ]
    },
    {
     "name": "stdout",
     "output_type": "stream",
     "text": [
      "Falciparum/gt/1307210661-0010-R.jpg\n",
      "Falciparum/gt/1401063467-0001-S.jpg\n",
      "Falciparum/gt/1401063467-0001-S.jpg\n",
      "Falciparum/gt/1401063467-0002-T.jpg\n",
      "Falciparum/gt/1401063467-0002-T.jpg\n",
      "Falciparum/gt/1401063467-0003-T.jpg\n"
     ]
    },
    {
     "name": "stderr",
     "output_type": "stream",
     "text": [
      "Lossy conversion from float64 to uint8. Range [0, 1]. Convert image to uint8 prior to saving to suppress this warning.\n",
      "Lossy conversion from float64 to uint8. Range [0, 1]. Convert image to uint8 prior to saving to suppress this warning.\n",
      "Lossy conversion from float64 to uint8. Range [0, 1]. Convert image to uint8 prior to saving to suppress this warning.\n"
     ]
    },
    {
     "name": "stdout",
     "output_type": "stream",
     "text": [
      "Falciparum/gt/1401063467-0003-T.jpg\n",
      "Falciparum/gt/1401063467-0004-R.jpg\n",
      "Falciparum/gt/1401063467-0004-R.jpg\n",
      "Falciparum/gt/1401063467-0005-T.jpg\n",
      "Falciparum/gt/1401063467-0005-T.jpg\n",
      "Falciparum/gt/1401063467-0006-T.jpg\n"
     ]
    },
    {
     "name": "stderr",
     "output_type": "stream",
     "text": [
      "Lossy conversion from float64 to uint8. Range [0, 1]. Convert image to uint8 prior to saving to suppress this warning.\n",
      "Lossy conversion from float64 to uint8. Range [0, 1]. Convert image to uint8 prior to saving to suppress this warning.\n",
      "Lossy conversion from float64 to uint8. Range [0, 1]. Convert image to uint8 prior to saving to suppress this warning.\n"
     ]
    },
    {
     "name": "stdout",
     "output_type": "stream",
     "text": [
      "Falciparum/gt/1401063467-0006-T.jpg\n",
      "Falciparum/gt/1401063467-0007-S.jpg\n",
      "Falciparum/gt/1401063467-0007-S.jpg\n",
      "Falciparum/gt/1401063467-0008-S.jpg\n",
      "Falciparum/gt/1401063467-0008-S.jpg\n",
      "Falciparum/gt/1401063467-0009-T.jpg\n"
     ]
    },
    {
     "name": "stderr",
     "output_type": "stream",
     "text": [
      "Lossy conversion from float64 to uint8. Range [0, 1]. Convert image to uint8 prior to saving to suppress this warning.\n",
      "Lossy conversion from float64 to uint8. Range [0, 1]. Convert image to uint8 prior to saving to suppress this warning.\n",
      "Lossy conversion from float64 to uint8. Range [0, 1]. Convert image to uint8 prior to saving to suppress this warning.\n"
     ]
    },
    {
     "name": "stdout",
     "output_type": "stream",
     "text": [
      "Falciparum/gt/1401063467-0009-T.jpg\n",
      "Falciparum/gt/1401063467-0010-T.jpg\n",
      "Falciparum/gt/1401063467-0010-T.jpg\n",
      "Falciparum/gt/1401063467-0011-S.jpg\n",
      "Falciparum/gt/1401063467-0011-S.jpg\n",
      "Falciparum/gt/1401063467-0012-S.jpg\n"
     ]
    },
    {
     "name": "stderr",
     "output_type": "stream",
     "text": [
      "Lossy conversion from float64 to uint8. Range [0, 1]. Convert image to uint8 prior to saving to suppress this warning.\n",
      "Lossy conversion from float64 to uint8. Range [0, 1]. Convert image to uint8 prior to saving to suppress this warning.\n",
      "Lossy conversion from float64 to uint8. Range [0, 1]. Convert image to uint8 prior to saving to suppress this warning.\n"
     ]
    },
    {
     "name": "stdout",
     "output_type": "stream",
     "text": [
      "Falciparum/gt/1401063467-0012-S.jpg\n",
      "Falciparum/gt/1401063467-0013-T.jpg\n",
      "Falciparum/gt/1401063467-0013-T.jpg\n",
      "Falciparum/gt/1405022890-0001-R.jpg\n",
      "Falciparum/gt/1405022890-0001-R.jpg\n",
      "Falciparum/gt/1405022890-0002-R.jpg\n"
     ]
    },
    {
     "name": "stderr",
     "output_type": "stream",
     "text": [
      "Lossy conversion from float64 to uint8. Range [0, 1]. Convert image to uint8 prior to saving to suppress this warning.\n",
      "Lossy conversion from float64 to uint8. Range [0, 1]. Convert image to uint8 prior to saving to suppress this warning.\n",
      "Lossy conversion from float64 to uint8. Range [0, 1]. Convert image to uint8 prior to saving to suppress this warning.\n"
     ]
    },
    {
     "name": "stdout",
     "output_type": "stream",
     "text": [
      "Falciparum/gt/1405022890-0002-R.jpg\n",
      "Falciparum/gt/1405022890-0003-R.jpg\n",
      "Falciparum/gt/1405022890-0003-R.jpg\n",
      "Falciparum/gt/1405022890-0004-R.jpg\n",
      "Falciparum/gt/1405022890-0004-R.jpg\n",
      "Falciparum/gt/1405022890-0005-R.jpg\n"
     ]
    },
    {
     "name": "stderr",
     "output_type": "stream",
     "text": [
      "Lossy conversion from float64 to uint8. Range [0, 1]. Convert image to uint8 prior to saving to suppress this warning.\n",
      "Lossy conversion from float64 to uint8. Range [0, 1]. Convert image to uint8 prior to saving to suppress this warning.\n",
      "Lossy conversion from float64 to uint8. Range [0, 1]. Convert image to uint8 prior to saving to suppress this warning.\n"
     ]
    },
    {
     "name": "stdout",
     "output_type": "stream",
     "text": [
      "Falciparum/gt/1405022890-0005-R.jpg\n",
      "Falciparum/gt/1405022890-0006-R.jpg\n",
      "Falciparum/gt/1405022890-0006-R.jpg\n",
      "Falciparum/gt/1408161544-0001-S_R.jpg\n",
      "Falciparum/gt/1408161544-0001-S_R.jpg\n",
      "Falciparum/gt/1408161544-0002-R_S.jpg\n"
     ]
    },
    {
     "name": "stderr",
     "output_type": "stream",
     "text": [
      "Lossy conversion from float64 to uint8. Range [0, 1]. Convert image to uint8 prior to saving to suppress this warning.\n",
      "Lossy conversion from float64 to uint8. Range [0, 1]. Convert image to uint8 prior to saving to suppress this warning.\n",
      "Lossy conversion from float64 to uint8. Range [0, 1]. Convert image to uint8 prior to saving to suppress this warning.\n"
     ]
    },
    {
     "name": "stdout",
     "output_type": "stream",
     "text": [
      "Falciparum/gt/1408161544-0002-R_S.jpg\n",
      "Falciparum/gt/1408161544-0003-R_S.jpg\n",
      "Falciparum/gt/1408161544-0003-R_S.jpg\n",
      "Falciparum/gt/1408290968-0001-R.jpg\n",
      "Falciparum/gt/1408290968-0001-R.jpg\n",
      "Falciparum/gt/1408290968-0002-R.jpg\n"
     ]
    },
    {
     "name": "stderr",
     "output_type": "stream",
     "text": [
      "Lossy conversion from float64 to uint8. Range [0, 1]. Convert image to uint8 prior to saving to suppress this warning.\n",
      "Lossy conversion from float64 to uint8. Range [0, 1]. Convert image to uint8 prior to saving to suppress this warning.\n",
      "Lossy conversion from float64 to uint8. Range [0, 1]. Convert image to uint8 prior to saving to suppress this warning.\n"
     ]
    },
    {
     "name": "stdout",
     "output_type": "stream",
     "text": [
      "Falciparum/gt/1408290968-0002-R.jpg\n",
      "Falciparum/gt/1408290968-0003-R.jpg\n",
      "Falciparum/gt/1408290968-0003-R.jpg\n",
      "Falciparum/gt/1409171742-0001-R.jpg\n",
      "Falciparum/gt/1409171742-0001-R.jpg\n",
      "Falciparum/gt/1409171742-0002-R.jpg\n"
     ]
    },
    {
     "name": "stderr",
     "output_type": "stream",
     "text": [
      "Lossy conversion from float64 to uint8. Range [0, 1]. Convert image to uint8 prior to saving to suppress this warning.\n",
      "Lossy conversion from float64 to uint8. Range [0, 1]. Convert image to uint8 prior to saving to suppress this warning.\n",
      "Lossy conversion from float64 to uint8. Range [0, 1]. Convert image to uint8 prior to saving to suppress this warning.\n"
     ]
    },
    {
     "name": "stdout",
     "output_type": "stream",
     "text": [
      "Falciparum/gt/1409171742-0002-R.jpg\n",
      "Falciparum/gt/1409171742-0003-R.jpg\n",
      "Falciparum/gt/1409171742-0003-R.jpg\n",
      "Falciparum/gt/1409171742-0004-R.jpg\n",
      "Falciparum/gt/1409171742-0004-R.jpg\n",
      "Falciparum/gt/1409171742-0005-R.jpg\n"
     ]
    },
    {
     "name": "stderr",
     "output_type": "stream",
     "text": [
      "Lossy conversion from float64 to uint8. Range [0, 1]. Convert image to uint8 prior to saving to suppress this warning.\n",
      "Lossy conversion from float64 to uint8. Range [0, 1]. Convert image to uint8 prior to saving to suppress this warning.\n",
      "Lossy conversion from float64 to uint8. Range [0, 1]. Convert image to uint8 prior to saving to suppress this warning.\n"
     ]
    },
    {
     "name": "stdout",
     "output_type": "stream",
     "text": [
      "Falciparum/gt/1409171742-0005-R.jpg\n",
      "Falciparum/gt/1409171742-0006-R.jpg\n",
      "Falciparum/gt/1409171742-0006-R.jpg\n",
      "Falciparum/gt/1409171742-0007-R.jpg\n",
      "Falciparum/gt/1409171742-0007-R.jpg\n",
      "Falciparum/gt/1409171742-0008-R.jpg\n"
     ]
    },
    {
     "name": "stderr",
     "output_type": "stream",
     "text": [
      "Lossy conversion from float64 to uint8. Range [0, 1]. Convert image to uint8 prior to saving to suppress this warning.\n",
      "Lossy conversion from float64 to uint8. Range [0, 1]. Convert image to uint8 prior to saving to suppress this warning.\n",
      "Lossy conversion from float64 to uint8. Range [0, 1]. Convert image to uint8 prior to saving to suppress this warning.\n"
     ]
    },
    {
     "name": "stdout",
     "output_type": "stream",
     "text": [
      "Falciparum/gt/1409171742-0008-R.jpg\n",
      "Falciparum/gt/1409171742-0009-R.jpg\n",
      "Falciparum/gt/1409171742-0009-R.jpg\n",
      "Falciparum/gt/1409171742-0010-R.jpg\n",
      "Falciparum/gt/1409171742-0010-R.jpg\n",
      "Falciparum/gt/1409191647-0001-R.jpg\n"
     ]
    },
    {
     "name": "stderr",
     "output_type": "stream",
     "text": [
      "Lossy conversion from float64 to uint8. Range [0, 1]. Convert image to uint8 prior to saving to suppress this warning.\n",
      "Lossy conversion from float64 to uint8. Range [0, 1]. Convert image to uint8 prior to saving to suppress this warning.\n",
      "Lossy conversion from float64 to uint8. Range [0, 1]. Convert image to uint8 prior to saving to suppress this warning.\n"
     ]
    },
    {
     "name": "stdout",
     "output_type": "stream",
     "text": [
      "Falciparum/gt/1409191647-0001-R.jpg\n",
      "Falciparum/gt/1409191647-0002-R.jpg\n",
      "Falciparum/gt/1409191647-0002-R.jpg\n",
      "Falciparum/gt/1409191647-0003-R.jpg\n",
      "Falciparum/gt/1409191647-0003-R.jpg\n",
      "Falciparum/gt/1409191647-0004-R.jpg\n"
     ]
    },
    {
     "name": "stderr",
     "output_type": "stream",
     "text": [
      "Lossy conversion from float64 to uint8. Range [0, 1]. Convert image to uint8 prior to saving to suppress this warning.\n",
      "Lossy conversion from float64 to uint8. Range [0, 1]. Convert image to uint8 prior to saving to suppress this warning.\n",
      "Lossy conversion from float64 to uint8. Range [0, 1]. Convert image to uint8 prior to saving to suppress this warning.\n"
     ]
    },
    {
     "name": "stdout",
     "output_type": "stream",
     "text": [
      "Falciparum/gt/1409191647-0004-R.jpg\n",
      "Falciparum/gt/1409191647-0005-R.jpg\n",
      "Falciparum/gt/1409191647-0005-R.jpg\n",
      "Falciparum/gt/1409191647-0006-R.jpg\n",
      "Falciparum/gt/1409191647-0006-R.jpg\n",
      "Falciparum/gt/1409191647-0007-R.jpg\n"
     ]
    },
    {
     "name": "stderr",
     "output_type": "stream",
     "text": [
      "Lossy conversion from float64 to uint8. Range [0, 1]. Convert image to uint8 prior to saving to suppress this warning.\n",
      "Lossy conversion from float64 to uint8. Range [0, 1]. Convert image to uint8 prior to saving to suppress this warning.\n",
      "Lossy conversion from float64 to uint8. Range [0, 1]. Convert image to uint8 prior to saving to suppress this warning.\n"
     ]
    },
    {
     "name": "stdout",
     "output_type": "stream",
     "text": [
      "Falciparum/gt/1409191647-0007-R.jpg\n",
      "Falciparum/gt/1409191647-0008-T.jpg\n",
      "Falciparum/gt/1409191647-0008-T.jpg\n",
      "Falciparum/gt/1409191647-0009-R.jpg\n",
      "Falciparum/gt/1409191647-0009-R.jpg\n",
      "Falciparum/gt/1409191647-0010-R.jpg\n"
     ]
    },
    {
     "name": "stderr",
     "output_type": "stream",
     "text": [
      "Lossy conversion from float64 to uint8. Range [0, 1]. Convert image to uint8 prior to saving to suppress this warning.\n",
      "Lossy conversion from float64 to uint8. Range [0, 1]. Convert image to uint8 prior to saving to suppress this warning.\n",
      "Lossy conversion from float64 to uint8. Range [0, 1]. Convert image to uint8 prior to saving to suppress this warning.\n"
     ]
    },
    {
     "name": "stdout",
     "output_type": "stream",
     "text": [
      "Falciparum/gt/1409191647-0010-R.jpg\n",
      "Falciparum/gt/1603223711-0001-T.jpg\n",
      "Falciparum/gt/1603223711-0001-T.jpg\n",
      "Falciparum/gt/1603223711-0002-T.jpg\n",
      "Falciparum/gt/1603223711-0002-T.jpg\n",
      "Falciparum/gt/1603223711-0003-T_R.jpg\n"
     ]
    },
    {
     "name": "stderr",
     "output_type": "stream",
     "text": [
      "Lossy conversion from float64 to uint8. Range [0, 1]. Convert image to uint8 prior to saving to suppress this warning.\n",
      "Lossy conversion from float64 to uint8. Range [0, 1]. Convert image to uint8 prior to saving to suppress this warning.\n",
      "Lossy conversion from float64 to uint8. Range [0, 1]. Convert image to uint8 prior to saving to suppress this warning.\n"
     ]
    },
    {
     "name": "stdout",
     "output_type": "stream",
     "text": [
      "Falciparum/gt/1603223711-0003-T_R.jpg\n",
      "Falciparum/gt/1603223711-0004-R.jpg\n",
      "Falciparum/gt/1603223711-0004-R.jpg\n",
      "Falciparum/gt/1603223711-0005-T.jpg\n",
      "Falciparum/gt/1603223711-0005-T.jpg\n",
      "Falciparum/gt/1603223711-0006-T.jpg\n"
     ]
    },
    {
     "name": "stderr",
     "output_type": "stream",
     "text": [
      "Lossy conversion from float64 to uint8. Range [0, 1]. Convert image to uint8 prior to saving to suppress this warning.\n",
      "Lossy conversion from float64 to uint8. Range [0, 1]. Convert image to uint8 prior to saving to suppress this warning.\n",
      "Lossy conversion from float64 to uint8. Range [0, 1]. Convert image to uint8 prior to saving to suppress this warning.\n"
     ]
    },
    {
     "name": "stdout",
     "output_type": "stream",
     "text": [
      "Falciparum/gt/1603223711-0006-T.jpg\n",
      "Falciparum/gt/1701151546-0001-R_T.jpg\n",
      "Falciparum/gt/1701151546-0001-R_T.jpg\n",
      "Falciparum/gt/1701151546-0002-R.jpg\n",
      "Falciparum/gt/1701151546-0002-R.jpg\n",
      "Falciparum/gt/1701151546-0003-R.jpg\n"
     ]
    },
    {
     "name": "stderr",
     "output_type": "stream",
     "text": [
      "Lossy conversion from float64 to uint8. Range [0, 1]. Convert image to uint8 prior to saving to suppress this warning.\n",
      "Lossy conversion from float64 to uint8. Range [0, 1]. Convert image to uint8 prior to saving to suppress this warning.\n",
      "Lossy conversion from float64 to uint8. Range [0, 1]. Convert image to uint8 prior to saving to suppress this warning.\n"
     ]
    },
    {
     "name": "stdout",
     "output_type": "stream",
     "text": [
      "Falciparum/gt/1701151546-0003-R.jpg\n",
      "Falciparum/gt/1701151546-0004-R_T.jpg\n",
      "Falciparum/gt/1701151546-0004-R_T.jpg\n",
      "Falciparum/gt/1701151546-0005-R.jpg\n",
      "Falciparum/gt/1701151546-0005-R.jpg\n",
      "Falciparum/gt/1701151546-0006-R_T.jpg\n"
     ]
    },
    {
     "name": "stderr",
     "output_type": "stream",
     "text": [
      "Lossy conversion from float64 to uint8. Range [0, 1]. Convert image to uint8 prior to saving to suppress this warning.\n",
      "Lossy conversion from float64 to uint8. Range [0, 1]. Convert image to uint8 prior to saving to suppress this warning.\n",
      "Lossy conversion from float64 to uint8. Range [0, 1]. Convert image to uint8 prior to saving to suppress this warning.\n"
     ]
    },
    {
     "name": "stdout",
     "output_type": "stream",
     "text": [
      "Falciparum/gt/1701151546-0006-R_T.jpg\n",
      "Falciparum/gt/1701151546-0007-R.jpg\n",
      "Falciparum/gt/1701151546-0007-R.jpg\n",
      "Falciparum/gt/1701151546-0008-R-T.jpg\n",
      "Falciparum/gt/1701151546-0008-R-T.jpg\n",
      "Falciparum/gt/1701151546-0009-R.jpg\n"
     ]
    },
    {
     "name": "stderr",
     "output_type": "stream",
     "text": [
      "Lossy conversion from float64 to uint8. Range [0, 1]. Convert image to uint8 prior to saving to suppress this warning.\n",
      "Lossy conversion from float64 to uint8. Range [0, 1]. Convert image to uint8 prior to saving to suppress this warning.\n"
     ]
    },
    {
     "name": "stdout",
     "output_type": "stream",
     "text": [
      "Falciparum/gt/1701151546-0009-R.jpg\n",
      "Falciparum/gt/1701151546-0010-R.jpg\n",
      "Falciparum/gt/1701151546-0010-R.jpg\n",
      "Falciparum/gt/1701151546-0011-R_T.jpg\n"
     ]
    },
    {
     "name": "stderr",
     "output_type": "stream",
     "text": [
      "Lossy conversion from float64 to uint8. Range [0, 1]. Convert image to uint8 prior to saving to suppress this warning.\n",
      "Lossy conversion from float64 to uint8. Range [0, 1]. Convert image to uint8 prior to saving to suppress this warning.\n"
     ]
    },
    {
     "name": "stdout",
     "output_type": "stream",
     "text": [
      "Falciparum/gt/1701151546-0011-R_T.jpg\n",
      "Falciparum/gt/1701151546-0012-R.jpg\n",
      "Falciparum/gt/1701151546-0012-R.jpg\n",
      "Falciparum/gt/1701151546-0014-R.jpg\n"
     ]
    },
    {
     "name": "stderr",
     "output_type": "stream",
     "text": [
      "Lossy conversion from float64 to uint8. Range [0, 1]. Convert image to uint8 prior to saving to suppress this warning.\n",
      "Lossy conversion from float64 to uint8. Range [0, 1]. Convert image to uint8 prior to saving to suppress this warning.\n"
     ]
    },
    {
     "name": "stdout",
     "output_type": "stream",
     "text": [
      "Falciparum/gt/1701151546-0014-R.jpg\n",
      "Falciparum/gt/1701151546-0015-R_T.jpg\n",
      "Falciparum/gt/1701151546-0015-R_T.jpg\n",
      "Falciparum/gt/1704282807-0001-R.jpg\n"
     ]
    },
    {
     "name": "stderr",
     "output_type": "stream",
     "text": [
      "Lossy conversion from float64 to uint8. Range [0, 1]. Convert image to uint8 prior to saving to suppress this warning.\n",
      "Lossy conversion from float64 to uint8. Range [0, 1]. Convert image to uint8 prior to saving to suppress this warning.\n"
     ]
    },
    {
     "name": "stdout",
     "output_type": "stream",
     "text": [
      "Falciparum/gt/1704282807-0001-R.jpg\n",
      "Falciparum/gt/1704282807-0002-R.jpg\n",
      "Falciparum/gt/1704282807-0002-R.jpg\n",
      "Falciparum/gt/1704282807-0003-R.jpg\n"
     ]
    },
    {
     "name": "stderr",
     "output_type": "stream",
     "text": [
      "Lossy conversion from float64 to uint8. Range [0, 1]. Convert image to uint8 prior to saving to suppress this warning.\n",
      "Lossy conversion from float64 to uint8. Range [0, 1]. Convert image to uint8 prior to saving to suppress this warning.\n",
      "Lossy conversion from float64 to uint8. Range [0, 1]. Convert image to uint8 prior to saving to suppress this warning.\n"
     ]
    },
    {
     "name": "stdout",
     "output_type": "stream",
     "text": [
      "Falciparum/gt/1704282807-0003-R.jpg\n",
      "Falciparum/gt/1704282807-0004-R_T.jpg\n",
      "Falciparum/gt/1704282807-0004-R_T.jpg\n",
      "Falciparum/gt/1704282807-0005-R.jpg\n",
      "Falciparum/gt/1704282807-0005-R.jpg\n",
      "Falciparum/gt/1704282807-0006-R.jpg\n"
     ]
    },
    {
     "name": "stderr",
     "output_type": "stream",
     "text": [
      "Lossy conversion from float64 to uint8. Range [0, 1]. Convert image to uint8 prior to saving to suppress this warning.\n",
      "Lossy conversion from float64 to uint8. Range [0, 1]. Convert image to uint8 prior to saving to suppress this warning.\n",
      "Lossy conversion from float64 to uint8. Range [0, 1]. Convert image to uint8 prior to saving to suppress this warning.\n"
     ]
    },
    {
     "name": "stdout",
     "output_type": "stream",
     "text": [
      "Falciparum/gt/1704282807-0006-R.jpg\n",
      "Falciparum/gt/1704282807-0007-R.jpg\n",
      "Falciparum/gt/1704282807-0007-R.jpg\n",
      "Falciparum/gt/1704282807-0008-R.jpg\n",
      "Falciparum/gt/1704282807-0008-R.jpg\n",
      "Falciparum/gt/1704282807-0009-R.jpg\n"
     ]
    },
    {
     "name": "stderr",
     "output_type": "stream",
     "text": [
      "Lossy conversion from float64 to uint8. Range [0, 1]. Convert image to uint8 prior to saving to suppress this warning.\n",
      "Lossy conversion from float64 to uint8. Range [0, 1]. Convert image to uint8 prior to saving to suppress this warning.\n",
      "Lossy conversion from float64 to uint8. Range [0, 1]. Convert image to uint8 prior to saving to suppress this warning.\n"
     ]
    },
    {
     "name": "stdout",
     "output_type": "stream",
     "text": [
      "Falciparum/gt/1704282807-0009-R.jpg\n",
      "Falciparum/gt/1704282807-0010-R.jpg\n",
      "Falciparum/gt/1704282807-0010-R.jpg\n",
      "Falciparum/gt/1704282807-0011-R_T.jpg\n",
      "Falciparum/gt/1704282807-0011-R_T.jpg\n",
      "Falciparum/gt/1704282807-0012-R_T.jpg\n"
     ]
    },
    {
     "name": "stderr",
     "output_type": "stream",
     "text": [
      "Lossy conversion from float64 to uint8. Range [0, 1]. Convert image to uint8 prior to saving to suppress this warning.\n",
      "Lossy conversion from float64 to uint8. Range [0, 1]. Convert image to uint8 prior to saving to suppress this warning.\n",
      "Lossy conversion from float64 to uint8. Range [0, 1]. Convert image to uint8 prior to saving to suppress this warning.\n"
     ]
    },
    {
     "name": "stdout",
     "output_type": "stream",
     "text": [
      "Falciparum/gt/1704282807-0012-R_T.jpg\n",
      "Falciparum/gt/1704282807-0013-R_T.jpg\n",
      "Falciparum/gt/1704282807-0013-R_T.jpg\n",
      "Falciparum/gt/1704282807-0014-R.jpg\n",
      "Falciparum/gt/1704282807-0014-R.jpg\n",
      "Falciparum/gt/1704282807-0015-R.jpg\n"
     ]
    },
    {
     "name": "stderr",
     "output_type": "stream",
     "text": [
      "Lossy conversion from float64 to uint8. Range [0, 1]. Convert image to uint8 prior to saving to suppress this warning.\n",
      "Lossy conversion from float64 to uint8. Range [0, 1]. Convert image to uint8 prior to saving to suppress this warning.\n",
      "Lossy conversion from float64 to uint8. Range [0, 1]. Convert image to uint8 prior to saving to suppress this warning.\n"
     ]
    },
    {
     "name": "stdout",
     "output_type": "stream",
     "text": [
      "Falciparum/gt/1704282807-0015-R.jpg\n",
      "Falciparum/gt/1704282807-0016-R.jpg\n",
      "Falciparum/gt/1704282807-0016-R.jpg\n",
      "Falciparum/gt/1704282807-0017-R.jpg\n",
      "Falciparum/gt/1704282807-0017-R.jpg\n",
      "Falciparum/gt/1704282807-0018-R.jpg\n"
     ]
    },
    {
     "name": "stderr",
     "output_type": "stream",
     "text": [
      "Lossy conversion from float64 to uint8. Range [0, 1]. Convert image to uint8 prior to saving to suppress this warning.\n",
      "Lossy conversion from float64 to uint8. Range [0, 1]. Convert image to uint8 prior to saving to suppress this warning.\n"
     ]
    },
    {
     "name": "stdout",
     "output_type": "stream",
     "text": [
      "Falciparum/gt/1704282807-0018-R.jpg\n",
      "Falciparum/gt/1704282807-0019-R_T.jpg\n",
      "Falciparum/gt/1704282807-0019-R_T.jpg\n",
      "Falciparum/gt/1704282807-0020-R_T_S.jpg\n"
     ]
    },
    {
     "name": "stderr",
     "output_type": "stream",
     "text": [
      "Lossy conversion from float64 to uint8. Range [0, 1]. Convert image to uint8 prior to saving to suppress this warning.\n",
      "Lossy conversion from float64 to uint8. Range [0, 1]. Convert image to uint8 prior to saving to suppress this warning.\n"
     ]
    },
    {
     "name": "stdout",
     "output_type": "stream",
     "text": [
      "Falciparum/gt/1704282807-0020-R_T_S.jpg\n",
      "Falciparum/gt/1704282807-0021_R_T.jpg\n",
      "Falciparum/gt/1704282807-0021_R_T.jpg\n",
      "Falciparum/gt/1701151546-0013-R_T.jpg\n"
     ]
    },
    {
     "name": "stderr",
     "output_type": "stream",
     "text": [
      "/data/users/g6114450078/.local/lib/python3.7/site-packages/ipykernel_launcher.py:9: UserWarning: Falciparum/gt/1701151546-0013-R_T.jpg is a low contrast image\n",
      "  if __name__ == '__main__':\n",
      "Lossy conversion from float64 to uint8. Range [0, 1]. Convert image to uint8 prior to saving to suppress this warning.\n"
     ]
    },
    {
     "name": "stdout",
     "output_type": "stream",
     "text": [
      "Falciparum/gt/1701151546-0013-R_T.jpg\n",
      "--------img start---------\n",
      "Falciparum/img/1305121398-0001-R_S.png\n"
     ]
    },
    {
     "name": "stderr",
     "output_type": "stream",
     "text": [
      "Lossy conversion from float64 to uint8. Range [0, 1]. Convert image to uint8 prior to saving to suppress this warning.\n"
     ]
    },
    {
     "name": "stdout",
     "output_type": "stream",
     "text": [
      "Falciparum/img/1305121398-0001-R_S.jpg\n",
      "Falciparum/img/1305121398-0003-R.png\n"
     ]
    },
    {
     "name": "stderr",
     "output_type": "stream",
     "text": [
      "Lossy conversion from float64 to uint8. Range [0, 1]. Convert image to uint8 prior to saving to suppress this warning.\n"
     ]
    },
    {
     "name": "stdout",
     "output_type": "stream",
     "text": [
      "Falciparum/img/1305121398-0003-R.jpg\n",
      "Falciparum/img/1305121398-0004-R.png\n"
     ]
    },
    {
     "name": "stderr",
     "output_type": "stream",
     "text": [
      "Lossy conversion from float64 to uint8. Range [0, 1]. Convert image to uint8 prior to saving to suppress this warning.\n"
     ]
    },
    {
     "name": "stdout",
     "output_type": "stream",
     "text": [
      "Falciparum/img/1305121398-0004-R.jpg\n",
      "Falciparum/img/1305121398-0005-T.png\n"
     ]
    },
    {
     "name": "stderr",
     "output_type": "stream",
     "text": [
      "Lossy conversion from float64 to uint8. Range [0, 1]. Convert image to uint8 prior to saving to suppress this warning.\n"
     ]
    },
    {
     "name": "stdout",
     "output_type": "stream",
     "text": [
      "Falciparum/img/1305121398-0005-T.jpg\n",
      "Falciparum/img/1305121398-0006-R.png\n"
     ]
    },
    {
     "name": "stderr",
     "output_type": "stream",
     "text": [
      "Lossy conversion from float64 to uint8. Range [0, 1]. Convert image to uint8 prior to saving to suppress this warning.\n"
     ]
    },
    {
     "name": "stdout",
     "output_type": "stream",
     "text": [
      "Falciparum/img/1305121398-0006-R.jpg\n",
      "Falciparum/img/1305121398-0007-R.png\n"
     ]
    },
    {
     "name": "stderr",
     "output_type": "stream",
     "text": [
      "Lossy conversion from float64 to uint8. Range [0, 1]. Convert image to uint8 prior to saving to suppress this warning.\n"
     ]
    },
    {
     "name": "stdout",
     "output_type": "stream",
     "text": [
      "Falciparum/img/1305121398-0007-R.jpg\n",
      "Falciparum/img/1305121398-0008-R.png\n"
     ]
    },
    {
     "name": "stderr",
     "output_type": "stream",
     "text": [
      "Lossy conversion from float64 to uint8. Range [0, 1]. Convert image to uint8 prior to saving to suppress this warning.\n"
     ]
    },
    {
     "name": "stdout",
     "output_type": "stream",
     "text": [
      "Falciparum/img/1305121398-0008-R.jpg\n",
      "Falciparum/img/1305121398-0010-S.png\n"
     ]
    },
    {
     "name": "stderr",
     "output_type": "stream",
     "text": [
      "Lossy conversion from float64 to uint8. Range [0, 1]. Convert image to uint8 prior to saving to suppress this warning.\n"
     ]
    },
    {
     "name": "stdout",
     "output_type": "stream",
     "text": [
      "Falciparum/img/1305121398-0010-S.jpg\n",
      "Falciparum/img/1305121398-0011-S.png\n"
     ]
    },
    {
     "name": "stderr",
     "output_type": "stream",
     "text": [
      "Lossy conversion from float64 to uint8. Range [0, 1]. Convert image to uint8 prior to saving to suppress this warning.\n"
     ]
    },
    {
     "name": "stdout",
     "output_type": "stream",
     "text": [
      "Falciparum/img/1305121398-0011-S.jpg\n",
      "Falciparum/img/1305121398-0012-S.png\n"
     ]
    },
    {
     "name": "stderr",
     "output_type": "stream",
     "text": [
      "Lossy conversion from float64 to uint8. Range [0, 1]. Convert image to uint8 prior to saving to suppress this warning.\n"
     ]
    },
    {
     "name": "stdout",
     "output_type": "stream",
     "text": [
      "Falciparum/img/1305121398-0012-S.jpg\n",
      "Falciparum/img/1305121398-0013-S.png\n"
     ]
    },
    {
     "name": "stderr",
     "output_type": "stream",
     "text": [
      "Lossy conversion from float64 to uint8. Range [0, 1]. Convert image to uint8 prior to saving to suppress this warning.\n"
     ]
    },
    {
     "name": "stdout",
     "output_type": "stream",
     "text": [
      "Falciparum/img/1305121398-0013-S.jpg\n",
      "Falciparum/img/1305121398-0014-S.png\n"
     ]
    },
    {
     "name": "stderr",
     "output_type": "stream",
     "text": [
      "Lossy conversion from float64 to uint8. Range [0, 1]. Convert image to uint8 prior to saving to suppress this warning.\n"
     ]
    },
    {
     "name": "stdout",
     "output_type": "stream",
     "text": [
      "Falciparum/img/1305121398-0014-S.jpg\n",
      "Falciparum/img/1305121398-0015-S.png\n"
     ]
    },
    {
     "name": "stderr",
     "output_type": "stream",
     "text": [
      "Lossy conversion from float64 to uint8. Range [0, 1]. Convert image to uint8 prior to saving to suppress this warning.\n"
     ]
    },
    {
     "name": "stdout",
     "output_type": "stream",
     "text": [
      "Falciparum/img/1305121398-0015-S.jpg\n",
      "Falciparum/img/1305121398-0016-T.png\n"
     ]
    },
    {
     "name": "stderr",
     "output_type": "stream",
     "text": [
      "Lossy conversion from float64 to uint8. Range [0, 1]. Convert image to uint8 prior to saving to suppress this warning.\n"
     ]
    },
    {
     "name": "stdout",
     "output_type": "stream",
     "text": [
      "Falciparum/img/1305121398-0016-T.jpg\n",
      "Falciparum/img/1305121398-0017-R.png\n"
     ]
    },
    {
     "name": "stderr",
     "output_type": "stream",
     "text": [
      "Lossy conversion from float64 to uint8. Range [0, 1]. Convert image to uint8 prior to saving to suppress this warning.\n"
     ]
    },
    {
     "name": "stdout",
     "output_type": "stream",
     "text": [
      "Falciparum/img/1305121398-0017-R.jpg\n",
      "Falciparum/img/1305121398-0018-S.png\n"
     ]
    },
    {
     "name": "stderr",
     "output_type": "stream",
     "text": [
      "Lossy conversion from float64 to uint8. Range [0, 1]. Convert image to uint8 prior to saving to suppress this warning.\n"
     ]
    },
    {
     "name": "stdout",
     "output_type": "stream",
     "text": [
      "Falciparum/img/1305121398-0018-S.jpg\n",
      "Falciparum/img/1305121398-0019-R.png\n"
     ]
    },
    {
     "name": "stderr",
     "output_type": "stream",
     "text": [
      "Lossy conversion from float64 to uint8. Range [0, 1]. Convert image to uint8 prior to saving to suppress this warning.\n"
     ]
    },
    {
     "name": "stdout",
     "output_type": "stream",
     "text": [
      "Falciparum/img/1305121398-0019-R.jpg\n",
      "Falciparum/img/1305121398-0020-S.png\n"
     ]
    },
    {
     "name": "stderr",
     "output_type": "stream",
     "text": [
      "Lossy conversion from float64 to uint8. Range [0, 1]. Convert image to uint8 prior to saving to suppress this warning.\n"
     ]
    },
    {
     "name": "stdout",
     "output_type": "stream",
     "text": [
      "Falciparum/img/1305121398-0020-S.jpg\n",
      "Falciparum/img/1305121398-0021-S.png\n"
     ]
    },
    {
     "name": "stderr",
     "output_type": "stream",
     "text": [
      "Lossy conversion from float64 to uint8. Range [0, 1]. Convert image to uint8 prior to saving to suppress this warning.\n"
     ]
    },
    {
     "name": "stdout",
     "output_type": "stream",
     "text": [
      "Falciparum/img/1305121398-0021-S.jpg\n",
      "Falciparum/img/1305121398-0022-S.png\n"
     ]
    },
    {
     "name": "stderr",
     "output_type": "stream",
     "text": [
      "Lossy conversion from float64 to uint8. Range [0, 1]. Convert image to uint8 prior to saving to suppress this warning.\n"
     ]
    },
    {
     "name": "stdout",
     "output_type": "stream",
     "text": [
      "Falciparum/img/1305121398-0022-S.jpg\n",
      "Falciparum/img/1307210661-0001-R.png\n"
     ]
    },
    {
     "name": "stderr",
     "output_type": "stream",
     "text": [
      "Lossy conversion from float64 to uint8. Range [0, 1]. Convert image to uint8 prior to saving to suppress this warning.\n"
     ]
    },
    {
     "name": "stdout",
     "output_type": "stream",
     "text": [
      "Falciparum/img/1307210661-0001-R.jpg\n",
      "Falciparum/img/1307210661-0002-R.png\n"
     ]
    },
    {
     "name": "stderr",
     "output_type": "stream",
     "text": [
      "Lossy conversion from float64 to uint8. Range [0, 1]. Convert image to uint8 prior to saving to suppress this warning.\n"
     ]
    },
    {
     "name": "stdout",
     "output_type": "stream",
     "text": [
      "Falciparum/img/1307210661-0002-R.jpg\n",
      "Falciparum/img/1307210661-0003-R.png\n"
     ]
    },
    {
     "name": "stderr",
     "output_type": "stream",
     "text": [
      "Lossy conversion from float64 to uint8. Range [0, 1]. Convert image to uint8 prior to saving to suppress this warning.\n"
     ]
    },
    {
     "name": "stdout",
     "output_type": "stream",
     "text": [
      "Falciparum/img/1307210661-0003-R.jpg\n",
      "Falciparum/img/1307210661-0004-R.png\n"
     ]
    },
    {
     "name": "stderr",
     "output_type": "stream",
     "text": [
      "Lossy conversion from float64 to uint8. Range [0, 1]. Convert image to uint8 prior to saving to suppress this warning.\n"
     ]
    },
    {
     "name": "stdout",
     "output_type": "stream",
     "text": [
      "Falciparum/img/1307210661-0004-R.jpg\n",
      "Falciparum/img/1307210661-0005-R.png\n"
     ]
    },
    {
     "name": "stderr",
     "output_type": "stream",
     "text": [
      "Lossy conversion from float64 to uint8. Range [0, 1]. Convert image to uint8 prior to saving to suppress this warning.\n"
     ]
    },
    {
     "name": "stdout",
     "output_type": "stream",
     "text": [
      "Falciparum/img/1307210661-0005-R.jpg\n",
      "Falciparum/img/1307210661-0006-R.png\n"
     ]
    },
    {
     "name": "stderr",
     "output_type": "stream",
     "text": [
      "Lossy conversion from float64 to uint8. Range [0, 1]. Convert image to uint8 prior to saving to suppress this warning.\n"
     ]
    },
    {
     "name": "stdout",
     "output_type": "stream",
     "text": [
      "Falciparum/img/1307210661-0006-R.jpg\n",
      "Falciparum/img/1307210661-0007-R.png\n"
     ]
    },
    {
     "name": "stderr",
     "output_type": "stream",
     "text": [
      "Lossy conversion from float64 to uint8. Range [0, 1]. Convert image to uint8 prior to saving to suppress this warning.\n"
     ]
    },
    {
     "name": "stdout",
     "output_type": "stream",
     "text": [
      "Falciparum/img/1307210661-0007-R.jpg\n",
      "Falciparum/img/1307210661-0008-R.png\n"
     ]
    },
    {
     "name": "stderr",
     "output_type": "stream",
     "text": [
      "Lossy conversion from float64 to uint8. Range [0, 1]. Convert image to uint8 prior to saving to suppress this warning.\n"
     ]
    },
    {
     "name": "stdout",
     "output_type": "stream",
     "text": [
      "Falciparum/img/1307210661-0008-R.jpg\n",
      "Falciparum/img/1307210661-0009-R.png\n"
     ]
    },
    {
     "name": "stderr",
     "output_type": "stream",
     "text": [
      "Lossy conversion from float64 to uint8. Range [0, 1]. Convert image to uint8 prior to saving to suppress this warning.\n"
     ]
    },
    {
     "name": "stdout",
     "output_type": "stream",
     "text": [
      "Falciparum/img/1307210661-0009-R.jpg\n",
      "Falciparum/img/1307210661-0010-R.png\n"
     ]
    },
    {
     "name": "stderr",
     "output_type": "stream",
     "text": [
      "Lossy conversion from float64 to uint8. Range [0, 1]. Convert image to uint8 prior to saving to suppress this warning.\n"
     ]
    },
    {
     "name": "stdout",
     "output_type": "stream",
     "text": [
      "Falciparum/img/1307210661-0010-R.jpg\n",
      "Falciparum/img/1401063467-0001-S.png\n"
     ]
    },
    {
     "name": "stderr",
     "output_type": "stream",
     "text": [
      "Lossy conversion from float64 to uint8. Range [0, 1]. Convert image to uint8 prior to saving to suppress this warning.\n"
     ]
    },
    {
     "name": "stdout",
     "output_type": "stream",
     "text": [
      "Falciparum/img/1401063467-0001-S.jpg\n",
      "Falciparum/img/1401063467-0002-T.png\n"
     ]
    },
    {
     "name": "stderr",
     "output_type": "stream",
     "text": [
      "Lossy conversion from float64 to uint8. Range [0, 1]. Convert image to uint8 prior to saving to suppress this warning.\n"
     ]
    },
    {
     "name": "stdout",
     "output_type": "stream",
     "text": [
      "Falciparum/img/1401063467-0002-T.jpg\n",
      "Falciparum/img/1401063467-0003-T.png\n"
     ]
    },
    {
     "name": "stderr",
     "output_type": "stream",
     "text": [
      "Lossy conversion from float64 to uint8. Range [0, 1]. Convert image to uint8 prior to saving to suppress this warning.\n"
     ]
    },
    {
     "name": "stdout",
     "output_type": "stream",
     "text": [
      "Falciparum/img/1401063467-0003-T.jpg\n",
      "Falciparum/img/1401063467-0004-R.png\n"
     ]
    },
    {
     "name": "stderr",
     "output_type": "stream",
     "text": [
      "Lossy conversion from float64 to uint8. Range [0, 1]. Convert image to uint8 prior to saving to suppress this warning.\n"
     ]
    },
    {
     "name": "stdout",
     "output_type": "stream",
     "text": [
      "Falciparum/img/1401063467-0004-R.jpg\n",
      "Falciparum/img/1401063467-0005-T.png\n"
     ]
    },
    {
     "name": "stderr",
     "output_type": "stream",
     "text": [
      "Lossy conversion from float64 to uint8. Range [0, 1]. Convert image to uint8 prior to saving to suppress this warning.\n"
     ]
    },
    {
     "name": "stdout",
     "output_type": "stream",
     "text": [
      "Falciparum/img/1401063467-0005-T.jpg\n",
      "Falciparum/img/1401063467-0006-T.png\n"
     ]
    },
    {
     "name": "stderr",
     "output_type": "stream",
     "text": [
      "Lossy conversion from float64 to uint8. Range [0, 1]. Convert image to uint8 prior to saving to suppress this warning.\n"
     ]
    },
    {
     "name": "stdout",
     "output_type": "stream",
     "text": [
      "Falciparum/img/1401063467-0006-T.jpg\n",
      "Falciparum/img/1401063467-0007-S.png\n"
     ]
    },
    {
     "name": "stderr",
     "output_type": "stream",
     "text": [
      "Lossy conversion from float64 to uint8. Range [0, 1]. Convert image to uint8 prior to saving to suppress this warning.\n"
     ]
    },
    {
     "name": "stdout",
     "output_type": "stream",
     "text": [
      "Falciparum/img/1401063467-0007-S.jpg\n",
      "Falciparum/img/1401063467-0008-S.png\n"
     ]
    },
    {
     "name": "stderr",
     "output_type": "stream",
     "text": [
      "Lossy conversion from float64 to uint8. Range [0, 1]. Convert image to uint8 prior to saving to suppress this warning.\n"
     ]
    },
    {
     "name": "stdout",
     "output_type": "stream",
     "text": [
      "Falciparum/img/1401063467-0008-S.jpg\n",
      "Falciparum/img/1401063467-0009-T.png\n"
     ]
    },
    {
     "name": "stderr",
     "output_type": "stream",
     "text": [
      "Lossy conversion from float64 to uint8. Range [0, 1]. Convert image to uint8 prior to saving to suppress this warning.\n"
     ]
    },
    {
     "name": "stdout",
     "output_type": "stream",
     "text": [
      "Falciparum/img/1401063467-0009-T.jpg\n",
      "Falciparum/img/1401063467-0010-T.png\n"
     ]
    },
    {
     "name": "stderr",
     "output_type": "stream",
     "text": [
      "Lossy conversion from float64 to uint8. Range [0, 1]. Convert image to uint8 prior to saving to suppress this warning.\n"
     ]
    },
    {
     "name": "stdout",
     "output_type": "stream",
     "text": [
      "Falciparum/img/1401063467-0010-T.jpg\n",
      "Falciparum/img/1401063467-0011-S.png\n"
     ]
    },
    {
     "name": "stderr",
     "output_type": "stream",
     "text": [
      "Lossy conversion from float64 to uint8. Range [0, 1]. Convert image to uint8 prior to saving to suppress this warning.\n"
     ]
    },
    {
     "name": "stdout",
     "output_type": "stream",
     "text": [
      "Falciparum/img/1401063467-0011-S.jpg\n",
      "Falciparum/img/1401063467-0012-S.png\n"
     ]
    },
    {
     "name": "stderr",
     "output_type": "stream",
     "text": [
      "Lossy conversion from float64 to uint8. Range [0, 1]. Convert image to uint8 prior to saving to suppress this warning.\n"
     ]
    },
    {
     "name": "stdout",
     "output_type": "stream",
     "text": [
      "Falciparum/img/1401063467-0012-S.jpg\n",
      "Falciparum/img/1401063467-0013-T.png\n"
     ]
    },
    {
     "name": "stderr",
     "output_type": "stream",
     "text": [
      "Lossy conversion from float64 to uint8. Range [0, 1]. Convert image to uint8 prior to saving to suppress this warning.\n"
     ]
    },
    {
     "name": "stdout",
     "output_type": "stream",
     "text": [
      "Falciparum/img/1401063467-0013-T.jpg\n",
      "Falciparum/img/1405022890-0001-R.png\n"
     ]
    },
    {
     "name": "stderr",
     "output_type": "stream",
     "text": [
      "Lossy conversion from float64 to uint8. Range [0, 1]. Convert image to uint8 prior to saving to suppress this warning.\n"
     ]
    },
    {
     "name": "stdout",
     "output_type": "stream",
     "text": [
      "Falciparum/img/1405022890-0001-R.jpg\n",
      "Falciparum/img/1405022890-0002-R.png\n"
     ]
    },
    {
     "name": "stderr",
     "output_type": "stream",
     "text": [
      "Lossy conversion from float64 to uint8. Range [0, 1]. Convert image to uint8 prior to saving to suppress this warning.\n"
     ]
    },
    {
     "name": "stdout",
     "output_type": "stream",
     "text": [
      "Falciparum/img/1405022890-0002-R.jpg\n",
      "Falciparum/img/1405022890-0003-R.png\n"
     ]
    },
    {
     "name": "stderr",
     "output_type": "stream",
     "text": [
      "Lossy conversion from float64 to uint8. Range [0, 1]. Convert image to uint8 prior to saving to suppress this warning.\n"
     ]
    },
    {
     "name": "stdout",
     "output_type": "stream",
     "text": [
      "Falciparum/img/1405022890-0003-R.jpg\n",
      "Falciparum/img/1405022890-0004-R.png\n"
     ]
    },
    {
     "name": "stderr",
     "output_type": "stream",
     "text": [
      "Lossy conversion from float64 to uint8. Range [0, 1]. Convert image to uint8 prior to saving to suppress this warning.\n"
     ]
    },
    {
     "name": "stdout",
     "output_type": "stream",
     "text": [
      "Falciparum/img/1405022890-0004-R.jpg\n",
      "Falciparum/img/1405022890-0005-R.png\n"
     ]
    },
    {
     "name": "stderr",
     "output_type": "stream",
     "text": [
      "Lossy conversion from float64 to uint8. Range [0, 1]. Convert image to uint8 prior to saving to suppress this warning.\n"
     ]
    },
    {
     "name": "stdout",
     "output_type": "stream",
     "text": [
      "Falciparum/img/1405022890-0005-R.jpg\n",
      "Falciparum/img/1405022890-0006-R.png\n"
     ]
    },
    {
     "name": "stderr",
     "output_type": "stream",
     "text": [
      "Lossy conversion from float64 to uint8. Range [0, 1]. Convert image to uint8 prior to saving to suppress this warning.\n"
     ]
    },
    {
     "name": "stdout",
     "output_type": "stream",
     "text": [
      "Falciparum/img/1405022890-0006-R.jpg\n",
      "Falciparum/img/1408161544-0001-S_R.png\n"
     ]
    },
    {
     "name": "stderr",
     "output_type": "stream",
     "text": [
      "Lossy conversion from float64 to uint8. Range [0, 1]. Convert image to uint8 prior to saving to suppress this warning.\n"
     ]
    },
    {
     "name": "stdout",
     "output_type": "stream",
     "text": [
      "Falciparum/img/1408161544-0001-S_R.jpg\n",
      "Falciparum/img/1408161544-0002-R_S.png\n"
     ]
    },
    {
     "name": "stderr",
     "output_type": "stream",
     "text": [
      "Lossy conversion from float64 to uint8. Range [0, 1]. Convert image to uint8 prior to saving to suppress this warning.\n"
     ]
    },
    {
     "name": "stdout",
     "output_type": "stream",
     "text": [
      "Falciparum/img/1408161544-0002-R_S.jpg\n",
      "Falciparum/img/1408161544-0003-R_S.png\n"
     ]
    },
    {
     "name": "stderr",
     "output_type": "stream",
     "text": [
      "Lossy conversion from float64 to uint8. Range [0, 1]. Convert image to uint8 prior to saving to suppress this warning.\n"
     ]
    },
    {
     "name": "stdout",
     "output_type": "stream",
     "text": [
      "Falciparum/img/1408161544-0003-R_S.jpg\n",
      "Falciparum/img/1408290968-0001-R.png\n"
     ]
    },
    {
     "name": "stderr",
     "output_type": "stream",
     "text": [
      "Lossy conversion from float64 to uint8. Range [0, 1]. Convert image to uint8 prior to saving to suppress this warning.\n"
     ]
    },
    {
     "name": "stdout",
     "output_type": "stream",
     "text": [
      "Falciparum/img/1408290968-0001-R.jpg\n",
      "Falciparum/img/1408290968-0002-R.png\n"
     ]
    },
    {
     "name": "stderr",
     "output_type": "stream",
     "text": [
      "Lossy conversion from float64 to uint8. Range [0, 1]. Convert image to uint8 prior to saving to suppress this warning.\n"
     ]
    },
    {
     "name": "stdout",
     "output_type": "stream",
     "text": [
      "Falciparum/img/1408290968-0002-R.jpg\n",
      "Falciparum/img/1408290968-0003-R.png\n"
     ]
    },
    {
     "name": "stderr",
     "output_type": "stream",
     "text": [
      "Lossy conversion from float64 to uint8. Range [0, 1]. Convert image to uint8 prior to saving to suppress this warning.\n"
     ]
    },
    {
     "name": "stdout",
     "output_type": "stream",
     "text": [
      "Falciparum/img/1408290968-0003-R.jpg\n",
      "Falciparum/img/1409171742-0001-R.png\n"
     ]
    },
    {
     "name": "stderr",
     "output_type": "stream",
     "text": [
      "Lossy conversion from float64 to uint8. Range [0, 1]. Convert image to uint8 prior to saving to suppress this warning.\n"
     ]
    },
    {
     "name": "stdout",
     "output_type": "stream",
     "text": [
      "Falciparum/img/1409171742-0001-R.jpg\n",
      "Falciparum/img/1409171742-0002-R.png\n"
     ]
    },
    {
     "name": "stderr",
     "output_type": "stream",
     "text": [
      "Lossy conversion from float64 to uint8. Range [0, 1]. Convert image to uint8 prior to saving to suppress this warning.\n"
     ]
    },
    {
     "name": "stdout",
     "output_type": "stream",
     "text": [
      "Falciparum/img/1409171742-0002-R.jpg\n",
      "Falciparum/img/1409171742-0003-R.png\n"
     ]
    },
    {
     "name": "stderr",
     "output_type": "stream",
     "text": [
      "Lossy conversion from float64 to uint8. Range [0, 1]. Convert image to uint8 prior to saving to suppress this warning.\n"
     ]
    },
    {
     "name": "stdout",
     "output_type": "stream",
     "text": [
      "Falciparum/img/1409171742-0003-R.jpg\n",
      "Falciparum/img/1409171742-0004-R.png\n"
     ]
    },
    {
     "name": "stderr",
     "output_type": "stream",
     "text": [
      "Lossy conversion from float64 to uint8. Range [0, 1]. Convert image to uint8 prior to saving to suppress this warning.\n"
     ]
    },
    {
     "name": "stdout",
     "output_type": "stream",
     "text": [
      "Falciparum/img/1409171742-0004-R.jpg\n",
      "Falciparum/img/1409171742-0005-R.png\n"
     ]
    },
    {
     "name": "stderr",
     "output_type": "stream",
     "text": [
      "Lossy conversion from float64 to uint8. Range [0, 1]. Convert image to uint8 prior to saving to suppress this warning.\n"
     ]
    },
    {
     "name": "stdout",
     "output_type": "stream",
     "text": [
      "Falciparum/img/1409171742-0005-R.jpg\n",
      "Falciparum/img/1409171742-0006-R.png\n"
     ]
    },
    {
     "name": "stderr",
     "output_type": "stream",
     "text": [
      "Lossy conversion from float64 to uint8. Range [0, 1]. Convert image to uint8 prior to saving to suppress this warning.\n"
     ]
    },
    {
     "name": "stdout",
     "output_type": "stream",
     "text": [
      "Falciparum/img/1409171742-0006-R.jpg\n",
      "Falciparum/img/1409171742-0007-R.png\n"
     ]
    },
    {
     "name": "stderr",
     "output_type": "stream",
     "text": [
      "Lossy conversion from float64 to uint8. Range [0, 1]. Convert image to uint8 prior to saving to suppress this warning.\n"
     ]
    },
    {
     "name": "stdout",
     "output_type": "stream",
     "text": [
      "Falciparum/img/1409171742-0007-R.jpg\n",
      "Falciparum/img/1409171742-0008-R.png\n"
     ]
    },
    {
     "name": "stderr",
     "output_type": "stream",
     "text": [
      "Lossy conversion from float64 to uint8. Range [0, 1]. Convert image to uint8 prior to saving to suppress this warning.\n"
     ]
    },
    {
     "name": "stdout",
     "output_type": "stream",
     "text": [
      "Falciparum/img/1409171742-0008-R.jpg\n",
      "Falciparum/img/1409171742-0009-R.png\n"
     ]
    },
    {
     "name": "stderr",
     "output_type": "stream",
     "text": [
      "Lossy conversion from float64 to uint8. Range [0, 1]. Convert image to uint8 prior to saving to suppress this warning.\n"
     ]
    },
    {
     "name": "stdout",
     "output_type": "stream",
     "text": [
      "Falciparum/img/1409171742-0009-R.jpg\n",
      "Falciparum/img/1409171742-0010-R.png\n"
     ]
    },
    {
     "name": "stderr",
     "output_type": "stream",
     "text": [
      "Lossy conversion from float64 to uint8. Range [0, 1]. Convert image to uint8 prior to saving to suppress this warning.\n"
     ]
    },
    {
     "name": "stdout",
     "output_type": "stream",
     "text": [
      "Falciparum/img/1409171742-0010-R.jpg\n",
      "Falciparum/img/1409191647-0001-R.png\n"
     ]
    },
    {
     "name": "stderr",
     "output_type": "stream",
     "text": [
      "Lossy conversion from float64 to uint8. Range [0, 1]. Convert image to uint8 prior to saving to suppress this warning.\n"
     ]
    },
    {
     "name": "stdout",
     "output_type": "stream",
     "text": [
      "Falciparum/img/1409191647-0001-R.jpg\n",
      "Falciparum/img/1409191647-0002-R.png\n"
     ]
    },
    {
     "name": "stderr",
     "output_type": "stream",
     "text": [
      "Lossy conversion from float64 to uint8. Range [0, 1]. Convert image to uint8 prior to saving to suppress this warning.\n"
     ]
    },
    {
     "name": "stdout",
     "output_type": "stream",
     "text": [
      "Falciparum/img/1409191647-0002-R.jpg\n",
      "Falciparum/img/1409191647-0003-R.png\n"
     ]
    },
    {
     "name": "stderr",
     "output_type": "stream",
     "text": [
      "Lossy conversion from float64 to uint8. Range [0, 1]. Convert image to uint8 prior to saving to suppress this warning.\n"
     ]
    },
    {
     "name": "stdout",
     "output_type": "stream",
     "text": [
      "Falciparum/img/1409191647-0003-R.jpg\n",
      "Falciparum/img/1409191647-0004-R.png\n"
     ]
    },
    {
     "name": "stderr",
     "output_type": "stream",
     "text": [
      "Lossy conversion from float64 to uint8. Range [0, 1]. Convert image to uint8 prior to saving to suppress this warning.\n"
     ]
    },
    {
     "name": "stdout",
     "output_type": "stream",
     "text": [
      "Falciparum/img/1409191647-0004-R.jpg\n",
      "Falciparum/img/1409191647-0005-R.png\n"
     ]
    },
    {
     "name": "stderr",
     "output_type": "stream",
     "text": [
      "Lossy conversion from float64 to uint8. Range [0, 1]. Convert image to uint8 prior to saving to suppress this warning.\n"
     ]
    },
    {
     "name": "stdout",
     "output_type": "stream",
     "text": [
      "Falciparum/img/1409191647-0005-R.jpg\n",
      "Falciparum/img/1409191647-0006-R.png\n"
     ]
    },
    {
     "name": "stderr",
     "output_type": "stream",
     "text": [
      "Lossy conversion from float64 to uint8. Range [0, 1]. Convert image to uint8 prior to saving to suppress this warning.\n"
     ]
    },
    {
     "name": "stdout",
     "output_type": "stream",
     "text": [
      "Falciparum/img/1409191647-0006-R.jpg\n",
      "Falciparum/img/1409191647-0007-R.png\n"
     ]
    },
    {
     "name": "stderr",
     "output_type": "stream",
     "text": [
      "Lossy conversion from float64 to uint8. Range [0, 1]. Convert image to uint8 prior to saving to suppress this warning.\n"
     ]
    },
    {
     "name": "stdout",
     "output_type": "stream",
     "text": [
      "Falciparum/img/1409191647-0007-R.jpg\n",
      "Falciparum/img/1409191647-0008-T.png\n"
     ]
    },
    {
     "name": "stderr",
     "output_type": "stream",
     "text": [
      "Lossy conversion from float64 to uint8. Range [0, 1]. Convert image to uint8 prior to saving to suppress this warning.\n"
     ]
    },
    {
     "name": "stdout",
     "output_type": "stream",
     "text": [
      "Falciparum/img/1409191647-0008-T.jpg\n",
      "Falciparum/img/1409191647-0009-R.png\n"
     ]
    },
    {
     "name": "stderr",
     "output_type": "stream",
     "text": [
      "Lossy conversion from float64 to uint8. Range [0, 1]. Convert image to uint8 prior to saving to suppress this warning.\n"
     ]
    },
    {
     "name": "stdout",
     "output_type": "stream",
     "text": [
      "Falciparum/img/1409191647-0009-R.jpg\n",
      "Falciparum/img/1409191647-0010-R.png\n"
     ]
    },
    {
     "name": "stderr",
     "output_type": "stream",
     "text": [
      "Lossy conversion from float64 to uint8. Range [0, 1]. Convert image to uint8 prior to saving to suppress this warning.\n"
     ]
    },
    {
     "name": "stdout",
     "output_type": "stream",
     "text": [
      "Falciparum/img/1409191647-0010-R.jpg\n",
      "Falciparum/img/1603223711-0001-T.tif\n"
     ]
    },
    {
     "name": "stderr",
     "output_type": "stream",
     "text": [
      "Lossy conversion from float64 to uint8. Range [0, 1]. Convert image to uint8 prior to saving to suppress this warning.\n"
     ]
    },
    {
     "name": "stdout",
     "output_type": "stream",
     "text": [
      "Falciparum/img/1603223711-0001-T.jpg\n",
      "Falciparum/img/1603223711-0002-T.tif\n"
     ]
    },
    {
     "name": "stderr",
     "output_type": "stream",
     "text": [
      "Lossy conversion from float64 to uint8. Range [0, 1]. Convert image to uint8 prior to saving to suppress this warning.\n"
     ]
    },
    {
     "name": "stdout",
     "output_type": "stream",
     "text": [
      "Falciparum/img/1603223711-0002-T.jpg\n",
      "Falciparum/img/1603223711-0003-T_R.tif\n"
     ]
    },
    {
     "name": "stderr",
     "output_type": "stream",
     "text": [
      "Lossy conversion from float64 to uint8. Range [0, 1]. Convert image to uint8 prior to saving to suppress this warning.\n"
     ]
    },
    {
     "name": "stdout",
     "output_type": "stream",
     "text": [
      "Falciparum/img/1603223711-0003-T_R.jpg\n",
      "Falciparum/img/1603223711-0004-R.tif\n"
     ]
    },
    {
     "name": "stderr",
     "output_type": "stream",
     "text": [
      "Lossy conversion from float64 to uint8. Range [0, 1]. Convert image to uint8 prior to saving to suppress this warning.\n"
     ]
    },
    {
     "name": "stdout",
     "output_type": "stream",
     "text": [
      "Falciparum/img/1603223711-0004-R.jpg\n",
      "Falciparum/img/1603223711-0005-T.tif\n"
     ]
    },
    {
     "name": "stderr",
     "output_type": "stream",
     "text": [
      "Lossy conversion from float64 to uint8. Range [0, 1]. Convert image to uint8 prior to saving to suppress this warning.\n"
     ]
    },
    {
     "name": "stdout",
     "output_type": "stream",
     "text": [
      "Falciparum/img/1603223711-0005-T.jpg\n",
      "Falciparum/img/1603223711-0006-T.tif\n"
     ]
    },
    {
     "name": "stderr",
     "output_type": "stream",
     "text": [
      "Lossy conversion from float64 to uint8. Range [0, 1]. Convert image to uint8 prior to saving to suppress this warning.\n"
     ]
    },
    {
     "name": "stdout",
     "output_type": "stream",
     "text": [
      "Falciparum/img/1603223711-0006-T.jpg\n",
      "Falciparum/img/1701151546-0001-R_T.tif\n"
     ]
    },
    {
     "name": "stderr",
     "output_type": "stream",
     "text": [
      "Lossy conversion from float64 to uint8. Range [0, 1]. Convert image to uint8 prior to saving to suppress this warning.\n"
     ]
    },
    {
     "name": "stdout",
     "output_type": "stream",
     "text": [
      "Falciparum/img/1701151546-0001-R_T.jpg\n",
      "Falciparum/img/1701151546-0002-R.tif\n"
     ]
    },
    {
     "name": "stderr",
     "output_type": "stream",
     "text": [
      "Lossy conversion from float64 to uint8. Range [0, 1]. Convert image to uint8 prior to saving to suppress this warning.\n"
     ]
    },
    {
     "name": "stdout",
     "output_type": "stream",
     "text": [
      "Falciparum/img/1701151546-0002-R.jpg\n",
      "Falciparum/img/1701151546-0003-R.tif\n"
     ]
    },
    {
     "name": "stderr",
     "output_type": "stream",
     "text": [
      "Lossy conversion from float64 to uint8. Range [0, 1]. Convert image to uint8 prior to saving to suppress this warning.\n"
     ]
    },
    {
     "name": "stdout",
     "output_type": "stream",
     "text": [
      "Falciparum/img/1701151546-0003-R.jpg\n",
      "Falciparum/img/1701151546-0004-R_T.tif\n"
     ]
    },
    {
     "name": "stderr",
     "output_type": "stream",
     "text": [
      "Lossy conversion from float64 to uint8. Range [0, 1]. Convert image to uint8 prior to saving to suppress this warning.\n"
     ]
    },
    {
     "name": "stdout",
     "output_type": "stream",
     "text": [
      "Falciparum/img/1701151546-0004-R_T.jpg\n",
      "Falciparum/img/1701151546-0005-R.tif\n"
     ]
    },
    {
     "name": "stderr",
     "output_type": "stream",
     "text": [
      "Lossy conversion from float64 to uint8. Range [0, 1]. Convert image to uint8 prior to saving to suppress this warning.\n"
     ]
    },
    {
     "name": "stdout",
     "output_type": "stream",
     "text": [
      "Falciparum/img/1701151546-0005-R.jpg\n",
      "Falciparum/img/1701151546-0006-R_T.tif\n"
     ]
    },
    {
     "name": "stderr",
     "output_type": "stream",
     "text": [
      "Lossy conversion from float64 to uint8. Range [0, 1]. Convert image to uint8 prior to saving to suppress this warning.\n"
     ]
    },
    {
     "name": "stdout",
     "output_type": "stream",
     "text": [
      "Falciparum/img/1701151546-0006-R_T.jpg\n",
      "Falciparum/img/1701151546-0007-R.tif\n"
     ]
    },
    {
     "name": "stderr",
     "output_type": "stream",
     "text": [
      "Lossy conversion from float64 to uint8. Range [0, 1]. Convert image to uint8 prior to saving to suppress this warning.\n"
     ]
    },
    {
     "name": "stdout",
     "output_type": "stream",
     "text": [
      "Falciparum/img/1701151546-0007-R.jpg\n",
      "Falciparum/img/1701151546-0008-R-T.tif\n"
     ]
    },
    {
     "name": "stderr",
     "output_type": "stream",
     "text": [
      "Lossy conversion from float64 to uint8. Range [0, 1]. Convert image to uint8 prior to saving to suppress this warning.\n"
     ]
    },
    {
     "name": "stdout",
     "output_type": "stream",
     "text": [
      "Falciparum/img/1701151546-0008-R-T.jpg\n",
      "Falciparum/img/1701151546-0009-R.tif\n"
     ]
    },
    {
     "name": "stderr",
     "output_type": "stream",
     "text": [
      "Lossy conversion from float64 to uint8. Range [0, 1]. Convert image to uint8 prior to saving to suppress this warning.\n"
     ]
    },
    {
     "name": "stdout",
     "output_type": "stream",
     "text": [
      "Falciparum/img/1701151546-0009-R.jpg\n",
      "Falciparum/img/1701151546-0010-R.tif\n"
     ]
    },
    {
     "name": "stderr",
     "output_type": "stream",
     "text": [
      "Lossy conversion from float64 to uint8. Range [0, 1]. Convert image to uint8 prior to saving to suppress this warning.\n"
     ]
    },
    {
     "name": "stdout",
     "output_type": "stream",
     "text": [
      "Falciparum/img/1701151546-0010-R.jpg\n",
      "Falciparum/img/1701151546-0011-R_T.tif\n"
     ]
    },
    {
     "name": "stderr",
     "output_type": "stream",
     "text": [
      "Lossy conversion from float64 to uint8. Range [0, 1]. Convert image to uint8 prior to saving to suppress this warning.\n"
     ]
    },
    {
     "name": "stdout",
     "output_type": "stream",
     "text": [
      "Falciparum/img/1701151546-0011-R_T.jpg\n",
      "Falciparum/img/1701151546-0012-R.tif\n"
     ]
    },
    {
     "name": "stderr",
     "output_type": "stream",
     "text": [
      "Lossy conversion from float64 to uint8. Range [0, 1]. Convert image to uint8 prior to saving to suppress this warning.\n"
     ]
    },
    {
     "name": "stdout",
     "output_type": "stream",
     "text": [
      "Falciparum/img/1701151546-0012-R.jpg\n",
      "Falciparum/img/1701151546-0013-R_T.tif\n"
     ]
    },
    {
     "name": "stderr",
     "output_type": "stream",
     "text": [
      "Lossy conversion from float64 to uint8. Range [0, 1]. Convert image to uint8 prior to saving to suppress this warning.\n"
     ]
    },
    {
     "name": "stdout",
     "output_type": "stream",
     "text": [
      "Falciparum/img/1701151546-0013-R_T.jpg\n",
      "Falciparum/img/1701151546-0014-R.tif\n"
     ]
    },
    {
     "name": "stderr",
     "output_type": "stream",
     "text": [
      "Lossy conversion from float64 to uint8. Range [0, 1]. Convert image to uint8 prior to saving to suppress this warning.\n"
     ]
    },
    {
     "name": "stdout",
     "output_type": "stream",
     "text": [
      "Falciparum/img/1701151546-0014-R.jpg\n",
      "Falciparum/img/1701151546-0015-R_T.tif\n"
     ]
    },
    {
     "name": "stderr",
     "output_type": "stream",
     "text": [
      "Lossy conversion from float64 to uint8. Range [0, 1]. Convert image to uint8 prior to saving to suppress this warning.\n"
     ]
    },
    {
     "name": "stdout",
     "output_type": "stream",
     "text": [
      "Falciparum/img/1701151546-0015-R_T.jpg\n",
      "Falciparum/img/1704282807-0001-R.tif\n"
     ]
    },
    {
     "name": "stderr",
     "output_type": "stream",
     "text": [
      "Lossy conversion from float64 to uint8. Range [0, 1]. Convert image to uint8 prior to saving to suppress this warning.\n"
     ]
    },
    {
     "name": "stdout",
     "output_type": "stream",
     "text": [
      "Falciparum/img/1704282807-0001-R.jpg\n",
      "Falciparum/img/1704282807-0002-R.tif\n"
     ]
    },
    {
     "name": "stderr",
     "output_type": "stream",
     "text": [
      "Lossy conversion from float64 to uint8. Range [0, 1]. Convert image to uint8 prior to saving to suppress this warning.\n"
     ]
    },
    {
     "name": "stdout",
     "output_type": "stream",
     "text": [
      "Falciparum/img/1704282807-0002-R.jpg\n",
      "Falciparum/img/1704282807-0003-R.tif\n"
     ]
    },
    {
     "name": "stderr",
     "output_type": "stream",
     "text": [
      "Lossy conversion from float64 to uint8. Range [0, 1]. Convert image to uint8 prior to saving to suppress this warning.\n"
     ]
    },
    {
     "name": "stdout",
     "output_type": "stream",
     "text": [
      "Falciparum/img/1704282807-0003-R.jpg\n",
      "Falciparum/img/1704282807-0004-R_T.tif\n"
     ]
    },
    {
     "name": "stderr",
     "output_type": "stream",
     "text": [
      "Lossy conversion from float64 to uint8. Range [0, 1]. Convert image to uint8 prior to saving to suppress this warning.\n"
     ]
    },
    {
     "name": "stdout",
     "output_type": "stream",
     "text": [
      "Falciparum/img/1704282807-0004-R_T.jpg\n",
      "Falciparum/img/1704282807-0005-R.tif\n"
     ]
    },
    {
     "name": "stderr",
     "output_type": "stream",
     "text": [
      "Lossy conversion from float64 to uint8. Range [0, 1]. Convert image to uint8 prior to saving to suppress this warning.\n"
     ]
    },
    {
     "name": "stdout",
     "output_type": "stream",
     "text": [
      "Falciparum/img/1704282807-0005-R.jpg\n",
      "Falciparum/img/1704282807-0006-R.tif\n"
     ]
    },
    {
     "name": "stderr",
     "output_type": "stream",
     "text": [
      "Lossy conversion from float64 to uint8. Range [0, 1]. Convert image to uint8 prior to saving to suppress this warning.\n"
     ]
    },
    {
     "name": "stdout",
     "output_type": "stream",
     "text": [
      "Falciparum/img/1704282807-0006-R.jpg\n",
      "Falciparum/img/1704282807-0007-R.tif\n"
     ]
    },
    {
     "name": "stderr",
     "output_type": "stream",
     "text": [
      "Lossy conversion from float64 to uint8. Range [0, 1]. Convert image to uint8 prior to saving to suppress this warning.\n"
     ]
    },
    {
     "name": "stdout",
     "output_type": "stream",
     "text": [
      "Falciparum/img/1704282807-0007-R.jpg\n",
      "Falciparum/img/1704282807-0008-R.tif\n"
     ]
    },
    {
     "name": "stderr",
     "output_type": "stream",
     "text": [
      "Lossy conversion from float64 to uint8. Range [0, 1]. Convert image to uint8 prior to saving to suppress this warning.\n"
     ]
    },
    {
     "name": "stdout",
     "output_type": "stream",
     "text": [
      "Falciparum/img/1704282807-0008-R.jpg\n",
      "Falciparum/img/1704282807-0009-R.tif\n"
     ]
    },
    {
     "name": "stderr",
     "output_type": "stream",
     "text": [
      "Lossy conversion from float64 to uint8. Range [0, 1]. Convert image to uint8 prior to saving to suppress this warning.\n"
     ]
    },
    {
     "name": "stdout",
     "output_type": "stream",
     "text": [
      "Falciparum/img/1704282807-0009-R.jpg\n",
      "Falciparum/img/1704282807-0010-R.tif\n"
     ]
    },
    {
     "name": "stderr",
     "output_type": "stream",
     "text": [
      "Lossy conversion from float64 to uint8. Range [0, 1]. Convert image to uint8 prior to saving to suppress this warning.\n"
     ]
    },
    {
     "name": "stdout",
     "output_type": "stream",
     "text": [
      "Falciparum/img/1704282807-0010-R.jpg\n",
      "Falciparum/img/1704282807-0011-R_T.tif\n"
     ]
    },
    {
     "name": "stderr",
     "output_type": "stream",
     "text": [
      "Lossy conversion from float64 to uint8. Range [0, 1]. Convert image to uint8 prior to saving to suppress this warning.\n"
     ]
    },
    {
     "name": "stdout",
     "output_type": "stream",
     "text": [
      "Falciparum/img/1704282807-0011-R_T.jpg\n",
      "Falciparum/img/1704282807-0012-R_T.tif\n"
     ]
    },
    {
     "name": "stderr",
     "output_type": "stream",
     "text": [
      "Lossy conversion from float64 to uint8. Range [0, 1]. Convert image to uint8 prior to saving to suppress this warning.\n"
     ]
    },
    {
     "name": "stdout",
     "output_type": "stream",
     "text": [
      "Falciparum/img/1704282807-0012-R_T.jpg\n",
      "Falciparum/img/1704282807-0013-R_T.tif\n"
     ]
    },
    {
     "name": "stderr",
     "output_type": "stream",
     "text": [
      "Lossy conversion from float64 to uint8. Range [0, 1]. Convert image to uint8 prior to saving to suppress this warning.\n"
     ]
    },
    {
     "name": "stdout",
     "output_type": "stream",
     "text": [
      "Falciparum/img/1704282807-0013-R_T.jpg\n",
      "Falciparum/img/1704282807-0014-R.tif\n"
     ]
    },
    {
     "name": "stderr",
     "output_type": "stream",
     "text": [
      "Lossy conversion from float64 to uint8. Range [0, 1]. Convert image to uint8 prior to saving to suppress this warning.\n"
     ]
    },
    {
     "name": "stdout",
     "output_type": "stream",
     "text": [
      "Falciparum/img/1704282807-0014-R.jpg\n",
      "Falciparum/img/1704282807-0015-R.tif\n"
     ]
    },
    {
     "name": "stderr",
     "output_type": "stream",
     "text": [
      "Lossy conversion from float64 to uint8. Range [0, 1]. Convert image to uint8 prior to saving to suppress this warning.\n"
     ]
    },
    {
     "name": "stdout",
     "output_type": "stream",
     "text": [
      "Falciparum/img/1704282807-0015-R.jpg\n",
      "Falciparum/img/1704282807-0016-R.tif\n"
     ]
    },
    {
     "name": "stderr",
     "output_type": "stream",
     "text": [
      "Lossy conversion from float64 to uint8. Range [0, 1]. Convert image to uint8 prior to saving to suppress this warning.\n"
     ]
    },
    {
     "name": "stdout",
     "output_type": "stream",
     "text": [
      "Falciparum/img/1704282807-0016-R.jpg\n",
      "Falciparum/img/1704282807-0017-R.tif\n"
     ]
    },
    {
     "name": "stderr",
     "output_type": "stream",
     "text": [
      "Lossy conversion from float64 to uint8. Range [0, 1]. Convert image to uint8 prior to saving to suppress this warning.\n"
     ]
    },
    {
     "name": "stdout",
     "output_type": "stream",
     "text": [
      "Falciparum/img/1704282807-0017-R.jpg\n",
      "Falciparum/img/1704282807-0018-R.tif\n"
     ]
    },
    {
     "name": "stderr",
     "output_type": "stream",
     "text": [
      "Lossy conversion from float64 to uint8. Range [0, 1]. Convert image to uint8 prior to saving to suppress this warning.\n"
     ]
    },
    {
     "name": "stdout",
     "output_type": "stream",
     "text": [
      "Falciparum/img/1704282807-0018-R.jpg\n",
      "Falciparum/img/1704282807-0019-R_T.tif\n"
     ]
    },
    {
     "name": "stderr",
     "output_type": "stream",
     "text": [
      "Lossy conversion from float64 to uint8. Range [0, 1]. Convert image to uint8 prior to saving to suppress this warning.\n"
     ]
    },
    {
     "name": "stdout",
     "output_type": "stream",
     "text": [
      "Falciparum/img/1704282807-0019-R_T.jpg\n",
      "Falciparum/img/1704282807-0020-R_T_S.tif\n"
     ]
    },
    {
     "name": "stderr",
     "output_type": "stream",
     "text": [
      "Lossy conversion from float64 to uint8. Range [0, 1]. Convert image to uint8 prior to saving to suppress this warning.\n"
     ]
    },
    {
     "name": "stdout",
     "output_type": "stream",
     "text": [
      "Falciparum/img/1704282807-0020-R_T_S.jpg\n",
      "Falciparum/img/1704282807-0021_R_T.tif\n"
     ]
    },
    {
     "name": "stderr",
     "output_type": "stream",
     "text": [
      "Lossy conversion from float64 to uint8. Range [0, 1]. Convert image to uint8 prior to saving to suppress this warning.\n"
     ]
    },
    {
     "name": "stdout",
     "output_type": "stream",
     "text": [
      "Falciparum/img/1704282807-0021_R_T.jpg\n",
      "Falciparum/img/1305121398-0001-R_S.jpg\n"
     ]
    },
    {
     "name": "stderr",
     "output_type": "stream",
     "text": [
      "Lossy conversion from float64 to uint8. Range [0, 1]. Convert image to uint8 prior to saving to suppress this warning.\n"
     ]
    },
    {
     "name": "stdout",
     "output_type": "stream",
     "text": [
      "Falciparum/img/1305121398-0001-R_S.jpg\n",
      "Falciparum/img/1305121398-0003-R.jpg\n"
     ]
    },
    {
     "name": "stderr",
     "output_type": "stream",
     "text": [
      "Lossy conversion from float64 to uint8. Range [0, 1]. Convert image to uint8 prior to saving to suppress this warning.\n"
     ]
    },
    {
     "name": "stdout",
     "output_type": "stream",
     "text": [
      "Falciparum/img/1305121398-0003-R.jpg\n",
      "Falciparum/img/1305121398-0004-R.jpg\n"
     ]
    },
    {
     "name": "stderr",
     "output_type": "stream",
     "text": [
      "Lossy conversion from float64 to uint8. Range [0, 1]. Convert image to uint8 prior to saving to suppress this warning.\n"
     ]
    },
    {
     "name": "stdout",
     "output_type": "stream",
     "text": [
      "Falciparum/img/1305121398-0004-R.jpg\n",
      "Falciparum/img/1305121398-0005-T.jpg\n"
     ]
    },
    {
     "name": "stderr",
     "output_type": "stream",
     "text": [
      "Lossy conversion from float64 to uint8. Range [0, 1]. Convert image to uint8 prior to saving to suppress this warning.\n"
     ]
    },
    {
     "name": "stdout",
     "output_type": "stream",
     "text": [
      "Falciparum/img/1305121398-0005-T.jpg\n",
      "Falciparum/img/1305121398-0006-R.jpg\n"
     ]
    },
    {
     "name": "stderr",
     "output_type": "stream",
     "text": [
      "Lossy conversion from float64 to uint8. Range [0, 1]. Convert image to uint8 prior to saving to suppress this warning.\n"
     ]
    },
    {
     "name": "stdout",
     "output_type": "stream",
     "text": [
      "Falciparum/img/1305121398-0006-R.jpg\n",
      "Falciparum/img/1305121398-0007-R.jpg\n"
     ]
    },
    {
     "name": "stderr",
     "output_type": "stream",
     "text": [
      "Lossy conversion from float64 to uint8. Range [0, 1]. Convert image to uint8 prior to saving to suppress this warning.\n"
     ]
    },
    {
     "name": "stdout",
     "output_type": "stream",
     "text": [
      "Falciparum/img/1305121398-0007-R.jpg\n",
      "Falciparum/img/1305121398-0008-R.jpg\n"
     ]
    },
    {
     "name": "stderr",
     "output_type": "stream",
     "text": [
      "Lossy conversion from float64 to uint8. Range [0, 1]. Convert image to uint8 prior to saving to suppress this warning.\n"
     ]
    },
    {
     "name": "stdout",
     "output_type": "stream",
     "text": [
      "Falciparum/img/1305121398-0008-R.jpg\n",
      "Falciparum/img/1305121398-0010-S.jpg\n"
     ]
    },
    {
     "name": "stderr",
     "output_type": "stream",
     "text": [
      "Lossy conversion from float64 to uint8. Range [0, 1]. Convert image to uint8 prior to saving to suppress this warning.\n"
     ]
    },
    {
     "name": "stdout",
     "output_type": "stream",
     "text": [
      "Falciparum/img/1305121398-0010-S.jpg\n",
      "Falciparum/img/1305121398-0011-S.jpg\n"
     ]
    },
    {
     "name": "stderr",
     "output_type": "stream",
     "text": [
      "Lossy conversion from float64 to uint8. Range [0, 1]. Convert image to uint8 prior to saving to suppress this warning.\n"
     ]
    },
    {
     "name": "stdout",
     "output_type": "stream",
     "text": [
      "Falciparum/img/1305121398-0011-S.jpg\n",
      "Falciparum/img/1305121398-0012-S.jpg\n"
     ]
    },
    {
     "name": "stderr",
     "output_type": "stream",
     "text": [
      "Lossy conversion from float64 to uint8. Range [0, 1]. Convert image to uint8 prior to saving to suppress this warning.\n"
     ]
    },
    {
     "name": "stdout",
     "output_type": "stream",
     "text": [
      "Falciparum/img/1305121398-0012-S.jpg\n",
      "Falciparum/img/1305121398-0013-S.jpg\n"
     ]
    },
    {
     "name": "stderr",
     "output_type": "stream",
     "text": [
      "Lossy conversion from float64 to uint8. Range [0, 1]. Convert image to uint8 prior to saving to suppress this warning.\n"
     ]
    },
    {
     "name": "stdout",
     "output_type": "stream",
     "text": [
      "Falciparum/img/1305121398-0013-S.jpg\n",
      "Falciparum/img/1305121398-0014-S.jpg\n"
     ]
    },
    {
     "name": "stderr",
     "output_type": "stream",
     "text": [
      "Lossy conversion from float64 to uint8. Range [0, 1]. Convert image to uint8 prior to saving to suppress this warning.\n"
     ]
    },
    {
     "name": "stdout",
     "output_type": "stream",
     "text": [
      "Falciparum/img/1305121398-0014-S.jpg\n",
      "Falciparum/img/1305121398-0015-S.jpg\n"
     ]
    },
    {
     "name": "stderr",
     "output_type": "stream",
     "text": [
      "Lossy conversion from float64 to uint8. Range [0, 1]. Convert image to uint8 prior to saving to suppress this warning.\n"
     ]
    },
    {
     "name": "stdout",
     "output_type": "stream",
     "text": [
      "Falciparum/img/1305121398-0015-S.jpg\n",
      "Falciparum/img/1305121398-0016-T.jpg\n"
     ]
    },
    {
     "name": "stderr",
     "output_type": "stream",
     "text": [
      "Lossy conversion from float64 to uint8. Range [0, 1]. Convert image to uint8 prior to saving to suppress this warning.\n"
     ]
    },
    {
     "name": "stdout",
     "output_type": "stream",
     "text": [
      "Falciparum/img/1305121398-0016-T.jpg\n",
      "Falciparum/img/1305121398-0017-R.jpg\n"
     ]
    },
    {
     "name": "stderr",
     "output_type": "stream",
     "text": [
      "Lossy conversion from float64 to uint8. Range [0, 1]. Convert image to uint8 prior to saving to suppress this warning.\n"
     ]
    },
    {
     "name": "stdout",
     "output_type": "stream",
     "text": [
      "Falciparum/img/1305121398-0017-R.jpg\n",
      "Falciparum/img/1305121398-0018-S.jpg\n"
     ]
    },
    {
     "name": "stderr",
     "output_type": "stream",
     "text": [
      "Lossy conversion from float64 to uint8. Range [0, 1]. Convert image to uint8 prior to saving to suppress this warning.\n"
     ]
    },
    {
     "name": "stdout",
     "output_type": "stream",
     "text": [
      "Falciparum/img/1305121398-0018-S.jpg\n",
      "Falciparum/img/1305121398-0019-R.jpg\n"
     ]
    },
    {
     "name": "stderr",
     "output_type": "stream",
     "text": [
      "Lossy conversion from float64 to uint8. Range [0, 1]. Convert image to uint8 prior to saving to suppress this warning.\n"
     ]
    },
    {
     "name": "stdout",
     "output_type": "stream",
     "text": [
      "Falciparum/img/1305121398-0019-R.jpg\n",
      "Falciparum/img/1305121398-0020-S.jpg\n"
     ]
    },
    {
     "name": "stderr",
     "output_type": "stream",
     "text": [
      "Lossy conversion from float64 to uint8. Range [0, 1]. Convert image to uint8 prior to saving to suppress this warning.\n"
     ]
    },
    {
     "name": "stdout",
     "output_type": "stream",
     "text": [
      "Falciparum/img/1305121398-0020-S.jpg\n",
      "Falciparum/img/1305121398-0021-S.jpg\n"
     ]
    },
    {
     "name": "stderr",
     "output_type": "stream",
     "text": [
      "Lossy conversion from float64 to uint8. Range [0, 1]. Convert image to uint8 prior to saving to suppress this warning.\n"
     ]
    },
    {
     "name": "stdout",
     "output_type": "stream",
     "text": [
      "Falciparum/img/1305121398-0021-S.jpg\n",
      "Falciparum/img/1305121398-0022-S.jpg\n"
     ]
    },
    {
     "name": "stderr",
     "output_type": "stream",
     "text": [
      "Lossy conversion from float64 to uint8. Range [0, 1]. Convert image to uint8 prior to saving to suppress this warning.\n"
     ]
    },
    {
     "name": "stdout",
     "output_type": "stream",
     "text": [
      "Falciparum/img/1305121398-0022-S.jpg\n",
      "Falciparum/img/1307210661-0001-R.jpg\n"
     ]
    },
    {
     "name": "stderr",
     "output_type": "stream",
     "text": [
      "Lossy conversion from float64 to uint8. Range [0, 1]. Convert image to uint8 prior to saving to suppress this warning.\n"
     ]
    },
    {
     "name": "stdout",
     "output_type": "stream",
     "text": [
      "Falciparum/img/1307210661-0001-R.jpg\n",
      "Falciparum/img/1307210661-0002-R.jpg\n"
     ]
    },
    {
     "name": "stderr",
     "output_type": "stream",
     "text": [
      "Lossy conversion from float64 to uint8. Range [0, 1]. Convert image to uint8 prior to saving to suppress this warning.\n"
     ]
    },
    {
     "name": "stdout",
     "output_type": "stream",
     "text": [
      "Falciparum/img/1307210661-0002-R.jpg\n",
      "Falciparum/img/1307210661-0003-R.jpg\n"
     ]
    },
    {
     "name": "stderr",
     "output_type": "stream",
     "text": [
      "Lossy conversion from float64 to uint8. Range [0, 1]. Convert image to uint8 prior to saving to suppress this warning.\n"
     ]
    },
    {
     "name": "stdout",
     "output_type": "stream",
     "text": [
      "Falciparum/img/1307210661-0003-R.jpg\n",
      "Falciparum/img/1307210661-0004-R.jpg\n"
     ]
    },
    {
     "name": "stderr",
     "output_type": "stream",
     "text": [
      "Lossy conversion from float64 to uint8. Range [0, 1]. Convert image to uint8 prior to saving to suppress this warning.\n"
     ]
    },
    {
     "name": "stdout",
     "output_type": "stream",
     "text": [
      "Falciparum/img/1307210661-0004-R.jpg\n",
      "Falciparum/img/1307210661-0005-R.jpg\n"
     ]
    },
    {
     "name": "stderr",
     "output_type": "stream",
     "text": [
      "Lossy conversion from float64 to uint8. Range [0, 1]. Convert image to uint8 prior to saving to suppress this warning.\n"
     ]
    },
    {
     "name": "stdout",
     "output_type": "stream",
     "text": [
      "Falciparum/img/1307210661-0005-R.jpg\n",
      "Falciparum/img/1307210661-0006-R.jpg\n"
     ]
    },
    {
     "name": "stderr",
     "output_type": "stream",
     "text": [
      "Lossy conversion from float64 to uint8. Range [0, 1]. Convert image to uint8 prior to saving to suppress this warning.\n"
     ]
    },
    {
     "name": "stdout",
     "output_type": "stream",
     "text": [
      "Falciparum/img/1307210661-0006-R.jpg\n",
      "Falciparum/img/1307210661-0007-R.jpg\n"
     ]
    },
    {
     "name": "stderr",
     "output_type": "stream",
     "text": [
      "Lossy conversion from float64 to uint8. Range [0, 1]. Convert image to uint8 prior to saving to suppress this warning.\n"
     ]
    },
    {
     "name": "stdout",
     "output_type": "stream",
     "text": [
      "Falciparum/img/1307210661-0007-R.jpg\n",
      "Falciparum/img/1307210661-0008-R.jpg\n"
     ]
    },
    {
     "name": "stderr",
     "output_type": "stream",
     "text": [
      "Lossy conversion from float64 to uint8. Range [0, 1]. Convert image to uint8 prior to saving to suppress this warning.\n"
     ]
    },
    {
     "name": "stdout",
     "output_type": "stream",
     "text": [
      "Falciparum/img/1307210661-0008-R.jpg\n",
      "Falciparum/img/1307210661-0009-R.jpg\n"
     ]
    },
    {
     "name": "stderr",
     "output_type": "stream",
     "text": [
      "Lossy conversion from float64 to uint8. Range [0, 1]. Convert image to uint8 prior to saving to suppress this warning.\n"
     ]
    },
    {
     "name": "stdout",
     "output_type": "stream",
     "text": [
      "Falciparum/img/1307210661-0009-R.jpg\n",
      "Falciparum/img/1307210661-0010-R.jpg\n"
     ]
    },
    {
     "name": "stderr",
     "output_type": "stream",
     "text": [
      "Lossy conversion from float64 to uint8. Range [0, 1]. Convert image to uint8 prior to saving to suppress this warning.\n"
     ]
    },
    {
     "name": "stdout",
     "output_type": "stream",
     "text": [
      "Falciparum/img/1307210661-0010-R.jpg\n",
      "Falciparum/img/1401063467-0001-S.jpg\n"
     ]
    },
    {
     "name": "stderr",
     "output_type": "stream",
     "text": [
      "Lossy conversion from float64 to uint8. Range [0, 1]. Convert image to uint8 prior to saving to suppress this warning.\n"
     ]
    },
    {
     "name": "stdout",
     "output_type": "stream",
     "text": [
      "Falciparum/img/1401063467-0001-S.jpg\n",
      "Falciparum/img/1401063467-0002-T.jpg\n"
     ]
    },
    {
     "name": "stderr",
     "output_type": "stream",
     "text": [
      "Lossy conversion from float64 to uint8. Range [0, 1]. Convert image to uint8 prior to saving to suppress this warning.\n"
     ]
    },
    {
     "name": "stdout",
     "output_type": "stream",
     "text": [
      "Falciparum/img/1401063467-0002-T.jpg\n",
      "Falciparum/img/1401063467-0003-T.jpg\n"
     ]
    },
    {
     "name": "stderr",
     "output_type": "stream",
     "text": [
      "Lossy conversion from float64 to uint8. Range [0, 1]. Convert image to uint8 prior to saving to suppress this warning.\n"
     ]
    },
    {
     "name": "stdout",
     "output_type": "stream",
     "text": [
      "Falciparum/img/1401063467-0003-T.jpg\n",
      "Falciparum/img/1401063467-0004-R.jpg\n"
     ]
    },
    {
     "name": "stderr",
     "output_type": "stream",
     "text": [
      "Lossy conversion from float64 to uint8. Range [0, 1]. Convert image to uint8 prior to saving to suppress this warning.\n"
     ]
    },
    {
     "name": "stdout",
     "output_type": "stream",
     "text": [
      "Falciparum/img/1401063467-0004-R.jpg\n",
      "Falciparum/img/1401063467-0005-T.jpg\n"
     ]
    },
    {
     "name": "stderr",
     "output_type": "stream",
     "text": [
      "Lossy conversion from float64 to uint8. Range [0, 1]. Convert image to uint8 prior to saving to suppress this warning.\n"
     ]
    },
    {
     "name": "stdout",
     "output_type": "stream",
     "text": [
      "Falciparum/img/1401063467-0005-T.jpg\n",
      "Falciparum/img/1401063467-0006-T.jpg\n"
     ]
    },
    {
     "name": "stderr",
     "output_type": "stream",
     "text": [
      "Lossy conversion from float64 to uint8. Range [0, 1]. Convert image to uint8 prior to saving to suppress this warning.\n"
     ]
    },
    {
     "name": "stdout",
     "output_type": "stream",
     "text": [
      "Falciparum/img/1401063467-0006-T.jpg\n",
      "Falciparum/img/1401063467-0007-S.jpg\n"
     ]
    },
    {
     "name": "stderr",
     "output_type": "stream",
     "text": [
      "Lossy conversion from float64 to uint8. Range [0, 1]. Convert image to uint8 prior to saving to suppress this warning.\n"
     ]
    },
    {
     "name": "stdout",
     "output_type": "stream",
     "text": [
      "Falciparum/img/1401063467-0007-S.jpg\n",
      "Falciparum/img/1401063467-0008-S.jpg\n"
     ]
    },
    {
     "name": "stderr",
     "output_type": "stream",
     "text": [
      "Lossy conversion from float64 to uint8. Range [0, 1]. Convert image to uint8 prior to saving to suppress this warning.\n"
     ]
    },
    {
     "name": "stdout",
     "output_type": "stream",
     "text": [
      "Falciparum/img/1401063467-0008-S.jpg\n",
      "Falciparum/img/1401063467-0009-T.jpg\n"
     ]
    },
    {
     "name": "stderr",
     "output_type": "stream",
     "text": [
      "Lossy conversion from float64 to uint8. Range [0, 1]. Convert image to uint8 prior to saving to suppress this warning.\n"
     ]
    },
    {
     "name": "stdout",
     "output_type": "stream",
     "text": [
      "Falciparum/img/1401063467-0009-T.jpg\n",
      "Falciparum/img/1401063467-0010-T.jpg\n"
     ]
    },
    {
     "name": "stderr",
     "output_type": "stream",
     "text": [
      "Lossy conversion from float64 to uint8. Range [0, 1]. Convert image to uint8 prior to saving to suppress this warning.\n"
     ]
    },
    {
     "name": "stdout",
     "output_type": "stream",
     "text": [
      "Falciparum/img/1401063467-0010-T.jpg\n",
      "Falciparum/img/1401063467-0011-S.jpg\n"
     ]
    },
    {
     "name": "stderr",
     "output_type": "stream",
     "text": [
      "Lossy conversion from float64 to uint8. Range [0, 1]. Convert image to uint8 prior to saving to suppress this warning.\n"
     ]
    },
    {
     "name": "stdout",
     "output_type": "stream",
     "text": [
      "Falciparum/img/1401063467-0011-S.jpg\n",
      "Falciparum/img/1401063467-0012-S.jpg\n"
     ]
    },
    {
     "name": "stderr",
     "output_type": "stream",
     "text": [
      "Lossy conversion from float64 to uint8. Range [0, 1]. Convert image to uint8 prior to saving to suppress this warning.\n"
     ]
    },
    {
     "name": "stdout",
     "output_type": "stream",
     "text": [
      "Falciparum/img/1401063467-0012-S.jpg\n",
      "Falciparum/img/1401063467-0013-T.jpg\n"
     ]
    },
    {
     "name": "stderr",
     "output_type": "stream",
     "text": [
      "Lossy conversion from float64 to uint8. Range [0, 1]. Convert image to uint8 prior to saving to suppress this warning.\n"
     ]
    },
    {
     "name": "stdout",
     "output_type": "stream",
     "text": [
      "Falciparum/img/1401063467-0013-T.jpg\n",
      "Falciparum/img/1405022890-0001-R.jpg\n"
     ]
    },
    {
     "name": "stderr",
     "output_type": "stream",
     "text": [
      "Lossy conversion from float64 to uint8. Range [0, 1]. Convert image to uint8 prior to saving to suppress this warning.\n"
     ]
    },
    {
     "name": "stdout",
     "output_type": "stream",
     "text": [
      "Falciparum/img/1405022890-0001-R.jpg\n",
      "Falciparum/img/1405022890-0002-R.jpg\n"
     ]
    },
    {
     "name": "stderr",
     "output_type": "stream",
     "text": [
      "Lossy conversion from float64 to uint8. Range [0, 1]. Convert image to uint8 prior to saving to suppress this warning.\n"
     ]
    },
    {
     "name": "stdout",
     "output_type": "stream",
     "text": [
      "Falciparum/img/1405022890-0002-R.jpg\n",
      "Falciparum/img/1405022890-0003-R.jpg\n"
     ]
    },
    {
     "name": "stderr",
     "output_type": "stream",
     "text": [
      "Lossy conversion from float64 to uint8. Range [0, 1]. Convert image to uint8 prior to saving to suppress this warning.\n"
     ]
    },
    {
     "name": "stdout",
     "output_type": "stream",
     "text": [
      "Falciparum/img/1405022890-0003-R.jpg\n",
      "Falciparum/img/1405022890-0004-R.jpg\n"
     ]
    },
    {
     "name": "stderr",
     "output_type": "stream",
     "text": [
      "Lossy conversion from float64 to uint8. Range [0, 1]. Convert image to uint8 prior to saving to suppress this warning.\n"
     ]
    },
    {
     "name": "stdout",
     "output_type": "stream",
     "text": [
      "Falciparum/img/1405022890-0004-R.jpg\n",
      "Falciparum/img/1405022890-0005-R.jpg\n"
     ]
    },
    {
     "name": "stderr",
     "output_type": "stream",
     "text": [
      "Lossy conversion from float64 to uint8. Range [0, 1]. Convert image to uint8 prior to saving to suppress this warning.\n"
     ]
    },
    {
     "name": "stdout",
     "output_type": "stream",
     "text": [
      "Falciparum/img/1405022890-0005-R.jpg\n",
      "Falciparum/img/1405022890-0006-R.jpg\n"
     ]
    },
    {
     "name": "stderr",
     "output_type": "stream",
     "text": [
      "Lossy conversion from float64 to uint8. Range [0, 1]. Convert image to uint8 prior to saving to suppress this warning.\n"
     ]
    },
    {
     "name": "stdout",
     "output_type": "stream",
     "text": [
      "Falciparum/img/1405022890-0006-R.jpg\n",
      "Falciparum/img/1408161544-0001-S_R.jpg\n"
     ]
    },
    {
     "name": "stderr",
     "output_type": "stream",
     "text": [
      "Lossy conversion from float64 to uint8. Range [0, 1]. Convert image to uint8 prior to saving to suppress this warning.\n"
     ]
    },
    {
     "name": "stdout",
     "output_type": "stream",
     "text": [
      "Falciparum/img/1408161544-0001-S_R.jpg\n",
      "Falciparum/img/1408161544-0002-R_S.jpg\n"
     ]
    },
    {
     "name": "stderr",
     "output_type": "stream",
     "text": [
      "Lossy conversion from float64 to uint8. Range [0, 1]. Convert image to uint8 prior to saving to suppress this warning.\n"
     ]
    },
    {
     "name": "stdout",
     "output_type": "stream",
     "text": [
      "Falciparum/img/1408161544-0002-R_S.jpg\n",
      "Falciparum/img/1408161544-0003-R_S.jpg\n"
     ]
    },
    {
     "name": "stderr",
     "output_type": "stream",
     "text": [
      "Lossy conversion from float64 to uint8. Range [0, 1]. Convert image to uint8 prior to saving to suppress this warning.\n"
     ]
    },
    {
     "name": "stdout",
     "output_type": "stream",
     "text": [
      "Falciparum/img/1408161544-0003-R_S.jpg\n",
      "Falciparum/img/1408290968-0001-R.jpg\n"
     ]
    },
    {
     "name": "stderr",
     "output_type": "stream",
     "text": [
      "Lossy conversion from float64 to uint8. Range [0, 1]. Convert image to uint8 prior to saving to suppress this warning.\n"
     ]
    },
    {
     "name": "stdout",
     "output_type": "stream",
     "text": [
      "Falciparum/img/1408290968-0001-R.jpg\n",
      "Falciparum/img/1408290968-0002-R.jpg\n"
     ]
    },
    {
     "name": "stderr",
     "output_type": "stream",
     "text": [
      "Lossy conversion from float64 to uint8. Range [0, 1]. Convert image to uint8 prior to saving to suppress this warning.\n"
     ]
    },
    {
     "name": "stdout",
     "output_type": "stream",
     "text": [
      "Falciparum/img/1408290968-0002-R.jpg\n",
      "Falciparum/img/1408290968-0003-R.jpg\n"
     ]
    },
    {
     "name": "stderr",
     "output_type": "stream",
     "text": [
      "Lossy conversion from float64 to uint8. Range [0, 1]. Convert image to uint8 prior to saving to suppress this warning.\n"
     ]
    },
    {
     "name": "stdout",
     "output_type": "stream",
     "text": [
      "Falciparum/img/1408290968-0003-R.jpg\n",
      "Falciparum/img/1409171742-0001-R.jpg\n"
     ]
    },
    {
     "name": "stderr",
     "output_type": "stream",
     "text": [
      "Lossy conversion from float64 to uint8. Range [0, 1]. Convert image to uint8 prior to saving to suppress this warning.\n"
     ]
    },
    {
     "name": "stdout",
     "output_type": "stream",
     "text": [
      "Falciparum/img/1409171742-0001-R.jpg\n",
      "Falciparum/img/1409171742-0002-R.jpg\n"
     ]
    },
    {
     "name": "stderr",
     "output_type": "stream",
     "text": [
      "Lossy conversion from float64 to uint8. Range [0, 1]. Convert image to uint8 prior to saving to suppress this warning.\n"
     ]
    },
    {
     "name": "stdout",
     "output_type": "stream",
     "text": [
      "Falciparum/img/1409171742-0002-R.jpg\n",
      "Falciparum/img/1409171742-0003-R.jpg\n"
     ]
    },
    {
     "name": "stderr",
     "output_type": "stream",
     "text": [
      "Lossy conversion from float64 to uint8. Range [0, 1]. Convert image to uint8 prior to saving to suppress this warning.\n"
     ]
    },
    {
     "name": "stdout",
     "output_type": "stream",
     "text": [
      "Falciparum/img/1409171742-0003-R.jpg\n",
      "Falciparum/img/1409171742-0004-R.jpg\n"
     ]
    },
    {
     "name": "stderr",
     "output_type": "stream",
     "text": [
      "Lossy conversion from float64 to uint8. Range [0, 1]. Convert image to uint8 prior to saving to suppress this warning.\n"
     ]
    },
    {
     "name": "stdout",
     "output_type": "stream",
     "text": [
      "Falciparum/img/1409171742-0004-R.jpg\n",
      "Falciparum/img/1409171742-0005-R.jpg\n"
     ]
    },
    {
     "name": "stderr",
     "output_type": "stream",
     "text": [
      "Lossy conversion from float64 to uint8. Range [0, 1]. Convert image to uint8 prior to saving to suppress this warning.\n"
     ]
    },
    {
     "name": "stdout",
     "output_type": "stream",
     "text": [
      "Falciparum/img/1409171742-0005-R.jpg\n",
      "Falciparum/img/1409171742-0006-R.jpg\n"
     ]
    },
    {
     "name": "stderr",
     "output_type": "stream",
     "text": [
      "Lossy conversion from float64 to uint8. Range [0, 1]. Convert image to uint8 prior to saving to suppress this warning.\n"
     ]
    },
    {
     "name": "stdout",
     "output_type": "stream",
     "text": [
      "Falciparum/img/1409171742-0006-R.jpg\n",
      "Falciparum/img/1409171742-0007-R.jpg\n"
     ]
    },
    {
     "name": "stderr",
     "output_type": "stream",
     "text": [
      "Lossy conversion from float64 to uint8. Range [0, 1]. Convert image to uint8 prior to saving to suppress this warning.\n"
     ]
    },
    {
     "name": "stdout",
     "output_type": "stream",
     "text": [
      "Falciparum/img/1409171742-0007-R.jpg\n",
      "Falciparum/img/1409171742-0008-R.jpg\n"
     ]
    },
    {
     "name": "stderr",
     "output_type": "stream",
     "text": [
      "Lossy conversion from float64 to uint8. Range [0, 1]. Convert image to uint8 prior to saving to suppress this warning.\n"
     ]
    },
    {
     "name": "stdout",
     "output_type": "stream",
     "text": [
      "Falciparum/img/1409171742-0008-R.jpg\n",
      "Falciparum/img/1409171742-0009-R.jpg\n"
     ]
    },
    {
     "name": "stderr",
     "output_type": "stream",
     "text": [
      "Lossy conversion from float64 to uint8. Range [0, 1]. Convert image to uint8 prior to saving to suppress this warning.\n"
     ]
    },
    {
     "name": "stdout",
     "output_type": "stream",
     "text": [
      "Falciparum/img/1409171742-0009-R.jpg\n",
      "Falciparum/img/1409171742-0010-R.jpg\n"
     ]
    },
    {
     "name": "stderr",
     "output_type": "stream",
     "text": [
      "Lossy conversion from float64 to uint8. Range [0, 1]. Convert image to uint8 prior to saving to suppress this warning.\n"
     ]
    },
    {
     "name": "stdout",
     "output_type": "stream",
     "text": [
      "Falciparum/img/1409171742-0010-R.jpg\n",
      "Falciparum/img/1409191647-0001-R.jpg\n"
     ]
    },
    {
     "name": "stderr",
     "output_type": "stream",
     "text": [
      "Lossy conversion from float64 to uint8. Range [0, 1]. Convert image to uint8 prior to saving to suppress this warning.\n"
     ]
    },
    {
     "name": "stdout",
     "output_type": "stream",
     "text": [
      "Falciparum/img/1409191647-0001-R.jpg\n",
      "Falciparum/img/1409191647-0002-R.jpg\n"
     ]
    },
    {
     "name": "stderr",
     "output_type": "stream",
     "text": [
      "Lossy conversion from float64 to uint8. Range [0, 1]. Convert image to uint8 prior to saving to suppress this warning.\n"
     ]
    },
    {
     "name": "stdout",
     "output_type": "stream",
     "text": [
      "Falciparum/img/1409191647-0002-R.jpg\n",
      "Falciparum/img/1409191647-0003-R.jpg\n"
     ]
    },
    {
     "name": "stderr",
     "output_type": "stream",
     "text": [
      "Lossy conversion from float64 to uint8. Range [0, 1]. Convert image to uint8 prior to saving to suppress this warning.\n"
     ]
    },
    {
     "name": "stdout",
     "output_type": "stream",
     "text": [
      "Falciparum/img/1409191647-0003-R.jpg\n",
      "Falciparum/img/1409191647-0004-R.jpg\n"
     ]
    },
    {
     "name": "stderr",
     "output_type": "stream",
     "text": [
      "Lossy conversion from float64 to uint8. Range [0, 1]. Convert image to uint8 prior to saving to suppress this warning.\n"
     ]
    },
    {
     "name": "stdout",
     "output_type": "stream",
     "text": [
      "Falciparum/img/1409191647-0004-R.jpg\n",
      "Falciparum/img/1409191647-0005-R.jpg\n"
     ]
    },
    {
     "name": "stderr",
     "output_type": "stream",
     "text": [
      "Lossy conversion from float64 to uint8. Range [0, 1]. Convert image to uint8 prior to saving to suppress this warning.\n"
     ]
    },
    {
     "name": "stdout",
     "output_type": "stream",
     "text": [
      "Falciparum/img/1409191647-0005-R.jpg\n",
      "Falciparum/img/1409191647-0006-R.jpg\n"
     ]
    },
    {
     "name": "stderr",
     "output_type": "stream",
     "text": [
      "Lossy conversion from float64 to uint8. Range [0, 1]. Convert image to uint8 prior to saving to suppress this warning.\n"
     ]
    },
    {
     "name": "stdout",
     "output_type": "stream",
     "text": [
      "Falciparum/img/1409191647-0006-R.jpg\n",
      "Falciparum/img/1409191647-0007-R.jpg\n"
     ]
    },
    {
     "name": "stderr",
     "output_type": "stream",
     "text": [
      "Lossy conversion from float64 to uint8. Range [0, 1]. Convert image to uint8 prior to saving to suppress this warning.\n"
     ]
    },
    {
     "name": "stdout",
     "output_type": "stream",
     "text": [
      "Falciparum/img/1409191647-0007-R.jpg\n",
      "Falciparum/img/1409191647-0008-T.jpg\n"
     ]
    },
    {
     "name": "stderr",
     "output_type": "stream",
     "text": [
      "Lossy conversion from float64 to uint8. Range [0, 1]. Convert image to uint8 prior to saving to suppress this warning.\n"
     ]
    },
    {
     "name": "stdout",
     "output_type": "stream",
     "text": [
      "Falciparum/img/1409191647-0008-T.jpg\n",
      "Falciparum/img/1409191647-0009-R.jpg\n"
     ]
    },
    {
     "name": "stderr",
     "output_type": "stream",
     "text": [
      "Lossy conversion from float64 to uint8. Range [0, 1]. Convert image to uint8 prior to saving to suppress this warning.\n"
     ]
    },
    {
     "name": "stdout",
     "output_type": "stream",
     "text": [
      "Falciparum/img/1409191647-0009-R.jpg\n",
      "Falciparum/img/1409191647-0010-R.jpg\n"
     ]
    },
    {
     "name": "stderr",
     "output_type": "stream",
     "text": [
      "Lossy conversion from float64 to uint8. Range [0, 1]. Convert image to uint8 prior to saving to suppress this warning.\n"
     ]
    },
    {
     "name": "stdout",
     "output_type": "stream",
     "text": [
      "Falciparum/img/1409191647-0010-R.jpg\n",
      "Falciparum/img/1603223711-0001-T.jpg\n"
     ]
    },
    {
     "name": "stderr",
     "output_type": "stream",
     "text": [
      "Lossy conversion from float64 to uint8. Range [0, 1]. Convert image to uint8 prior to saving to suppress this warning.\n"
     ]
    },
    {
     "name": "stdout",
     "output_type": "stream",
     "text": [
      "Falciparum/img/1603223711-0001-T.jpg\n",
      "Falciparum/img/1603223711-0002-T.jpg\n"
     ]
    },
    {
     "name": "stderr",
     "output_type": "stream",
     "text": [
      "Lossy conversion from float64 to uint8. Range [0, 1]. Convert image to uint8 prior to saving to suppress this warning.\n"
     ]
    },
    {
     "name": "stdout",
     "output_type": "stream",
     "text": [
      "Falciparum/img/1603223711-0002-T.jpg\n",
      "Falciparum/img/1603223711-0003-T_R.jpg\n"
     ]
    },
    {
     "name": "stderr",
     "output_type": "stream",
     "text": [
      "Lossy conversion from float64 to uint8. Range [0, 1]. Convert image to uint8 prior to saving to suppress this warning.\n"
     ]
    },
    {
     "name": "stdout",
     "output_type": "stream",
     "text": [
      "Falciparum/img/1603223711-0003-T_R.jpg\n",
      "Falciparum/img/1603223711-0004-R.jpg\n"
     ]
    },
    {
     "name": "stderr",
     "output_type": "stream",
     "text": [
      "Lossy conversion from float64 to uint8. Range [0, 1]. Convert image to uint8 prior to saving to suppress this warning.\n"
     ]
    },
    {
     "name": "stdout",
     "output_type": "stream",
     "text": [
      "Falciparum/img/1603223711-0004-R.jpg\n",
      "Falciparum/img/1603223711-0005-T.jpg\n"
     ]
    },
    {
     "name": "stderr",
     "output_type": "stream",
     "text": [
      "Lossy conversion from float64 to uint8. Range [0, 1]. Convert image to uint8 prior to saving to suppress this warning.\n"
     ]
    },
    {
     "name": "stdout",
     "output_type": "stream",
     "text": [
      "Falciparum/img/1603223711-0005-T.jpg\n",
      "Falciparum/img/1603223711-0006-T.jpg\n"
     ]
    },
    {
     "name": "stderr",
     "output_type": "stream",
     "text": [
      "Lossy conversion from float64 to uint8. Range [0, 1]. Convert image to uint8 prior to saving to suppress this warning.\n"
     ]
    },
    {
     "name": "stdout",
     "output_type": "stream",
     "text": [
      "Falciparum/img/1603223711-0006-T.jpg\n",
      "Falciparum/img/1701151546-0001-R_T.jpg\n"
     ]
    },
    {
     "name": "stderr",
     "output_type": "stream",
     "text": [
      "Lossy conversion from float64 to uint8. Range [0, 1]. Convert image to uint8 prior to saving to suppress this warning.\n"
     ]
    },
    {
     "name": "stdout",
     "output_type": "stream",
     "text": [
      "Falciparum/img/1701151546-0001-R_T.jpg\n",
      "Falciparum/img/1701151546-0002-R.jpg\n"
     ]
    },
    {
     "name": "stderr",
     "output_type": "stream",
     "text": [
      "Lossy conversion from float64 to uint8. Range [0, 1]. Convert image to uint8 prior to saving to suppress this warning.\n"
     ]
    },
    {
     "name": "stdout",
     "output_type": "stream",
     "text": [
      "Falciparum/img/1701151546-0002-R.jpg\n",
      "Falciparum/img/1701151546-0003-R.jpg\n"
     ]
    },
    {
     "name": "stderr",
     "output_type": "stream",
     "text": [
      "Lossy conversion from float64 to uint8. Range [0, 1]. Convert image to uint8 prior to saving to suppress this warning.\n"
     ]
    },
    {
     "name": "stdout",
     "output_type": "stream",
     "text": [
      "Falciparum/img/1701151546-0003-R.jpg\n",
      "Falciparum/img/1701151546-0004-R_T.jpg\n"
     ]
    },
    {
     "name": "stderr",
     "output_type": "stream",
     "text": [
      "Lossy conversion from float64 to uint8. Range [0, 1]. Convert image to uint8 prior to saving to suppress this warning.\n"
     ]
    },
    {
     "name": "stdout",
     "output_type": "stream",
     "text": [
      "Falciparum/img/1701151546-0004-R_T.jpg\n",
      "Falciparum/img/1701151546-0005-R.jpg\n"
     ]
    },
    {
     "name": "stderr",
     "output_type": "stream",
     "text": [
      "Lossy conversion from float64 to uint8. Range [0, 1]. Convert image to uint8 prior to saving to suppress this warning.\n"
     ]
    },
    {
     "name": "stdout",
     "output_type": "stream",
     "text": [
      "Falciparum/img/1701151546-0005-R.jpg\n",
      "Falciparum/img/1701151546-0006-R_T.jpg\n"
     ]
    },
    {
     "name": "stderr",
     "output_type": "stream",
     "text": [
      "Lossy conversion from float64 to uint8. Range [0, 1]. Convert image to uint8 prior to saving to suppress this warning.\n"
     ]
    },
    {
     "name": "stdout",
     "output_type": "stream",
     "text": [
      "Falciparum/img/1701151546-0006-R_T.jpg\n",
      "Falciparum/img/1701151546-0007-R.jpg\n"
     ]
    },
    {
     "name": "stderr",
     "output_type": "stream",
     "text": [
      "Lossy conversion from float64 to uint8. Range [0, 1]. Convert image to uint8 prior to saving to suppress this warning.\n"
     ]
    },
    {
     "name": "stdout",
     "output_type": "stream",
     "text": [
      "Falciparum/img/1701151546-0007-R.jpg\n",
      "Falciparum/img/1701151546-0008-R-T.jpg\n"
     ]
    },
    {
     "name": "stderr",
     "output_type": "stream",
     "text": [
      "Lossy conversion from float64 to uint8. Range [0, 1]. Convert image to uint8 prior to saving to suppress this warning.\n"
     ]
    },
    {
     "name": "stdout",
     "output_type": "stream",
     "text": [
      "Falciparum/img/1701151546-0008-R-T.jpg\n",
      "Falciparum/img/1701151546-0009-R.jpg\n"
     ]
    },
    {
     "name": "stderr",
     "output_type": "stream",
     "text": [
      "Lossy conversion from float64 to uint8. Range [0, 1]. Convert image to uint8 prior to saving to suppress this warning.\n"
     ]
    },
    {
     "name": "stdout",
     "output_type": "stream",
     "text": [
      "Falciparum/img/1701151546-0009-R.jpg\n",
      "Falciparum/img/1701151546-0010-R.jpg\n"
     ]
    },
    {
     "name": "stderr",
     "output_type": "stream",
     "text": [
      "Lossy conversion from float64 to uint8. Range [0, 1]. Convert image to uint8 prior to saving to suppress this warning.\n"
     ]
    },
    {
     "name": "stdout",
     "output_type": "stream",
     "text": [
      "Falciparum/img/1701151546-0010-R.jpg\n",
      "Falciparum/img/1701151546-0011-R_T.jpg\n"
     ]
    },
    {
     "name": "stderr",
     "output_type": "stream",
     "text": [
      "Lossy conversion from float64 to uint8. Range [0, 1]. Convert image to uint8 prior to saving to suppress this warning.\n"
     ]
    },
    {
     "name": "stdout",
     "output_type": "stream",
     "text": [
      "Falciparum/img/1701151546-0011-R_T.jpg\n",
      "Falciparum/img/1701151546-0012-R.jpg\n"
     ]
    },
    {
     "name": "stderr",
     "output_type": "stream",
     "text": [
      "Lossy conversion from float64 to uint8. Range [0, 1]. Convert image to uint8 prior to saving to suppress this warning.\n"
     ]
    },
    {
     "name": "stdout",
     "output_type": "stream",
     "text": [
      "Falciparum/img/1701151546-0012-R.jpg\n",
      "Falciparum/img/1701151546-0013-R_T.jpg\n"
     ]
    },
    {
     "name": "stderr",
     "output_type": "stream",
     "text": [
      "Lossy conversion from float64 to uint8. Range [0, 1]. Convert image to uint8 prior to saving to suppress this warning.\n"
     ]
    },
    {
     "name": "stdout",
     "output_type": "stream",
     "text": [
      "Falciparum/img/1701151546-0013-R_T.jpg\n",
      "Falciparum/img/1701151546-0014-R.jpg\n"
     ]
    },
    {
     "name": "stderr",
     "output_type": "stream",
     "text": [
      "Lossy conversion from float64 to uint8. Range [0, 1]. Convert image to uint8 prior to saving to suppress this warning.\n"
     ]
    },
    {
     "name": "stdout",
     "output_type": "stream",
     "text": [
      "Falciparum/img/1701151546-0014-R.jpg\n",
      "Falciparum/img/1701151546-0015-R_T.jpg\n"
     ]
    },
    {
     "name": "stderr",
     "output_type": "stream",
     "text": [
      "Lossy conversion from float64 to uint8. Range [0, 1]. Convert image to uint8 prior to saving to suppress this warning.\n"
     ]
    },
    {
     "name": "stdout",
     "output_type": "stream",
     "text": [
      "Falciparum/img/1701151546-0015-R_T.jpg\n",
      "Falciparum/img/1704282807-0001-R.jpg\n"
     ]
    },
    {
     "name": "stderr",
     "output_type": "stream",
     "text": [
      "Lossy conversion from float64 to uint8. Range [0, 1]. Convert image to uint8 prior to saving to suppress this warning.\n"
     ]
    },
    {
     "name": "stdout",
     "output_type": "stream",
     "text": [
      "Falciparum/img/1704282807-0001-R.jpg\n",
      "Falciparum/img/1704282807-0002-R.jpg\n"
     ]
    },
    {
     "name": "stderr",
     "output_type": "stream",
     "text": [
      "Lossy conversion from float64 to uint8. Range [0, 1]. Convert image to uint8 prior to saving to suppress this warning.\n"
     ]
    },
    {
     "name": "stdout",
     "output_type": "stream",
     "text": [
      "Falciparum/img/1704282807-0002-R.jpg\n",
      "Falciparum/img/1704282807-0003-R.jpg\n"
     ]
    },
    {
     "name": "stderr",
     "output_type": "stream",
     "text": [
      "Lossy conversion from float64 to uint8. Range [0, 1]. Convert image to uint8 prior to saving to suppress this warning.\n"
     ]
    },
    {
     "name": "stdout",
     "output_type": "stream",
     "text": [
      "Falciparum/img/1704282807-0003-R.jpg\n",
      "Falciparum/img/1704282807-0004-R_T.jpg\n"
     ]
    },
    {
     "name": "stderr",
     "output_type": "stream",
     "text": [
      "Lossy conversion from float64 to uint8. Range [0, 1]. Convert image to uint8 prior to saving to suppress this warning.\n"
     ]
    },
    {
     "name": "stdout",
     "output_type": "stream",
     "text": [
      "Falciparum/img/1704282807-0004-R_T.jpg\n",
      "Falciparum/img/1704282807-0005-R.jpg\n"
     ]
    },
    {
     "name": "stderr",
     "output_type": "stream",
     "text": [
      "Lossy conversion from float64 to uint8. Range [0, 1]. Convert image to uint8 prior to saving to suppress this warning.\n"
     ]
    },
    {
     "name": "stdout",
     "output_type": "stream",
     "text": [
      "Falciparum/img/1704282807-0005-R.jpg\n",
      "Falciparum/img/1704282807-0006-R.jpg\n"
     ]
    },
    {
     "name": "stderr",
     "output_type": "stream",
     "text": [
      "Lossy conversion from float64 to uint8. Range [0, 1]. Convert image to uint8 prior to saving to suppress this warning.\n"
     ]
    },
    {
     "name": "stdout",
     "output_type": "stream",
     "text": [
      "Falciparum/img/1704282807-0006-R.jpg\n",
      "Falciparum/img/1704282807-0007-R.jpg\n"
     ]
    },
    {
     "name": "stderr",
     "output_type": "stream",
     "text": [
      "Lossy conversion from float64 to uint8. Range [0, 1]. Convert image to uint8 prior to saving to suppress this warning.\n"
     ]
    },
    {
     "name": "stdout",
     "output_type": "stream",
     "text": [
      "Falciparum/img/1704282807-0007-R.jpg\n",
      "Falciparum/img/1704282807-0008-R.jpg\n"
     ]
    },
    {
     "name": "stderr",
     "output_type": "stream",
     "text": [
      "Lossy conversion from float64 to uint8. Range [0, 1]. Convert image to uint8 prior to saving to suppress this warning.\n"
     ]
    },
    {
     "name": "stdout",
     "output_type": "stream",
     "text": [
      "Falciparum/img/1704282807-0008-R.jpg\n",
      "Falciparum/img/1704282807-0009-R.jpg\n"
     ]
    },
    {
     "name": "stderr",
     "output_type": "stream",
     "text": [
      "Lossy conversion from float64 to uint8. Range [0, 1]. Convert image to uint8 prior to saving to suppress this warning.\n"
     ]
    },
    {
     "name": "stdout",
     "output_type": "stream",
     "text": [
      "Falciparum/img/1704282807-0009-R.jpg\n",
      "Falciparum/img/1704282807-0010-R.jpg\n"
     ]
    },
    {
     "name": "stderr",
     "output_type": "stream",
     "text": [
      "Lossy conversion from float64 to uint8. Range [0, 1]. Convert image to uint8 prior to saving to suppress this warning.\n"
     ]
    },
    {
     "name": "stdout",
     "output_type": "stream",
     "text": [
      "Falciparum/img/1704282807-0010-R.jpg\n",
      "Falciparum/img/1704282807-0011-R_T.jpg\n"
     ]
    },
    {
     "name": "stderr",
     "output_type": "stream",
     "text": [
      "Lossy conversion from float64 to uint8. Range [0, 1]. Convert image to uint8 prior to saving to suppress this warning.\n"
     ]
    },
    {
     "name": "stdout",
     "output_type": "stream",
     "text": [
      "Falciparum/img/1704282807-0011-R_T.jpg\n",
      "Falciparum/img/1704282807-0012-R_T.jpg\n"
     ]
    },
    {
     "name": "stderr",
     "output_type": "stream",
     "text": [
      "Lossy conversion from float64 to uint8. Range [0, 1]. Convert image to uint8 prior to saving to suppress this warning.\n"
     ]
    },
    {
     "name": "stdout",
     "output_type": "stream",
     "text": [
      "Falciparum/img/1704282807-0012-R_T.jpg\n",
      "Falciparum/img/1704282807-0013-R_T.jpg\n"
     ]
    },
    {
     "name": "stderr",
     "output_type": "stream",
     "text": [
      "Lossy conversion from float64 to uint8. Range [0, 1]. Convert image to uint8 prior to saving to suppress this warning.\n"
     ]
    },
    {
     "name": "stdout",
     "output_type": "stream",
     "text": [
      "Falciparum/img/1704282807-0013-R_T.jpg\n",
      "Falciparum/img/1704282807-0014-R.jpg\n"
     ]
    },
    {
     "name": "stderr",
     "output_type": "stream",
     "text": [
      "Lossy conversion from float64 to uint8. Range [0, 1]. Convert image to uint8 prior to saving to suppress this warning.\n"
     ]
    },
    {
     "name": "stdout",
     "output_type": "stream",
     "text": [
      "Falciparum/img/1704282807-0014-R.jpg\n",
      "Falciparum/img/1704282807-0015-R.jpg\n"
     ]
    },
    {
     "name": "stderr",
     "output_type": "stream",
     "text": [
      "Lossy conversion from float64 to uint8. Range [0, 1]. Convert image to uint8 prior to saving to suppress this warning.\n"
     ]
    },
    {
     "name": "stdout",
     "output_type": "stream",
     "text": [
      "Falciparum/img/1704282807-0015-R.jpg\n",
      "Falciparum/img/1704282807-0016-R.jpg\n"
     ]
    },
    {
     "name": "stderr",
     "output_type": "stream",
     "text": [
      "Lossy conversion from float64 to uint8. Range [0, 1]. Convert image to uint8 prior to saving to suppress this warning.\n"
     ]
    },
    {
     "name": "stdout",
     "output_type": "stream",
     "text": [
      "Falciparum/img/1704282807-0016-R.jpg\n",
      "Falciparum/img/1704282807-0017-R.jpg\n"
     ]
    },
    {
     "name": "stderr",
     "output_type": "stream",
     "text": [
      "Lossy conversion from float64 to uint8. Range [0, 1]. Convert image to uint8 prior to saving to suppress this warning.\n"
     ]
    },
    {
     "name": "stdout",
     "output_type": "stream",
     "text": [
      "Falciparum/img/1704282807-0017-R.jpg\n",
      "Falciparum/img/1704282807-0018-R.jpg\n"
     ]
    },
    {
     "name": "stderr",
     "output_type": "stream",
     "text": [
      "Lossy conversion from float64 to uint8. Range [0, 1]. Convert image to uint8 prior to saving to suppress this warning.\n"
     ]
    },
    {
     "name": "stdout",
     "output_type": "stream",
     "text": [
      "Falciparum/img/1704282807-0018-R.jpg\n",
      "Falciparum/img/1704282807-0019-R_T.jpg\n"
     ]
    },
    {
     "name": "stderr",
     "output_type": "stream",
     "text": [
      "Lossy conversion from float64 to uint8. Range [0, 1]. Convert image to uint8 prior to saving to suppress this warning.\n"
     ]
    },
    {
     "name": "stdout",
     "output_type": "stream",
     "text": [
      "Falciparum/img/1704282807-0019-R_T.jpg\n",
      "Falciparum/img/1704282807-0020-R_T_S.jpg\n"
     ]
    },
    {
     "name": "stderr",
     "output_type": "stream",
     "text": [
      "Lossy conversion from float64 to uint8. Range [0, 1]. Convert image to uint8 prior to saving to suppress this warning.\n"
     ]
    },
    {
     "name": "stdout",
     "output_type": "stream",
     "text": [
      "Falciparum/img/1704282807-0020-R_T_S.jpg\n",
      "Falciparum/img/1704282807-0021_R_T.jpg\n"
     ]
    },
    {
     "name": "stderr",
     "output_type": "stream",
     "text": [
      "Lossy conversion from float64 to uint8. Range [0, 1]. Convert image to uint8 prior to saving to suppress this warning.\n"
     ]
    },
    {
     "name": "stdout",
     "output_type": "stream",
     "text": [
      "Falciparum/img/1704282807-0021_R_T.jpg\n"
     ]
    }
   ],
   "source": [
    "# resize image\n",
    "gts = glob.glob(\"Falciparum/gt/*\")\n",
    "\n",
    "for gt in gts:\n",
    "    print(gt)\n",
    "    img = imread(gt, plugin='pil')\n",
    "    new_img = resize(img,(1200,1600),anti_aliasing=True)\n",
    "    new_name = gt.split(\".\")[0] + \".jpg\"\n",
    "    imsave(new_name,new_img)\n",
    "    print(new_name)\n",
    "\n",
    "print(\"--------img start---------\") \n",
    "gts = glob.glob(\"Falciparum/img/*\")\n",
    "for gt in gts:\n",
    "    print(gt)\n",
    "    img = imread(gt, plugin='pil')\n",
    "    new_img = resize(img,(1200,1600),anti_aliasing=True)\n",
    "    new_name = gt.split(\".\")[0] + \".jpg\"\n",
    "    imsave(new_name,new_img)\n",
    "    print(new_name)"
   ]
  },
  {
   "cell_type": "code",
   "execution_count": 3,
   "metadata": {},
   "outputs": [
    {
     "name": "stdout",
     "output_type": "stream",
     "text": [
      "1305121398-0001-R_S.jpg\n",
      "1305121398-0003-R.jpg\n",
      "1305121398-0004-R.jpg\n",
      "1305121398-0005-T.jpg\n",
      "1305121398-0006-R.jpg\n",
      "1305121398-0007-R.jpg\n",
      "1305121398-0008-R.jpg\n",
      "1305121398-0010-S.jpg\n",
      "1305121398-0011-S.jpg\n",
      "1305121398-0012-S.jpg\n",
      "1305121398-0013-S.jpg\n",
      "1305121398-0014-S.jpg\n",
      "1305121398-0015-S.jpg\n",
      "1305121398-0016-T.jpg\n",
      "1305121398-0017-R.jpg\n",
      "1305121398-0018-S.jpg\n",
      "1305121398-0019-R.jpg\n",
      "1305121398-0020-S.jpg\n",
      "1305121398-0021-S.jpg\n",
      "1305121398-0022-S.jpg\n",
      "1307210661-0001-R.jpg\n",
      "1307210661-0002-R.jpg\n",
      "1307210661-0003-R.jpg\n",
      "1307210661-0004-R.jpg\n",
      "1307210661-0005-R.jpg\n",
      "1307210661-0006-R.jpg\n",
      "1307210661-0007-R.jpg\n",
      "1307210661-0008-R.jpg\n",
      "1307210661-0009-R.jpg\n",
      "1307210661-0010-R.jpg\n",
      "1401063467-0001-S.jpg\n",
      "1401063467-0002-T.jpg\n",
      "1401063467-0003-T.jpg\n",
      "1401063467-0004-R.jpg\n",
      "1401063467-0005-T.jpg\n",
      "1401063467-0006-T.jpg\n",
      "1401063467-0007-S.jpg\n",
      "1401063467-0008-S.jpg\n",
      "1401063467-0009-T.jpg\n",
      "1401063467-0010-T.jpg\n",
      "1401063467-0011-S.jpg\n",
      "1401063467-0012-S.jpg\n",
      "1401063467-0013-T.jpg\n",
      "1405022890-0001-R.jpg\n",
      "1405022890-0002-R.jpg\n",
      "1405022890-0003-R.jpg\n",
      "1405022890-0004-R.jpg\n",
      "1405022890-0005-R.jpg\n",
      "1405022890-0006-R.jpg\n",
      "1408161544-0001-S_R.jpg\n",
      "1408161544-0002-R_S.jpg\n",
      "1408161544-0003-R_S.jpg\n",
      "1408290968-0001-R.jpg\n",
      "1408290968-0002-R.jpg\n",
      "1408290968-0003-R.jpg\n",
      "1409171742-0001-R.jpg\n",
      "1409171742-0002-R.jpg\n",
      "1409171742-0003-R.jpg\n",
      "1409171742-0004-R.jpg\n",
      "1409171742-0005-R.jpg\n",
      "1409171742-0006-R.jpg\n",
      "1409171742-0007-R.jpg\n",
      "1409171742-0008-R.jpg\n",
      "1409171742-0009-R.jpg\n",
      "1409171742-0010-R.jpg\n",
      "1409191647-0001-R.jpg\n",
      "1409191647-0002-R.jpg\n",
      "1409191647-0003-R.jpg\n",
      "1409191647-0004-R.jpg\n",
      "1409191647-0005-R.jpg\n",
      "1409191647-0006-R.jpg\n",
      "1409191647-0007-R.jpg\n",
      "1409191647-0008-T.jpg\n",
      "1409191647-0009-R.jpg\n",
      "1409191647-0010-R.jpg\n",
      "1603223711-0001-T.jpg\n",
      "1603223711-0002-T.jpg\n",
      "1603223711-0003-T_R.jpg\n",
      "1603223711-0004-R.jpg\n",
      "1603223711-0005-T.jpg\n",
      "1603223711-0006-T.jpg\n",
      "1701151546-0001-R_T.jpg\n",
      "1701151546-0002-R.jpg\n",
      "1701151546-0003-R.jpg\n",
      "1701151546-0004-R_T.jpg\n",
      "1701151546-0005-R.jpg\n",
      "1701151546-0006-R_T.jpg\n",
      "1701151546-0007-R.jpg\n",
      "1701151546-0008-R-T.jpg\n",
      "1701151546-0009-R.jpg\n",
      "1701151546-0010-R.jpg\n",
      "1701151546-0011-R_T.jpg\n",
      "1701151546-0012-R.jpg\n",
      "1701151546-0014-R.jpg\n",
      "1701151546-0015-R_T.jpg\n",
      "1704282807-0001-R.jpg\n",
      "1704282807-0002-R.jpg\n",
      "1704282807-0003-R.jpg\n",
      "1704282807-0004-R_T.jpg\n",
      "1704282807-0005-R.jpg\n",
      "1704282807-0006-R.jpg\n",
      "1704282807-0007-R.jpg\n",
      "1704282807-0008-R.jpg\n",
      "1704282807-0009-R.jpg\n",
      "1704282807-0010-R.jpg\n",
      "1704282807-0011-R_T.jpg\n",
      "1704282807-0012-R_T.jpg\n",
      "1704282807-0013-R_T.jpg\n",
      "1704282807-0014-R.jpg\n",
      "1704282807-0015-R.jpg\n",
      "1704282807-0016-R.jpg\n",
      "1704282807-0017-R.jpg\n",
      "1704282807-0018-R.jpg\n",
      "1704282807-0019-R_T.jpg\n",
      "1704282807-0020-R_T_S.jpg\n",
      "1704282807-0021_R_T.jpg\n",
      "1701151546-0013-R_T.jpg\n",
      "1701151546-0013-R-T.jpg\n"
     ]
    },
    {
     "ename": "FileNotFoundError",
     "evalue": "No such file: '/data/users/g6114450078/2Classes-YOLOv3/Pf/Falciparum/img/1701151546-0013-R-T.jpg'",
     "output_type": "error",
     "traceback": [
      "\u001b[0;31m---------------------------------------------------------------------------\u001b[0m",
      "\u001b[0;31mFileNotFoundError\u001b[0m                         Traceback (most recent call last)",
      "\u001b[0;32m<ipython-input-3-df043d910d9c>\u001b[0m in \u001b[0;36m<module>\u001b[0;34m\u001b[0m\n\u001b[1;32m      8\u001b[0m     \u001b[0mimg_name\u001b[0m \u001b[0;34m=\u001b[0m \u001b[0;34m\"{:010d}.jpg\"\u001b[0m\u001b[0;34m.\u001b[0m\u001b[0mformat\u001b[0m\u001b[0;34m(\u001b[0m\u001b[0mint\u001b[0m\u001b[0;34m(\u001b[0m\u001b[0mcount\u001b[0m\u001b[0;34m)\u001b[0m\u001b[0;34m)\u001b[0m\u001b[0;34m\u001b[0m\u001b[0;34m\u001b[0m\u001b[0m\n\u001b[1;32m      9\u001b[0m     \u001b[0mprint\u001b[0m\u001b[0;34m(\u001b[0m\u001b[0mgt_image\u001b[0m\u001b[0;34m)\u001b[0m\u001b[0;34m\u001b[0m\u001b[0;34m\u001b[0m\u001b[0m\n\u001b[0;32m---> 10\u001b[0;31m     \u001b[0mimg_main\u001b[0m \u001b[0;34m=\u001b[0m \u001b[0mimread\u001b[0m\u001b[0;34m(\u001b[0m\u001b[0mmain_img_pth\u001b[0m \u001b[0;34m+\u001b[0m \u001b[0mgt_image\u001b[0m\u001b[0;34m)\u001b[0m\u001b[0;34m\u001b[0m\u001b[0;34m\u001b[0m\u001b[0m\n\u001b[0m\u001b[1;32m     11\u001b[0m     \u001b[0mimsave\u001b[0m\u001b[0;34m(\u001b[0m\u001b[0mos\u001b[0m\u001b[0;34m.\u001b[0m\u001b[0mpath\u001b[0m\u001b[0;34m.\u001b[0m\u001b[0mjoin\u001b[0m\u001b[0;34m(\u001b[0m\u001b[0;34m\"tmp_images/\"\u001b[0m\u001b[0;34m,\u001b[0m\u001b[0mimg_name\u001b[0m\u001b[0;34m)\u001b[0m\u001b[0;34m,\u001b[0m\u001b[0mimg_main\u001b[0m\u001b[0;34m)\u001b[0m\u001b[0;34m\u001b[0m\u001b[0;34m\u001b[0m\u001b[0m\n\u001b[1;32m     12\u001b[0m     \u001b[0mimg\u001b[0m \u001b[0;34m=\u001b[0m \u001b[0mimread\u001b[0m\u001b[0;34m(\u001b[0m\u001b[0mgt\u001b[0m\u001b[0;34m)\u001b[0m\u001b[0;34m\u001b[0m\u001b[0;34m\u001b[0m\u001b[0m\n",
      "\u001b[0;32m/home/g6114450078/.conda/envs/pytorch_env/lib/python3.7/site-packages/skimage/io/_io.py\u001b[0m in \u001b[0;36mimread\u001b[0;34m(fname, as_gray, plugin, **plugin_args)\u001b[0m\n\u001b[1;32m     46\u001b[0m \u001b[0;34m\u001b[0m\u001b[0m\n\u001b[1;32m     47\u001b[0m     \u001b[0;32mwith\u001b[0m \u001b[0mfile_or_url_context\u001b[0m\u001b[0;34m(\u001b[0m\u001b[0mfname\u001b[0m\u001b[0;34m)\u001b[0m \u001b[0;32mas\u001b[0m \u001b[0mfname\u001b[0m\u001b[0;34m:\u001b[0m\u001b[0;34m\u001b[0m\u001b[0;34m\u001b[0m\u001b[0m\n\u001b[0;32m---> 48\u001b[0;31m         \u001b[0mimg\u001b[0m \u001b[0;34m=\u001b[0m \u001b[0mcall_plugin\u001b[0m\u001b[0;34m(\u001b[0m\u001b[0;34m'imread'\u001b[0m\u001b[0;34m,\u001b[0m \u001b[0mfname\u001b[0m\u001b[0;34m,\u001b[0m \u001b[0mplugin\u001b[0m\u001b[0;34m=\u001b[0m\u001b[0mplugin\u001b[0m\u001b[0;34m,\u001b[0m \u001b[0;34m**\u001b[0m\u001b[0mplugin_args\u001b[0m\u001b[0;34m)\u001b[0m\u001b[0;34m\u001b[0m\u001b[0;34m\u001b[0m\u001b[0m\n\u001b[0m\u001b[1;32m     49\u001b[0m \u001b[0;34m\u001b[0m\u001b[0m\n\u001b[1;32m     50\u001b[0m     \u001b[0;32mif\u001b[0m \u001b[0;32mnot\u001b[0m \u001b[0mhasattr\u001b[0m\u001b[0;34m(\u001b[0m\u001b[0mimg\u001b[0m\u001b[0;34m,\u001b[0m \u001b[0;34m'ndim'\u001b[0m\u001b[0;34m)\u001b[0m\u001b[0;34m:\u001b[0m\u001b[0;34m\u001b[0m\u001b[0;34m\u001b[0m\u001b[0m\n",
      "\u001b[0;32m/home/g6114450078/.conda/envs/pytorch_env/lib/python3.7/site-packages/skimage/io/manage_plugins.py\u001b[0m in \u001b[0;36mcall_plugin\u001b[0;34m(kind, *args, **kwargs)\u001b[0m\n\u001b[1;32m    208\u001b[0m                                (plugin, kind))\n\u001b[1;32m    209\u001b[0m \u001b[0;34m\u001b[0m\u001b[0m\n\u001b[0;32m--> 210\u001b[0;31m     \u001b[0;32mreturn\u001b[0m \u001b[0mfunc\u001b[0m\u001b[0;34m(\u001b[0m\u001b[0;34m*\u001b[0m\u001b[0margs\u001b[0m\u001b[0;34m,\u001b[0m \u001b[0;34m**\u001b[0m\u001b[0mkwargs\u001b[0m\u001b[0;34m)\u001b[0m\u001b[0;34m\u001b[0m\u001b[0;34m\u001b[0m\u001b[0m\n\u001b[0m\u001b[1;32m    211\u001b[0m \u001b[0;34m\u001b[0m\u001b[0m\n\u001b[1;32m    212\u001b[0m \u001b[0;34m\u001b[0m\u001b[0m\n",
      "\u001b[0;32m/home/g6114450078/.conda/envs/pytorch_env/lib/python3.7/site-packages/skimage/io/_plugins/imageio_plugin.py\u001b[0m in \u001b[0;36mimread\u001b[0;34m(*args, **kwargs)\u001b[0m\n\u001b[1;32m      8\u001b[0m \u001b[0;34m@\u001b[0m\u001b[0mwraps\u001b[0m\u001b[0;34m(\u001b[0m\u001b[0mimageio_imread\u001b[0m\u001b[0;34m)\u001b[0m\u001b[0;34m\u001b[0m\u001b[0;34m\u001b[0m\u001b[0m\n\u001b[1;32m      9\u001b[0m \u001b[0;32mdef\u001b[0m \u001b[0mimread\u001b[0m\u001b[0;34m(\u001b[0m\u001b[0;34m*\u001b[0m\u001b[0margs\u001b[0m\u001b[0;34m,\u001b[0m \u001b[0;34m**\u001b[0m\u001b[0mkwargs\u001b[0m\u001b[0;34m)\u001b[0m\u001b[0;34m:\u001b[0m\u001b[0;34m\u001b[0m\u001b[0;34m\u001b[0m\u001b[0m\n\u001b[0;32m---> 10\u001b[0;31m     \u001b[0;32mreturn\u001b[0m \u001b[0mnp\u001b[0m\u001b[0;34m.\u001b[0m\u001b[0masarray\u001b[0m\u001b[0;34m(\u001b[0m\u001b[0mimageio_imread\u001b[0m\u001b[0;34m(\u001b[0m\u001b[0;34m*\u001b[0m\u001b[0margs\u001b[0m\u001b[0;34m,\u001b[0m \u001b[0;34m**\u001b[0m\u001b[0mkwargs\u001b[0m\u001b[0;34m)\u001b[0m\u001b[0;34m)\u001b[0m\u001b[0;34m\u001b[0m\u001b[0;34m\u001b[0m\u001b[0m\n\u001b[0m",
      "\u001b[0;32m/home/g6114450078/.conda/envs/pytorch_env/lib/python3.7/site-packages/imageio/core/functions.py\u001b[0m in \u001b[0;36mimread\u001b[0;34m(uri, format, **kwargs)\u001b[0m\n\u001b[1;32m    262\u001b[0m \u001b[0;34m\u001b[0m\u001b[0m\n\u001b[1;32m    263\u001b[0m     \u001b[0;31m# Get reader and read first\u001b[0m\u001b[0;34m\u001b[0m\u001b[0;34m\u001b[0m\u001b[0;34m\u001b[0m\u001b[0m\n\u001b[0;32m--> 264\u001b[0;31m     \u001b[0mreader\u001b[0m \u001b[0;34m=\u001b[0m \u001b[0mread\u001b[0m\u001b[0;34m(\u001b[0m\u001b[0muri\u001b[0m\u001b[0;34m,\u001b[0m \u001b[0mformat\u001b[0m\u001b[0;34m,\u001b[0m \u001b[0;34m\"i\"\u001b[0m\u001b[0;34m,\u001b[0m \u001b[0;34m**\u001b[0m\u001b[0mkwargs\u001b[0m\u001b[0;34m)\u001b[0m\u001b[0;34m\u001b[0m\u001b[0;34m\u001b[0m\u001b[0m\n\u001b[0m\u001b[1;32m    265\u001b[0m     \u001b[0;32mwith\u001b[0m \u001b[0mreader\u001b[0m\u001b[0;34m:\u001b[0m\u001b[0;34m\u001b[0m\u001b[0;34m\u001b[0m\u001b[0m\n\u001b[1;32m    266\u001b[0m         \u001b[0;32mreturn\u001b[0m \u001b[0mreader\u001b[0m\u001b[0;34m.\u001b[0m\u001b[0mget_data\u001b[0m\u001b[0;34m(\u001b[0m\u001b[0;36m0\u001b[0m\u001b[0;34m)\u001b[0m\u001b[0;34m\u001b[0m\u001b[0;34m\u001b[0m\u001b[0m\n",
      "\u001b[0;32m/home/g6114450078/.conda/envs/pytorch_env/lib/python3.7/site-packages/imageio/core/functions.py\u001b[0m in \u001b[0;36mget_reader\u001b[0;34m(uri, format, mode, **kwargs)\u001b[0m\n\u001b[1;32m    171\u001b[0m \u001b[0;34m\u001b[0m\u001b[0m\n\u001b[1;32m    172\u001b[0m     \u001b[0;31m# Create request object\u001b[0m\u001b[0;34m\u001b[0m\u001b[0;34m\u001b[0m\u001b[0;34m\u001b[0m\u001b[0m\n\u001b[0;32m--> 173\u001b[0;31m     \u001b[0mrequest\u001b[0m \u001b[0;34m=\u001b[0m \u001b[0mRequest\u001b[0m\u001b[0;34m(\u001b[0m\u001b[0muri\u001b[0m\u001b[0;34m,\u001b[0m \u001b[0;34m\"r\"\u001b[0m \u001b[0;34m+\u001b[0m \u001b[0mmode\u001b[0m\u001b[0;34m,\u001b[0m \u001b[0;34m**\u001b[0m\u001b[0mkwargs\u001b[0m\u001b[0;34m)\u001b[0m\u001b[0;34m\u001b[0m\u001b[0;34m\u001b[0m\u001b[0m\n\u001b[0m\u001b[1;32m    174\u001b[0m \u001b[0;34m\u001b[0m\u001b[0m\n\u001b[1;32m    175\u001b[0m     \u001b[0;31m# Get format\u001b[0m\u001b[0;34m\u001b[0m\u001b[0;34m\u001b[0m\u001b[0;34m\u001b[0m\u001b[0m\n",
      "\u001b[0;32m/home/g6114450078/.conda/envs/pytorch_env/lib/python3.7/site-packages/imageio/core/request.py\u001b[0m in \u001b[0;36m__init__\u001b[0;34m(self, uri, mode, **kwargs)\u001b[0m\n\u001b[1;32m    124\u001b[0m \u001b[0;34m\u001b[0m\u001b[0m\n\u001b[1;32m    125\u001b[0m         \u001b[0;31m# Parse what was given\u001b[0m\u001b[0;34m\u001b[0m\u001b[0;34m\u001b[0m\u001b[0;34m\u001b[0m\u001b[0m\n\u001b[0;32m--> 126\u001b[0;31m         \u001b[0mself\u001b[0m\u001b[0;34m.\u001b[0m\u001b[0m_parse_uri\u001b[0m\u001b[0;34m(\u001b[0m\u001b[0muri\u001b[0m\u001b[0;34m)\u001b[0m\u001b[0;34m\u001b[0m\u001b[0;34m\u001b[0m\u001b[0m\n\u001b[0m\u001b[1;32m    127\u001b[0m \u001b[0;34m\u001b[0m\u001b[0m\n\u001b[1;32m    128\u001b[0m         \u001b[0;31m# Set extension\u001b[0m\u001b[0;34m\u001b[0m\u001b[0;34m\u001b[0m\u001b[0;34m\u001b[0m\u001b[0m\n",
      "\u001b[0;32m/home/g6114450078/.conda/envs/pytorch_env/lib/python3.7/site-packages/imageio/core/request.py\u001b[0m in \u001b[0;36m_parse_uri\u001b[0;34m(self, uri)\u001b[0m\n\u001b[1;32m    276\u001b[0m                 \u001b[0;31m# Reading: check that the file exists (but is allowed a dir)\u001b[0m\u001b[0;34m\u001b[0m\u001b[0;34m\u001b[0m\u001b[0;34m\u001b[0m\u001b[0m\n\u001b[1;32m    277\u001b[0m                 \u001b[0;32mif\u001b[0m \u001b[0;32mnot\u001b[0m \u001b[0mos\u001b[0m\u001b[0;34m.\u001b[0m\u001b[0mpath\u001b[0m\u001b[0;34m.\u001b[0m\u001b[0mexists\u001b[0m\u001b[0;34m(\u001b[0m\u001b[0mfn\u001b[0m\u001b[0;34m)\u001b[0m\u001b[0;34m:\u001b[0m\u001b[0;34m\u001b[0m\u001b[0;34m\u001b[0m\u001b[0m\n\u001b[0;32m--> 278\u001b[0;31m                     \u001b[0;32mraise\u001b[0m \u001b[0mFileNotFoundError\u001b[0m\u001b[0;34m(\u001b[0m\u001b[0;34m\"No such file: '%s'\"\u001b[0m \u001b[0;34m%\u001b[0m \u001b[0mfn\u001b[0m\u001b[0;34m)\u001b[0m\u001b[0;34m\u001b[0m\u001b[0;34m\u001b[0m\u001b[0m\n\u001b[0m\u001b[1;32m    279\u001b[0m             \u001b[0;32melse\u001b[0m\u001b[0;34m:\u001b[0m\u001b[0;34m\u001b[0m\u001b[0;34m\u001b[0m\u001b[0m\n\u001b[1;32m    280\u001b[0m                 \u001b[0;31m# Writing: check that the directory to write to does exist\u001b[0m\u001b[0;34m\u001b[0m\u001b[0;34m\u001b[0m\u001b[0;34m\u001b[0m\u001b[0m\n",
      "\u001b[0;31mFileNotFoundError\u001b[0m: No such file: '/data/users/g6114450078/2Classes-YOLOv3/Pf/Falciparum/img/1701151546-0013-R-T.jpg'"
     ]
    }
   ],
   "source": [
    "class_id = \"1\"\n",
    "count = 15250\n",
    "gts = glob.glob(\"Falciparum/gt/*.jpg\")\n",
    "main_img_pth = \"Falciparum/img/\"\n",
    "for gt in gts:\n",
    "    gt_image = gt.split(\"/\")[-1]\n",
    "    txt_name = \"{:010d}.txt\".format(int(count))\n",
    "    img_name = \"{:010d}.jpg\".format(int(count))\n",
    "    print(gt_image)\n",
    "    img_main = imread(main_img_pth + gt_image)\n",
    "    imsave(os.path.join(\"tmp_images/\",img_name),img_main)\n",
    "    img = imread(gt)\n",
    "    h, w = img.shape\n",
    "    thresh = threshold_otsu(img)\n",
    "    bw = img > thresh\n",
    "    label_image = label(bw)\n",
    "    result = \"\"\n",
    "    for region in regionprops(label_image):\n",
    "        minr, minc, maxr, maxc = region.bbox\n",
    "        x1 = minc / w\n",
    "        y1 = minr / h\n",
    "        bw = (maxc - minc) / w\n",
    "        bh = (maxr - minr) / h\n",
    "        xc = x1 + (bw / 2)\n",
    "        yc = y1 + (bh / 2)\n",
    "        result += \"\\n\" + class_id + \" \" + str(xc) + \" \" + str(yc) + \" \" + str(bw) + \" \" + str(bh) \n",
    "    f = open(\"tmp_labels/\" + txt_name,'w')\n",
    "    result = result[1:]\n",
    "    f.write(result)\n",
    "    f.close()\n",
    "    count += 1"
   ]
  },
  {
   "cell_type": "code",
   "execution_count": null,
   "metadata": {},
   "outputs": [],
   "source": [
    "count = 251\n",
    "files = glob.glob(\"labels/*.txt\")\n",
    "degs = [45,90,135,180,225,270,315]\n",
    "for file in files:\n",
    "    print(file)\n",
    "    f = open(file,\"r\")\n",
    "    lines = f.readlines()\n",
    "    f.close()\n",
    "    rects = []\n",
    "    img_name = file.split(\"/\")[1].replace(\".txt\",\".jpg\")\n",
    "    for line in lines:\n",
    "        class_id, xc, yc, bw, bh = line.split(\" \")\n",
    "        xc = float(xc)\n",
    "        yc = float(yc)\n",
    "        bw = float(bw)\n",
    "        bh = float(bh)\n",
    "        minx = (xc - (bw/2)) * 1600\n",
    "        miny = (yc - (bh/2)) * 1200\n",
    "        bw = bw * 1600\n",
    "        bh = bh * 1200\n",
    "        maxx = minx + bw\n",
    "        maxy = miny + bh\n",
    "        rects.append(BoundingBox(x1=int(minx),y1=int(miny),x2=int(maxx),y2=int(maxy),label=class_id))\n",
    "    img = Image.open(\"images/\"+img_name)\n",
    "    img = np.array(img)\n",
    "    bbs = BoundingBoxesOnImage(rects,shape=img.shape)\n",
    "    for deg in degs:\n",
    "        name = \"{:010d}\".format(count)\n",
    "        image_aug, bbs_aug = iaa.Affine(rotate=deg,mode=\"reflect\")(image=img, bounding_boxes=bbs)\n",
    "        aug_h, aug_w, aug_c = image_aug.shape\n",
    "        clip_off_bbs = bbs_aug.remove_out_of_image(fully=True,partly=False).clip_out_of_image()\n",
    "        bboxs = \"\"\n",
    "        for bb in clip_off_bbs.bounding_boxes:\n",
    "            x1 = bb.x1\n",
    "            y1 = bb.y1\n",
    "            x2 = bb.x2\n",
    "            y2 = bb.y2\n",
    "            bb_w = (x2-x1)/aug_w\n",
    "            bb_h = (y2-y1)/aug_h\n",
    "            bb_xc = (x1/aug_w) + (bb_w/2)\n",
    "            bb_yc = (y1/aug_h) + (bb_h/2)\n",
    "            bboxs += \"\\n\"+ str(bb.label) + \" \" + str(bb_xc) + \" \" + str(bb_yc) + \" \" + str(bb_w) + \" \" + str(bb_h)\n",
    "        bboxs = bboxs[1:]\n",
    "        im_aug = Image.fromarray(image_aug)\n",
    "        im_aug.save(os.path.join('images',name+\".jpg\"))\n",
    "        f = open(os.path.join('labels',name+\".txt\"),'w')\n",
    "        f.write(bboxs)\n",
    "        f.close()\n",
    "        print(\"{} {}\".format(count,deg))\n",
    "        count += 1"
   ]
  },
  {
   "cell_type": "code",
   "execution_count": null,
   "metadata": {},
   "outputs": [],
   "source": [
    "count = 15367\n",
    "files = glob.glob(\"labels/*.txt\")\n",
    "degs = [23,68,113,158,203,248,293,338]\n",
    "for file in files:\n",
    "    print(file)\n",
    "    f = open(file,\"r\")\n",
    "    lines = f.readlines()\n",
    "    f.close()\n",
    "    rects = []\n",
    "    img_name = file.split(\"/\")[1].replace(\".txt\",\".jpg\")\n",
    "    for line in lines:\n",
    "        class_id, xc, yc, bw, bh = line.split(\" \")\n",
    "        xc = float(xc)\n",
    "        yc = float(yc)\n",
    "        bw = float(bw)\n",
    "        bh = float(bh)\n",
    "        minx = (xc - (bw/2)) * 1600\n",
    "        miny = (yc - (bh/2)) * 1200\n",
    "        bw = bw * 1600\n",
    "        bh = bh * 1200\n",
    "        maxx = minx + bw\n",
    "        maxy = miny + bh\n",
    "        rects.append(BoundingBox(x1=int(minx),y1=int(miny),x2=int(maxx),y2=int(maxy),label=class_id))\n",
    "    img = Image.open(\"images/\"+img_name)\n",
    "    img = np.array(img)\n",
    "    bbs = BoundingBoxesOnImage(rects,shape=img.shape)\n",
    "    for deg in degs:\n",
    "        name = \"{:010d}\".format(count)\n",
    "        image_aug, bbs_aug = iaa.Affine(rotate=deg,mode=\"reflect\")(image=img, bounding_boxes=bbs)\n",
    "        aug_h, aug_w, aug_c = image_aug.shape\n",
    "        clip_off_bbs = bbs_aug.remove_out_of_image(fully=True,partly=False).clip_out_of_image()\n",
    "        bboxs = \"\"\n",
    "        for bb in clip_off_bbs.bounding_boxes:\n",
    "            x1 = bb.x1\n",
    "            y1 = bb.y1\n",
    "            x2 = bb.x2\n",
    "            y2 = bb.y2\n",
    "            bb_w = (x2-x1)/aug_w\n",
    "            bb_h = (y2-y1)/aug_h\n",
    "            bb_xc = (x1/aug_w) + (bb_w/2)\n",
    "            bb_yc = (y1/aug_h) + (bb_h/2)\n",
    "            bboxs += \"\\n\"+ str(bb.label) + \" \" + str(bb_xc) + \" \" + str(bb_yc) + \" \" + str(bb_w) + \" \" + str(bb_h)\n",
    "        bboxs = bboxs[1:]\n",
    "        im_aug = Image.fromarray(image_aug)\n",
    "        im_aug.save(os.path.join('images',name+\".jpg\"))\n",
    "        f = open(os.path.join('labels',name+\".txt\"),'w')\n",
    "        f.write(bboxs)\n",
    "        f.close()\n",
    "        print(\"{} {}\".format(count,deg))\n",
    "        count += 1"
   ]
  },
  {
   "cell_type": "code",
   "execution_count": 9,
   "metadata": {},
   "outputs": [
    {
     "name": "stdout",
     "output_type": "stream",
     "text": [
      "1600\n",
      "test_images/0000015250.jpg\n",
      "1600\n",
      "test_images/0000015251.jpg\n",
      "1600\n",
      "test_images/0000015252.jpg\n",
      "1600\n",
      "test_images/0000015253.jpg\n",
      "1600\n",
      "test_images/0000015254.jpg\n",
      "1600\n",
      "test_images/0000015255.jpg\n",
      "1600\n",
      "test_images/0000015256.jpg\n",
      "1600\n",
      "test_images/0000015257.jpg\n",
      "1600\n",
      "test_images/0000015258.jpg\n",
      "1600\n",
      "test_images/0000015259.jpg\n",
      "1600\n",
      "test_images/0000015260.jpg\n",
      "1600\n",
      "test_images/0000015261.jpg\n",
      "1600\n",
      "test_images/0000015262.jpg\n",
      "1600\n",
      "test_images/0000015263.jpg\n",
      "1600\n",
      "test_images/0000015264.jpg\n",
      "1600\n",
      "test_images/0000015265.jpg\n",
      "1600\n",
      "test_images/0000015266.jpg\n",
      "1600\n",
      "test_images/0000015267.jpg\n",
      "1600\n",
      "test_images/0000015268.jpg\n",
      "1600\n",
      "test_images/0000015269.jpg\n",
      "1600\n",
      "test_images/0000015270.jpg\n",
      "1600\n",
      "test_images/0000015271.jpg\n",
      "1600\n",
      "test_images/0000015272.jpg\n",
      "1600\n",
      "test_images/0000015273.jpg\n",
      "1600\n",
      "test_images/0000015274.jpg\n",
      "1600\n",
      "test_images/0000015275.jpg\n",
      "1600\n",
      "test_images/0000015276.jpg\n",
      "1600\n",
      "test_images/0000015277.jpg\n",
      "1600\n",
      "test_images/0000015278.jpg\n",
      "1600\n",
      "test_images/0000015279.jpg\n",
      "1600\n",
      "test_images/0000015280.jpg\n",
      "1600\n",
      "test_images/0000015281.jpg\n",
      "1600\n",
      "test_images/0000015282.jpg\n",
      "1600\n",
      "test_images/0000015283.jpg\n",
      "1600\n",
      "test_images/0000015284.jpg\n",
      "1600\n",
      "test_images/0000015285.jpg\n",
      "1600\n",
      "test_images/0000015286.jpg\n",
      "1600\n",
      "test_images/0000015287.jpg\n",
      "1600\n",
      "test_images/0000015288.jpg\n",
      "1600\n",
      "test_images/0000015289.jpg\n",
      "1600\n",
      "test_images/0000015290.jpg\n",
      "1600\n",
      "test_images/0000015291.jpg\n",
      "1600\n",
      "test_images/0000015292.jpg\n",
      "1600\n",
      "test_images/0000015293.jpg\n",
      "1600\n",
      "test_images/0000015294.jpg\n",
      "1600\n",
      "test_images/0000015295.jpg\n",
      "1600\n",
      "test_images/0000015296.jpg\n",
      "1600\n",
      "test_images/0000015297.jpg\n",
      "1600\n",
      "test_images/0000015298.jpg\n",
      "1600\n",
      "test_images/0000015299.jpg\n",
      "1600\n",
      "test_images/0000015300.jpg\n",
      "1600\n",
      "test_images/0000015301.jpg\n",
      "1600\n",
      "test_images/0000015302.jpg\n",
      "1600\n",
      "test_images/0000015303.jpg\n",
      "1600\n",
      "test_images/0000015304.jpg\n",
      "1600\n",
      "test_images/0000015305.jpg\n",
      "1600\n",
      "test_images/0000015306.jpg\n",
      "1600\n",
      "test_images/0000015307.jpg\n",
      "1600\n",
      "test_images/0000015308.jpg\n",
      "1600\n",
      "test_images/0000015309.jpg\n",
      "1600\n",
      "test_images/0000015310.jpg\n",
      "1600\n",
      "test_images/0000015311.jpg\n",
      "1600\n",
      "test_images/0000015312.jpg\n",
      "1600\n",
      "test_images/0000015313.jpg\n",
      "1600\n",
      "test_images/0000015314.jpg\n",
      "1600\n",
      "test_images/0000015315.jpg\n",
      "1600\n",
      "test_images/0000015316.jpg\n",
      "1600\n",
      "test_images/0000015317.jpg\n",
      "1600\n",
      "test_images/0000015318.jpg\n",
      "1600\n",
      "test_images/0000015319.jpg\n",
      "1600\n",
      "test_images/0000015320.jpg\n",
      "1600\n",
      "test_images/0000015321.jpg\n",
      "1600\n",
      "test_images/0000015322.jpg\n",
      "1600\n",
      "test_images/0000015323.jpg\n",
      "1600\n",
      "test_images/0000015324.jpg\n",
      "1600\n",
      "test_images/0000015325.jpg\n",
      "1600\n",
      "test_images/0000015326.jpg\n",
      "1600\n",
      "test_images/0000015327.jpg\n",
      "1600\n",
      "test_images/0000015328.jpg\n",
      "1600\n",
      "test_images/0000015329.jpg\n",
      "1600\n",
      "test_images/0000015330.jpg\n",
      "1600\n",
      "test_images/0000015331.jpg\n",
      "1600\n",
      "test_images/0000015332.jpg\n",
      "1600\n",
      "test_images/0000015333.jpg\n",
      "1600\n",
      "test_images/0000015334.jpg\n",
      "1600\n",
      "test_images/0000015335.jpg\n",
      "1600\n",
      "test_images/0000015336.jpg\n",
      "1600\n",
      "test_images/0000015337.jpg\n",
      "1600\n",
      "test_images/0000015338.jpg\n",
      "1600\n",
      "test_images/0000015339.jpg\n",
      "1600\n",
      "test_images/0000015340.jpg\n",
      "1600\n",
      "test_images/0000015341.jpg\n",
      "1600\n",
      "test_images/0000015342.jpg\n",
      "1600\n",
      "test_images/0000015343.jpg\n",
      "1600\n",
      "test_images/0000015344.jpg\n",
      "1600\n",
      "test_images/0000015345.jpg\n",
      "1600\n",
      "test_images/0000015346.jpg\n",
      "1600\n",
      "test_images/0000015347.jpg\n",
      "1600\n",
      "test_images/0000015348.jpg\n",
      "1600\n",
      "test_images/0000015349.jpg\n",
      "1600\n",
      "test_images/0000015350.jpg\n",
      "1600\n",
      "test_images/0000015351.jpg\n",
      "1600\n",
      "test_images/0000015352.jpg\n",
      "1600\n",
      "test_images/0000015353.jpg\n",
      "1600\n",
      "test_images/0000015354.jpg\n",
      "1600\n",
      "test_images/0000015355.jpg\n",
      "1600\n",
      "test_images/0000015356.jpg\n",
      "1600\n",
      "test_images/0000015357.jpg\n",
      "1600\n",
      "test_images/0000015358.jpg\n",
      "1600\n",
      "test_images/0000015359.jpg\n",
      "1600\n",
      "test_images/0000015360.jpg\n",
      "1600\n",
      "test_images/0000015361.jpg\n",
      "1600\n",
      "test_images/0000015362.jpg\n",
      "1600\n",
      "test_images/0000015363.jpg\n",
      "1600\n",
      "test_images/0000015364.jpg\n",
      "1600\n",
      "test_images/0000015365.jpg\n",
      "1600\n",
      "test_images/0000015366.jpg\n"
     ]
    }
   ],
   "source": [
    "# create test_image\n",
    "images = glob.glob(\"tmp_images/*.jpg\")\n",
    "for image in images:\n",
    "    img = Image.open(image)\n",
    "    weigth,height = img.size\n",
    "    print(weigth)\n",
    "    txt_name = image.replace(\"tmp_images/\",\"tmp_labels/\").replace(\".jpg\",\".txt\")\n",
    "    f = open(txt_name,\"r\")\n",
    "    bboxs = list(f)\n",
    "    f.close()\n",
    "    for box in bboxs:\n",
    "        coor = box.split()\n",
    "        label = int(coor[0])\n",
    "        xc = float(coor[1])*weigth\n",
    "        yc = float(coor[2])*height\n",
    "        bb_w = float(coor[3])*weigth\n",
    "        bb_h = float(coor[4])*height\n",
    "        x1 = xc-(bb_w/2)\n",
    "        y1 = yc-(bb_h/2)\n",
    "        x2 = x1 + bb_w\n",
    "        y2 = y1 + bb_h\n",
    "        draw = ImageDraw.Draw(img)\n",
    "        draw.rectangle((x1, y1,x2,y2), fill=None,outline=\"red\",width=5)\n",
    "    save_path = image.replace(\"tmp_images/\",\"test_images/\")\n",
    "    img.save(save_path)\n",
    "    print(save_path)"
   ]
  },
  {
   "cell_type": "code",
   "execution_count": 10,
   "metadata": {},
   "outputs": [
    {
     "name": "stdout",
     "output_type": "stream",
     "text": [
      "https://raw.githubusercontent.com/RTANC/malaria_dataset/master/tmp_images/0000015250.jpg\n",
      "https://raw.githubusercontent.com/RTANC/malaria_dataset/master/tmp_images/0000015251.jpg\n",
      "https://raw.githubusercontent.com/RTANC/malaria_dataset/master/tmp_images/0000015252.jpg\n",
      "https://raw.githubusercontent.com/RTANC/malaria_dataset/master/tmp_images/0000015253.jpg\n",
      "https://raw.githubusercontent.com/RTANC/malaria_dataset/master/tmp_images/0000015254.jpg\n",
      "https://raw.githubusercontent.com/RTANC/malaria_dataset/master/tmp_images/0000015255.jpg\n",
      "https://raw.githubusercontent.com/RTANC/malaria_dataset/master/tmp_images/0000015256.jpg\n",
      "https://raw.githubusercontent.com/RTANC/malaria_dataset/master/tmp_images/0000015257.jpg\n",
      "https://raw.githubusercontent.com/RTANC/malaria_dataset/master/tmp_images/0000015258.jpg\n",
      "https://raw.githubusercontent.com/RTANC/malaria_dataset/master/tmp_images/0000015259.jpg\n",
      "https://raw.githubusercontent.com/RTANC/malaria_dataset/master/tmp_images/0000015260.jpg\n",
      "https://raw.githubusercontent.com/RTANC/malaria_dataset/master/tmp_images/0000015261.jpg\n",
      "https://raw.githubusercontent.com/RTANC/malaria_dataset/master/tmp_images/0000015262.jpg\n",
      "https://raw.githubusercontent.com/RTANC/malaria_dataset/master/tmp_images/0000015263.jpg\n",
      "https://raw.githubusercontent.com/RTANC/malaria_dataset/master/tmp_images/0000015264.jpg\n",
      "https://raw.githubusercontent.com/RTANC/malaria_dataset/master/tmp_images/0000015265.jpg\n",
      "https://raw.githubusercontent.com/RTANC/malaria_dataset/master/tmp_images/0000015266.jpg\n",
      "https://raw.githubusercontent.com/RTANC/malaria_dataset/master/tmp_images/0000015267.jpg\n",
      "https://raw.githubusercontent.com/RTANC/malaria_dataset/master/tmp_images/0000015268.jpg\n",
      "https://raw.githubusercontent.com/RTANC/malaria_dataset/master/tmp_images/0000015269.jpg\n",
      "https://raw.githubusercontent.com/RTANC/malaria_dataset/master/tmp_images/0000015270.jpg\n",
      "https://raw.githubusercontent.com/RTANC/malaria_dataset/master/tmp_images/0000015271.jpg\n",
      "https://raw.githubusercontent.com/RTANC/malaria_dataset/master/tmp_images/0000015272.jpg\n",
      "https://raw.githubusercontent.com/RTANC/malaria_dataset/master/tmp_images/0000015273.jpg\n",
      "https://raw.githubusercontent.com/RTANC/malaria_dataset/master/tmp_images/0000015274.jpg\n",
      "https://raw.githubusercontent.com/RTANC/malaria_dataset/master/tmp_images/0000015275.jpg\n",
      "https://raw.githubusercontent.com/RTANC/malaria_dataset/master/tmp_images/0000015276.jpg\n",
      "https://raw.githubusercontent.com/RTANC/malaria_dataset/master/tmp_images/0000015277.jpg\n",
      "https://raw.githubusercontent.com/RTANC/malaria_dataset/master/tmp_images/0000015278.jpg\n",
      "https://raw.githubusercontent.com/RTANC/malaria_dataset/master/tmp_images/0000015279.jpg\n",
      "https://raw.githubusercontent.com/RTANC/malaria_dataset/master/tmp_images/0000015280.jpg\n",
      "https://raw.githubusercontent.com/RTANC/malaria_dataset/master/tmp_images/0000015281.jpg\n",
      "https://raw.githubusercontent.com/RTANC/malaria_dataset/master/tmp_images/0000015282.jpg\n",
      "https://raw.githubusercontent.com/RTANC/malaria_dataset/master/tmp_images/0000015283.jpg\n",
      "https://raw.githubusercontent.com/RTANC/malaria_dataset/master/tmp_images/0000015284.jpg\n",
      "https://raw.githubusercontent.com/RTANC/malaria_dataset/master/tmp_images/0000015285.jpg\n",
      "https://raw.githubusercontent.com/RTANC/malaria_dataset/master/tmp_images/0000015286.jpg\n",
      "https://raw.githubusercontent.com/RTANC/malaria_dataset/master/tmp_images/0000015287.jpg\n",
      "https://raw.githubusercontent.com/RTANC/malaria_dataset/master/tmp_images/0000015288.jpg\n",
      "https://raw.githubusercontent.com/RTANC/malaria_dataset/master/tmp_images/0000015289.jpg\n",
      "https://raw.githubusercontent.com/RTANC/malaria_dataset/master/tmp_images/0000015290.jpg\n",
      "https://raw.githubusercontent.com/RTANC/malaria_dataset/master/tmp_images/0000015291.jpg\n",
      "https://raw.githubusercontent.com/RTANC/malaria_dataset/master/tmp_images/0000015292.jpg\n",
      "https://raw.githubusercontent.com/RTANC/malaria_dataset/master/tmp_images/0000015293.jpg\n",
      "https://raw.githubusercontent.com/RTANC/malaria_dataset/master/tmp_images/0000015294.jpg\n",
      "https://raw.githubusercontent.com/RTANC/malaria_dataset/master/tmp_images/0000015295.jpg\n",
      "https://raw.githubusercontent.com/RTANC/malaria_dataset/master/tmp_images/0000015296.jpg\n",
      "https://raw.githubusercontent.com/RTANC/malaria_dataset/master/tmp_images/0000015297.jpg\n",
      "https://raw.githubusercontent.com/RTANC/malaria_dataset/master/tmp_images/0000015298.jpg\n",
      "https://raw.githubusercontent.com/RTANC/malaria_dataset/master/tmp_images/0000015299.jpg\n",
      "https://raw.githubusercontent.com/RTANC/malaria_dataset/master/tmp_images/0000015300.jpg\n",
      "https://raw.githubusercontent.com/RTANC/malaria_dataset/master/tmp_images/0000015301.jpg\n",
      "https://raw.githubusercontent.com/RTANC/malaria_dataset/master/tmp_images/0000015302.jpg\n",
      "https://raw.githubusercontent.com/RTANC/malaria_dataset/master/tmp_images/0000015303.jpg\n",
      "https://raw.githubusercontent.com/RTANC/malaria_dataset/master/tmp_images/0000015304.jpg\n",
      "https://raw.githubusercontent.com/RTANC/malaria_dataset/master/tmp_images/0000015305.jpg\n",
      "https://raw.githubusercontent.com/RTANC/malaria_dataset/master/tmp_images/0000015306.jpg\n",
      "https://raw.githubusercontent.com/RTANC/malaria_dataset/master/tmp_images/0000015307.jpg\n",
      "https://raw.githubusercontent.com/RTANC/malaria_dataset/master/tmp_images/0000015308.jpg\n",
      "https://raw.githubusercontent.com/RTANC/malaria_dataset/master/tmp_images/0000015309.jpg\n",
      "https://raw.githubusercontent.com/RTANC/malaria_dataset/master/tmp_images/0000015310.jpg\n",
      "https://raw.githubusercontent.com/RTANC/malaria_dataset/master/tmp_images/0000015311.jpg\n",
      "https://raw.githubusercontent.com/RTANC/malaria_dataset/master/tmp_images/0000015312.jpg\n",
      "https://raw.githubusercontent.com/RTANC/malaria_dataset/master/tmp_images/0000015313.jpg\n",
      "https://raw.githubusercontent.com/RTANC/malaria_dataset/master/tmp_images/0000015314.jpg\n",
      "https://raw.githubusercontent.com/RTANC/malaria_dataset/master/tmp_images/0000015315.jpg\n",
      "https://raw.githubusercontent.com/RTANC/malaria_dataset/master/tmp_images/0000015316.jpg\n",
      "https://raw.githubusercontent.com/RTANC/malaria_dataset/master/tmp_images/0000015317.jpg\n",
      "https://raw.githubusercontent.com/RTANC/malaria_dataset/master/tmp_images/0000015318.jpg\n",
      "https://raw.githubusercontent.com/RTANC/malaria_dataset/master/tmp_images/0000015319.jpg\n",
      "https://raw.githubusercontent.com/RTANC/malaria_dataset/master/tmp_images/0000015320.jpg\n",
      "https://raw.githubusercontent.com/RTANC/malaria_dataset/master/tmp_images/0000015321.jpg\n",
      "https://raw.githubusercontent.com/RTANC/malaria_dataset/master/tmp_images/0000015322.jpg\n",
      "https://raw.githubusercontent.com/RTANC/malaria_dataset/master/tmp_images/0000015323.jpg\n",
      "https://raw.githubusercontent.com/RTANC/malaria_dataset/master/tmp_images/0000015324.jpg\n",
      "https://raw.githubusercontent.com/RTANC/malaria_dataset/master/tmp_images/0000015325.jpg\n",
      "https://raw.githubusercontent.com/RTANC/malaria_dataset/master/tmp_images/0000015326.jpg\n",
      "https://raw.githubusercontent.com/RTANC/malaria_dataset/master/tmp_images/0000015327.jpg\n",
      "https://raw.githubusercontent.com/RTANC/malaria_dataset/master/tmp_images/0000015328.jpg\n",
      "https://raw.githubusercontent.com/RTANC/malaria_dataset/master/tmp_images/0000015329.jpg\n",
      "https://raw.githubusercontent.com/RTANC/malaria_dataset/master/tmp_images/0000015330.jpg\n",
      "https://raw.githubusercontent.com/RTANC/malaria_dataset/master/tmp_images/0000015331.jpg\n",
      "https://raw.githubusercontent.com/RTANC/malaria_dataset/master/tmp_images/0000015332.jpg\n",
      "https://raw.githubusercontent.com/RTANC/malaria_dataset/master/tmp_images/0000015333.jpg\n",
      "https://raw.githubusercontent.com/RTANC/malaria_dataset/master/tmp_images/0000015334.jpg\n",
      "https://raw.githubusercontent.com/RTANC/malaria_dataset/master/tmp_images/0000015335.jpg\n",
      "https://raw.githubusercontent.com/RTANC/malaria_dataset/master/tmp_images/0000015336.jpg\n",
      "https://raw.githubusercontent.com/RTANC/malaria_dataset/master/tmp_images/0000015337.jpg\n",
      "https://raw.githubusercontent.com/RTANC/malaria_dataset/master/tmp_images/0000015338.jpg\n",
      "https://raw.githubusercontent.com/RTANC/malaria_dataset/master/tmp_images/0000015339.jpg\n",
      "https://raw.githubusercontent.com/RTANC/malaria_dataset/master/tmp_images/0000015340.jpg\n",
      "https://raw.githubusercontent.com/RTANC/malaria_dataset/master/tmp_images/0000015341.jpg\n",
      "https://raw.githubusercontent.com/RTANC/malaria_dataset/master/tmp_images/0000015342.jpg\n",
      "https://raw.githubusercontent.com/RTANC/malaria_dataset/master/tmp_images/0000015343.jpg\n",
      "https://raw.githubusercontent.com/RTANC/malaria_dataset/master/tmp_images/0000015344.jpg\n",
      "https://raw.githubusercontent.com/RTANC/malaria_dataset/master/tmp_images/0000015345.jpg\n",
      "https://raw.githubusercontent.com/RTANC/malaria_dataset/master/tmp_images/0000015346.jpg\n",
      "https://raw.githubusercontent.com/RTANC/malaria_dataset/master/tmp_images/0000015347.jpg\n",
      "https://raw.githubusercontent.com/RTANC/malaria_dataset/master/tmp_images/0000015348.jpg\n",
      "https://raw.githubusercontent.com/RTANC/malaria_dataset/master/tmp_images/0000015349.jpg\n",
      "https://raw.githubusercontent.com/RTANC/malaria_dataset/master/tmp_images/0000015350.jpg\n",
      "https://raw.githubusercontent.com/RTANC/malaria_dataset/master/tmp_images/0000015351.jpg\n",
      "https://raw.githubusercontent.com/RTANC/malaria_dataset/master/tmp_images/0000015352.jpg\n",
      "https://raw.githubusercontent.com/RTANC/malaria_dataset/master/tmp_images/0000015353.jpg\n",
      "https://raw.githubusercontent.com/RTANC/malaria_dataset/master/tmp_images/0000015354.jpg\n",
      "https://raw.githubusercontent.com/RTANC/malaria_dataset/master/tmp_images/0000015355.jpg\n",
      "https://raw.githubusercontent.com/RTANC/malaria_dataset/master/tmp_images/0000015356.jpg\n",
      "https://raw.githubusercontent.com/RTANC/malaria_dataset/master/tmp_images/0000015357.jpg\n",
      "https://raw.githubusercontent.com/RTANC/malaria_dataset/master/tmp_images/0000015358.jpg\n",
      "https://raw.githubusercontent.com/RTANC/malaria_dataset/master/tmp_images/0000015359.jpg\n",
      "https://raw.githubusercontent.com/RTANC/malaria_dataset/master/tmp_images/0000015360.jpg\n",
      "https://raw.githubusercontent.com/RTANC/malaria_dataset/master/tmp_images/0000015361.jpg\n",
      "https://raw.githubusercontent.com/RTANC/malaria_dataset/master/tmp_images/0000015362.jpg\n",
      "https://raw.githubusercontent.com/RTANC/malaria_dataset/master/tmp_images/0000015363.jpg\n",
      "https://raw.githubusercontent.com/RTANC/malaria_dataset/master/tmp_images/0000015364.jpg\n",
      "https://raw.githubusercontent.com/RTANC/malaria_dataset/master/tmp_images/0000015365.jpg\n",
      "https://raw.githubusercontent.com/RTANC/malaria_dataset/master/tmp_images/0000015366.jpg\n"
     ]
    }
   ],
   "source": [
    "# gen url\n",
    "count = 15250\n",
    "for i in range(count,15367):\n",
    "    name = \"{:010d}.jpg\".format(i)\n",
    "    print(\"https://raw.githubusercontent.com/RTANC/malaria_dataset/master/tmp_images/\"+name)"
   ]
  },
  {
   "cell_type": "code",
   "execution_count": null,
   "metadata": {},
   "outputs": [],
   "source": [
    "count = 15250\n",
    "for i in range(count,15367):\n",
    "    name = \"{:010d}\".format(i)\n",
    "    print(name)\n",
    "    os.remove(os.path.join(\"images/\",name+\".jpg\"))\n",
    "    os.remove(os.path.join(\"labels/\",name+\".txt\"))"
   ]
  },
  {
   "cell_type": "code",
   "execution_count": null,
   "metadata": {},
   "outputs": [],
   "source": []
  }
 ],
 "metadata": {
  "kernelspec": {
   "display_name": "pytorch_env",
   "language": "python",
   "name": "pytorch_env"
  },
  "language_info": {
   "codemirror_mode": {
    "name": "ipython",
    "version": 3
   },
   "file_extension": ".py",
   "mimetype": "text/x-python",
   "name": "python",
   "nbconvert_exporter": "python",
   "pygments_lexer": "ipython3",
   "version": "3.7.3"
  }
 },
 "nbformat": 4,
 "nbformat_minor": 2
}
