{
 "cells": [
  {
   "cell_type": "code",
   "execution_count": 1,
   "metadata": {},
   "outputs": [],
   "source": [
    "from PIL import Image\n",
    "import numpy as np\n",
    "import matplotlib.pyplot as plt\n",
    "import matplotlib.patches as mpatches\n",
    "import os\n",
    "import glob\n",
    "Image.MAX_IMAGE_PIXELS = None"
   ]
  },
  {
   "cell_type": "code",
   "execution_count": 2,
   "metadata": {},
   "outputs": [],
   "source": [
    "def crop(input, output, width, height, k=1):\n",
    "    im = Image.open(input)\n",
    "    imgwidth, imgheight = im.size\n",
    "    for i in range(0,imgheight,height):\n",
    "        for j in range(0,imgwidth,width):\n",
    "            if j+width <= imgwidth and i+height <= imgheight:\n",
    "                box = (j, i, j+width, i+height)\n",
    "                a = im.crop(box)\n",
    "                a.save(os.path.join(output,\"{:010d}.jpg\".format(k)),'JPEG',quality=95)\n",
    "                k +=1\n",
    "    return k"
   ]
  },
  {
   "cell_type": "code",
   "execution_count": 3,
   "metadata": {},
   "outputs": [
    {
     "name": "stdout",
     "output_type": "stream",
     "text": [
      "Pm-03-5-Thin_Wholeslide_Default_Extended.tif\n",
      "1756\n",
      "Pm-03-6-Thin_Wholeslide_Default_Extended.tif\n",
      "3777\n",
      "Pm-03-7-Thin_Wholeslide_Default_Extended.tif\n",
      "5601\n",
      "Pm-03-8-Thin_Wholeslide_Default_Extended.tif\n",
      "7809\n",
      "Pm-03-9-Thin_Wholeslide_Default_Extended.tif\n",
      "9357\n",
      "Pm-03-10-Thin_Wholeslide_Default_Extended.tif\n",
      "11247\n",
      "Pm-04-1-Thin_Wholeslide_Default_Extended.tif\n",
      "13119\n",
      "Pm-04-2-Thin_Wholeslide_Default_Extended.tif\n",
      "14991\n",
      "Pm-04-4-Thin_Wholeslide_Default_Extended.tif\n",
      "16549\n",
      "Pm-04-3-Thin_Wholeslide_Default_Extended.tif\n",
      "18349\n"
     ]
    }
   ],
   "source": [
    "files = glob.glob(\"*.tif\")\n",
    "c = 1\n",
    "for file in files:\n",
    "    print(file)\n",
    "    c = crop(file,\"pm-20201224\",1600,1200,c)\n",
    "    print(c)"
   ]
  },
  {
   "cell_type": "code",
   "execution_count": null,
   "metadata": {},
   "outputs": [],
   "source": []
  },
  {
   "cell_type": "code",
   "execution_count": null,
   "metadata": {},
   "outputs": [],
   "source": []
  }
 ],
 "metadata": {
  "kernelspec": {
   "display_name": "pytorch_env",
   "language": "python",
   "name": "pytorch_env"
  },
  "language_info": {
   "codemirror_mode": {
    "name": "ipython",
    "version": 3
   },
   "file_extension": ".py",
   "mimetype": "text/x-python",
   "name": "python",
   "nbconvert_exporter": "python",
   "pygments_lexer": "ipython3",
   "version": "3.7.3"
  }
 },
 "nbformat": 4,
 "nbformat_minor": 2
}
