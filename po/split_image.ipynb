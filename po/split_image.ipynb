{
 "cells": [
  {
   "cell_type": "code",
   "execution_count": 1,
   "metadata": {},
   "outputs": [],
   "source": [
    "from PIL import Image\n",
    "import numpy as np\n",
    "import matplotlib.pyplot as plt\n",
    "import matplotlib.patches as mpatches\n",
    "import os\n",
    "Image.MAX_IMAGE_PIXELS = None"
   ]
  },
  {
   "cell_type": "code",
   "execution_count": 2,
   "metadata": {},
   "outputs": [],
   "source": [
    "def crop(input, output, width, height, k=1):\n",
    "    im = Image.open(input)\n",
    "    imgwidth, imgheight = im.size\n",
    "    for i in range(0,imgheight,height):\n",
    "        for j in range(0,imgwidth,width):\n",
    "            if j+width <= imgwidth and i+height <= imgheight:\n",
    "                box = (j, i, j+width, i+height)\n",
    "                a = im.crop(box)\n",
    "                a.save(os.path.join(output,\"{:010d}.jpg\".format(k)),'JPEG',quality=95)\n",
    "                k +=1\n",
    "    return k"
   ]
  },
  {
   "cell_type": "code",
   "execution_count": 3,
   "metadata": {},
   "outputs": [
    {
     "name": "stdout",
     "output_type": "stream",
     "text": [
      "2685\n"
     ]
    }
   ],
   "source": [
    "c = crop('po-05-1-Thin_Wholeslide_Default_Extended.tif','po-20200927',1600,1200,1)\n",
    "print(c)"
   ]
  },
  {
   "cell_type": "code",
   "execution_count": 4,
   "metadata": {},
   "outputs": [
    {
     "name": "stdout",
     "output_type": "stream",
     "text": [
      "5007\n"
     ]
    }
   ],
   "source": [
    "c = crop('po-05-2-Thin_Wholeslide_Default_Extended.tif','po-20200927',1600,1200,c)\n",
    "print(c)"
   ]
  },
  {
   "cell_type": "code",
   "execution_count": 5,
   "metadata": {},
   "outputs": [
    {
     "name": "stdout",
     "output_type": "stream",
     "text": [
      "6996\n"
     ]
    }
   ],
   "source": [
    "c = crop('po-05-3-Thin_Wholeslide_Default_Extended.tif','po-20200927',1600,1200,c)\n",
    "print(c)"
   ]
  },
  {
   "cell_type": "code",
   "execution_count": 6,
   "metadata": {},
   "outputs": [
    {
     "name": "stdout",
     "output_type": "stream",
     "text": [
      "8934\n"
     ]
    }
   ],
   "source": [
    "c = crop('po-05-4-Thin_Wholeslide_Default_Extended.tif','po-20200927',1600,1200,c)\n",
    "print(c)"
   ]
  },
  {
   "cell_type": "code",
   "execution_count": 7,
   "metadata": {},
   "outputs": [
    {
     "name": "stdout",
     "output_type": "stream",
     "text": [
      "10969\n"
     ]
    }
   ],
   "source": [
    "c = crop('po-05-5-Thin_Wholeslide_Default_Extended.tif','po-20200927',1600,1200,c)\n",
    "print(c)"
   ]
  },
  {
   "cell_type": "code",
   "execution_count": 8,
   "metadata": {},
   "outputs": [
    {
     "name": "stdout",
     "output_type": "stream",
     "text": [
      "12919\n"
     ]
    }
   ],
   "source": [
    "c = crop('po-05-6-Thin_Wholeslide_Default_Extended.tif','po-20200927',1600,1200,c)\n",
    "print(c)"
   ]
  },
  {
   "cell_type": "code",
   "execution_count": 9,
   "metadata": {},
   "outputs": [
    {
     "name": "stdout",
     "output_type": "stream",
     "text": [
      "14839\n"
     ]
    }
   ],
   "source": [
    "c = crop('po-05-7-Thin_Wholeslide_Default_Extended.tif','po-20200927',1600,1200,c)\n",
    "print(c)"
   ]
  },
  {
   "cell_type": "code",
   "execution_count": 10,
   "metadata": {},
   "outputs": [
    {
     "name": "stdout",
     "output_type": "stream",
     "text": [
      "16297\n"
     ]
    }
   ],
   "source": [
    "c = crop('po-05-8-Thin_Wholeslide_Default_Extended.tif','po-20200927',1600,1200,c)\n",
    "print(c)"
   ]
  },
  {
   "cell_type": "code",
   "execution_count": 11,
   "metadata": {},
   "outputs": [
    {
     "name": "stdout",
     "output_type": "stream",
     "text": [
      "17647\n"
     ]
    }
   ],
   "source": [
    "c = crop('po-05-9-Thin_Wholeslide_Default_Extended.tif','po-20200927',1600,1200,c)\n",
    "print(c)"
   ]
  },
  {
   "cell_type": "code",
   "execution_count": 12,
   "metadata": {},
   "outputs": [],
   "source": [
    "# c = crop('po-01-11-Thin_Wholeslide_Default_Extended.tif','po-20200924',1600,1200,c)\n",
    "# print(c)"
   ]
  },
  {
   "cell_type": "code",
   "execution_count": null,
   "metadata": {},
   "outputs": [],
   "source": []
  },
  {
   "cell_type": "code",
   "execution_count": null,
   "metadata": {},
   "outputs": [],
   "source": []
  }
 ],
 "metadata": {
  "kernelspec": {
   "display_name": "pytorch_env",
   "language": "python",
   "name": "pytorch_env"
  },
  "language_info": {
   "codemirror_mode": {
    "name": "ipython",
    "version": 3
   },
   "file_extension": ".py",
   "mimetype": "text/x-python",
   "name": "python",
   "nbconvert_exporter": "python",
   "pygments_lexer": "ipython3",
   "version": "3.7.3"
  }
 },
 "nbformat": 4,
 "nbformat_minor": 2
}
