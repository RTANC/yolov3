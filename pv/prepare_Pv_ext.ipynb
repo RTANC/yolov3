{
 "cells": [
  {
   "cell_type": "code",
   "execution_count": 1,
   "metadata": {},
   "outputs": [],
   "source": [
    "from PIL import Image, ImageFont, ImageDraw, ImageEnhance\n",
    "import requests\n",
    "from io import BytesIO\n",
    "import json\n",
    "import os\n",
    "import numpy as np\n",
    "import matplotlib.pyplot as plt\n",
    "import matplotlib.patches as mpatches\n",
    "from skimage.filters import threshold_otsu\n",
    "from skimage.io import imread, imsave\n",
    "from skimage.color import rgb2gray\n",
    "from skimage.measure import label, regionprops\n",
    "from skimage.transform import rescale, resize, downscale_local_mean\n",
    "import random\n",
    "import math\n",
    "import imageio\n",
    "import imgaug as ia\n",
    "from imgaug import augmenters as iaa\n",
    "from imgaug.augmentables.bbs import BoundingBox, BoundingBoxesOnImage\n",
    "import glob\n",
    "import random\n",
    "import shutil"
   ]
  },
  {
   "cell_type": "code",
   "execution_count": 2,
   "metadata": {},
   "outputs": [
    {
     "name": "stdout",
     "output_type": "stream",
     "text": [
      "Vivax/gt/1703121298-0001-G_R.tif\n"
     ]
    },
    {
     "name": "stderr",
     "output_type": "stream",
     "text": [
      "/data/users/g6114450078/.local/lib/python3.7/site-packages/ipykernel_launcher.py:9: UserWarning: Vivax/gt/1703121298-0001-G_R.jpg is a low contrast image\n",
      "  if __name__ == '__main__':\n",
      "Lossy conversion from float64 to uint8. Range [0, 1]. Convert image to uint8 prior to saving to suppress this warning.\n"
     ]
    },
    {
     "name": "stdout",
     "output_type": "stream",
     "text": [
      "Vivax/gt/1703121298-0001-G_R.jpg\n",
      "Vivax/gt/1703121298-0002-S.tif\n"
     ]
    },
    {
     "name": "stderr",
     "output_type": "stream",
     "text": [
      "/data/users/g6114450078/.local/lib/python3.7/site-packages/ipykernel_launcher.py:9: UserWarning: Vivax/gt/1703121298-0002-S.jpg is a low contrast image\n",
      "  if __name__ == '__main__':\n",
      "Lossy conversion from float64 to uint8. Range [0, 1]. Convert image to uint8 prior to saving to suppress this warning.\n",
      "/data/users/g6114450078/.local/lib/python3.7/site-packages/ipykernel_launcher.py:9: UserWarning: Vivax/gt/1703121298-0003-R.jpg is a low contrast image\n",
      "  if __name__ == '__main__':\n",
      "Lossy conversion from float64 to uint8. Range [0, 1]. Convert image to uint8 prior to saving to suppress this warning.\n"
     ]
    },
    {
     "name": "stdout",
     "output_type": "stream",
     "text": [
      "Vivax/gt/1703121298-0002-S.jpg\n",
      "Vivax/gt/1703121298-0003-R.tif\n"
     ]
    },
    {
     "name": "stderr",
     "output_type": "stream",
     "text": [
      "/data/users/g6114450078/.local/lib/python3.7/site-packages/ipykernel_launcher.py:9: UserWarning: Vivax/gt/1703121298-0004-R.jpg is a low contrast image\n",
      "  if __name__ == '__main__':\n",
      "Lossy conversion from float64 to uint8. Range [0, 1]. Convert image to uint8 prior to saving to suppress this warning.\n"
     ]
    },
    {
     "name": "stdout",
     "output_type": "stream",
     "text": [
      "Vivax/gt/1703121298-0003-R.jpg\n",
      "Vivax/gt/1703121298-0004-R.tif\n",
      "Vivax/gt/1703121298-0004-R.jpg\n",
      "Vivax/gt/1703121298-0005-R.tif\n"
     ]
    },
    {
     "name": "stderr",
     "output_type": "stream",
     "text": [
      "/data/users/g6114450078/.local/lib/python3.7/site-packages/ipykernel_launcher.py:9: UserWarning: Vivax/gt/1703121298-0005-R.jpg is a low contrast image\n",
      "  if __name__ == '__main__':\n",
      "Lossy conversion from float64 to uint8. Range [0, 1]. Convert image to uint8 prior to saving to suppress this warning.\n",
      "/data/users/g6114450078/.local/lib/python3.7/site-packages/ipykernel_launcher.py:9: UserWarning: Vivax/gt/1703121298-0006-R.jpg is a low contrast image\n",
      "  if __name__ == '__main__':\n",
      "Lossy conversion from float64 to uint8. Range [0, 1]. Convert image to uint8 prior to saving to suppress this warning.\n"
     ]
    },
    {
     "name": "stdout",
     "output_type": "stream",
     "text": [
      "Vivax/gt/1703121298-0005-R.jpg\n",
      "Vivax/gt/1703121298-0006-R.tif\n",
      "Vivax/gt/1703121298-0006-R.jpg\n",
      "Vivax/gt/1703121298-0007-R.tif\n"
     ]
    },
    {
     "name": "stderr",
     "output_type": "stream",
     "text": [
      "/data/users/g6114450078/.local/lib/python3.7/site-packages/ipykernel_launcher.py:9: UserWarning: Vivax/gt/1703121298-0007-R.jpg is a low contrast image\n",
      "  if __name__ == '__main__':\n",
      "Lossy conversion from float64 to uint8. Range [0, 1]. Convert image to uint8 prior to saving to suppress this warning.\n",
      "/data/users/g6114450078/.local/lib/python3.7/site-packages/ipykernel_launcher.py:9: UserWarning: Vivax/gt/1703121298-0008-G.jpg is a low contrast image\n",
      "  if __name__ == '__main__':\n",
      "Lossy conversion from float64 to uint8. Range [0, 1]. Convert image to uint8 prior to saving to suppress this warning.\n"
     ]
    },
    {
     "name": "stdout",
     "output_type": "stream",
     "text": [
      "Vivax/gt/1703121298-0007-R.jpg\n",
      "Vivax/gt/1703121298-0008-G.tif\n",
      "Vivax/gt/1703121298-0008-G.jpg\n",
      "Vivax/gt/1703121298-0009-R.tif\n"
     ]
    },
    {
     "name": "stderr",
     "output_type": "stream",
     "text": [
      "/data/users/g6114450078/.local/lib/python3.7/site-packages/ipykernel_launcher.py:9: UserWarning: Vivax/gt/1703121298-0009-R.jpg is a low contrast image\n",
      "  if __name__ == '__main__':\n",
      "Lossy conversion from float64 to uint8. Range [0, 1]. Convert image to uint8 prior to saving to suppress this warning.\n",
      "/data/users/g6114450078/.local/lib/python3.7/site-packages/ipykernel_launcher.py:9: UserWarning: Vivax/gt/1703121298-0010-G.jpg is a low contrast image\n",
      "  if __name__ == '__main__':\n",
      "Lossy conversion from float64 to uint8. Range [0, 1]. Convert image to uint8 prior to saving to suppress this warning.\n"
     ]
    },
    {
     "name": "stdout",
     "output_type": "stream",
     "text": [
      "Vivax/gt/1703121298-0009-R.jpg\n",
      "Vivax/gt/1703121298-0010-G.tif\n",
      "Vivax/gt/1703121298-0010-G.jpg\n",
      "Vivax/gt/1703121298-0011-R.tif\n"
     ]
    },
    {
     "name": "stderr",
     "output_type": "stream",
     "text": [
      "/data/users/g6114450078/.local/lib/python3.7/site-packages/ipykernel_launcher.py:9: UserWarning: Vivax/gt/1703121298-0011-R.jpg is a low contrast image\n",
      "  if __name__ == '__main__':\n",
      "Lossy conversion from float64 to uint8. Range [0, 1]. Convert image to uint8 prior to saving to suppress this warning.\n",
      "/data/users/g6114450078/.local/lib/python3.7/site-packages/ipykernel_launcher.py:9: UserWarning: Vivax/gt/1703121298-0012-G_R.jpg is a low contrast image\n",
      "  if __name__ == '__main__':\n",
      "Lossy conversion from float64 to uint8. Range [0, 1]. Convert image to uint8 prior to saving to suppress this warning.\n"
     ]
    },
    {
     "name": "stdout",
     "output_type": "stream",
     "text": [
      "Vivax/gt/1703121298-0011-R.jpg\n",
      "Vivax/gt/1703121298-0012-G_R.tif\n",
      "Vivax/gt/1703121298-0012-G_R.jpg\n",
      "Vivax/gt/1703121298-0015-R.tif\n"
     ]
    },
    {
     "name": "stderr",
     "output_type": "stream",
     "text": [
      "/data/users/g6114450078/.local/lib/python3.7/site-packages/ipykernel_launcher.py:9: UserWarning: Vivax/gt/1703121298-0015-R.jpg is a low contrast image\n",
      "  if __name__ == '__main__':\n",
      "Lossy conversion from float64 to uint8. Range [0, 1]. Convert image to uint8 prior to saving to suppress this warning.\n",
      "/data/users/g6114450078/.local/lib/python3.7/site-packages/ipykernel_launcher.py:9: UserWarning: Vivax/gt/1703121298-0016-G.jpg is a low contrast image\n",
      "  if __name__ == '__main__':\n",
      "Lossy conversion from float64 to uint8. Range [0, 1]. Convert image to uint8 prior to saving to suppress this warning.\n"
     ]
    },
    {
     "name": "stdout",
     "output_type": "stream",
     "text": [
      "Vivax/gt/1703121298-0015-R.jpg\n",
      "Vivax/gt/1703121298-0016-G.tif\n",
      "Vivax/gt/1703121298-0016-G.jpg\n",
      "Vivax/gt/1703121298-0017-R.tif\n"
     ]
    },
    {
     "name": "stderr",
     "output_type": "stream",
     "text": [
      "/data/users/g6114450078/.local/lib/python3.7/site-packages/ipykernel_launcher.py:9: UserWarning: Vivax/gt/1703121298-0017-R.jpg is a low contrast image\n",
      "  if __name__ == '__main__':\n",
      "Lossy conversion from float64 to uint8. Range [0, 1]. Convert image to uint8 prior to saving to suppress this warning.\n",
      "/data/users/g6114450078/.local/lib/python3.7/site-packages/ipykernel_launcher.py:9: UserWarning: Vivax/gt/1709041080-0013-R.jpg is a low contrast image\n",
      "  if __name__ == '__main__':\n",
      "Lossy conversion from float64 to uint8. Range [0, 1]. Convert image to uint8 prior to saving to suppress this warning.\n"
     ]
    },
    {
     "name": "stdout",
     "output_type": "stream",
     "text": [
      "Vivax/gt/1703121298-0017-R.jpg\n",
      "Vivax/gt/1709041080-0013-R.tif\n",
      "Vivax/gt/1709041080-0013-R.jpg\n",
      "Vivax/gt/1709041080-0014-R.tif\n"
     ]
    },
    {
     "name": "stderr",
     "output_type": "stream",
     "text": [
      "/data/users/g6114450078/.local/lib/python3.7/site-packages/ipykernel_launcher.py:9: UserWarning: Vivax/gt/1709041080-0014-R.jpg is a low contrast image\n",
      "  if __name__ == '__main__':\n",
      "Lossy conversion from float64 to uint8. Range [0, 1]. Convert image to uint8 prior to saving to suppress this warning.\n",
      "/data/users/g6114450078/.local/lib/python3.7/site-packages/ipykernel_launcher.py:9: UserWarning: Vivax/gt/1709041080-0015-R.jpg is a low contrast image\n",
      "  if __name__ == '__main__':\n",
      "Lossy conversion from float64 to uint8. Range [0, 1]. Convert image to uint8 prior to saving to suppress this warning.\n"
     ]
    },
    {
     "name": "stdout",
     "output_type": "stream",
     "text": [
      "Vivax/gt/1709041080-0014-R.jpg\n",
      "Vivax/gt/1709041080-0015-R.tif\n",
      "Vivax/gt/1709041080-0015-R.jpg\n",
      "Vivax/gt/1709041080-0016-S.tif\n"
     ]
    },
    {
     "name": "stderr",
     "output_type": "stream",
     "text": [
      "/data/users/g6114450078/.local/lib/python3.7/site-packages/ipykernel_launcher.py:9: UserWarning: Vivax/gt/1709041080-0016-S.jpg is a low contrast image\n",
      "  if __name__ == '__main__':\n",
      "Lossy conversion from float64 to uint8. Range [0, 1]. Convert image to uint8 prior to saving to suppress this warning.\n",
      "/data/users/g6114450078/.local/lib/python3.7/site-packages/ipykernel_launcher.py:9: UserWarning: Vivax/gt/1709041080-0017-R.jpg is a low contrast image\n",
      "  if __name__ == '__main__':\n",
      "Lossy conversion from float64 to uint8. Range [0, 1]. Convert image to uint8 prior to saving to suppress this warning.\n"
     ]
    },
    {
     "name": "stdout",
     "output_type": "stream",
     "text": [
      "Vivax/gt/1709041080-0016-S.jpg\n",
      "Vivax/gt/1709041080-0017-R.tif\n",
      "Vivax/gt/1709041080-0017-R.jpg\n",
      "Vivax/gt/1709041080-0018-R_R.tif\n"
     ]
    },
    {
     "name": "stderr",
     "output_type": "stream",
     "text": [
      "/data/users/g6114450078/.local/lib/python3.7/site-packages/ipykernel_launcher.py:9: UserWarning: Vivax/gt/1709041080-0018-R_R.jpg is a low contrast image\n",
      "  if __name__ == '__main__':\n",
      "Lossy conversion from float64 to uint8. Range [0, 1]. Convert image to uint8 prior to saving to suppress this warning.\n",
      "/data/users/g6114450078/.local/lib/python3.7/site-packages/ipykernel_launcher.py:9: UserWarning: Vivax/gt/1709041080-0019-R.jpg is a low contrast image\n",
      "  if __name__ == '__main__':\n",
      "Lossy conversion from float64 to uint8. Range [0, 1]. Convert image to uint8 prior to saving to suppress this warning.\n"
     ]
    },
    {
     "name": "stdout",
     "output_type": "stream",
     "text": [
      "Vivax/gt/1709041080-0018-R_R.jpg\n",
      "Vivax/gt/1709041080-0019-R.tif\n",
      "Vivax/gt/1709041080-0019-R.jpg\n",
      "Vivax/gt/1709041080-0020-R.tif\n"
     ]
    },
    {
     "name": "stderr",
     "output_type": "stream",
     "text": [
      "/data/users/g6114450078/.local/lib/python3.7/site-packages/ipykernel_launcher.py:9: UserWarning: Vivax/gt/1709041080-0020-R.jpg is a low contrast image\n",
      "  if __name__ == '__main__':\n",
      "Lossy conversion from float64 to uint8. Range [0, 1]. Convert image to uint8 prior to saving to suppress this warning.\n",
      "/data/users/g6114450078/.local/lib/python3.7/site-packages/ipykernel_launcher.py:9: UserWarning: Vivax/gt/1709041080-0021-R_T.jpg is a low contrast image\n",
      "  if __name__ == '__main__':\n",
      "Lossy conversion from float64 to uint8. Range [0, 1]. Convert image to uint8 prior to saving to suppress this warning.\n"
     ]
    },
    {
     "name": "stdout",
     "output_type": "stream",
     "text": [
      "Vivax/gt/1709041080-0020-R.jpg\n",
      "Vivax/gt/1709041080-0021-R_T.tif\n",
      "Vivax/gt/1709041080-0021-R_T.jpg\n",
      "Vivax/gt/1709041080-0022-T.tif\n"
     ]
    },
    {
     "name": "stderr",
     "output_type": "stream",
     "text": [
      "/data/users/g6114450078/.local/lib/python3.7/site-packages/ipykernel_launcher.py:9: UserWarning: Vivax/gt/1709041080-0022-T.jpg is a low contrast image\n",
      "  if __name__ == '__main__':\n",
      "Lossy conversion from float64 to uint8. Range [0, 1]. Convert image to uint8 prior to saving to suppress this warning.\n",
      "/data/users/g6114450078/.local/lib/python3.7/site-packages/ipykernel_launcher.py:9: UserWarning: Vivax/gt/1709041080-0023-R.jpg is a low contrast image\n",
      "  if __name__ == '__main__':\n",
      "Lossy conversion from float64 to uint8. Range [0, 1]. Convert image to uint8 prior to saving to suppress this warning.\n"
     ]
    },
    {
     "name": "stdout",
     "output_type": "stream",
     "text": [
      "Vivax/gt/1709041080-0022-T.jpg\n",
      "Vivax/gt/1709041080-0023-R.tif\n",
      "Vivax/gt/1709041080-0023-R.jpg\n",
      "Vivax/gt/1709041080-0024-R.tif\n"
     ]
    },
    {
     "name": "stderr",
     "output_type": "stream",
     "text": [
      "/data/users/g6114450078/.local/lib/python3.7/site-packages/ipykernel_launcher.py:9: UserWarning: Vivax/gt/1709041080-0024-R.jpg is a low contrast image\n",
      "  if __name__ == '__main__':\n",
      "Lossy conversion from float64 to uint8. Range [0, 1]. Convert image to uint8 prior to saving to suppress this warning.\n",
      "/data/users/g6114450078/.local/lib/python3.7/site-packages/ipykernel_launcher.py:9: UserWarning: Vivax/gt/1709041080-0025-R_T.jpg is a low contrast image\n",
      "  if __name__ == '__main__':\n",
      "Lossy conversion from float64 to uint8. Range [0, 1]. Convert image to uint8 prior to saving to suppress this warning.\n"
     ]
    },
    {
     "name": "stdout",
     "output_type": "stream",
     "text": [
      "Vivax/gt/1709041080-0024-R.jpg\n",
      "Vivax/gt/1709041080-0025-R_T.tif\n",
      "Vivax/gt/1709041080-0025-R_T.jpg\n",
      "Vivax/gt/1709041080-0027-R.tif\n"
     ]
    },
    {
     "name": "stderr",
     "output_type": "stream",
     "text": [
      "/data/users/g6114450078/.local/lib/python3.7/site-packages/ipykernel_launcher.py:9: UserWarning: Vivax/gt/1709041080-0027-R.jpg is a low contrast image\n",
      "  if __name__ == '__main__':\n",
      "Lossy conversion from float64 to uint8. Range [0, 1]. Convert image to uint8 prior to saving to suppress this warning.\n",
      "/data/users/g6114450078/.local/lib/python3.7/site-packages/ipykernel_launcher.py:9: UserWarning: Vivax/gt/1709041080-0028-T.jpg is a low contrast image\n",
      "  if __name__ == '__main__':\n",
      "Lossy conversion from float64 to uint8. Range [0, 1]. Convert image to uint8 prior to saving to suppress this warning.\n"
     ]
    },
    {
     "name": "stdout",
     "output_type": "stream",
     "text": [
      "Vivax/gt/1709041080-0027-R.jpg\n",
      "Vivax/gt/1709041080-0028-T.tif\n",
      "Vivax/gt/1709041080-0028-T.jpg\n",
      "Vivax/gt/1709041080-0029-T.tif\n"
     ]
    },
    {
     "name": "stderr",
     "output_type": "stream",
     "text": [
      "/data/users/g6114450078/.local/lib/python3.7/site-packages/ipykernel_launcher.py:9: UserWarning: Vivax/gt/1709041080-0029-T.jpg is a low contrast image\n",
      "  if __name__ == '__main__':\n",
      "Lossy conversion from float64 to uint8. Range [0, 1]. Convert image to uint8 prior to saving to suppress this warning.\n",
      "/data/users/g6114450078/.local/lib/python3.7/site-packages/ipykernel_launcher.py:9: UserWarning: Vivax/gt/1709041080-0030-S.jpg is a low contrast image\n",
      "  if __name__ == '__main__':\n",
      "Lossy conversion from float64 to uint8. Range [0, 1]. Convert image to uint8 prior to saving to suppress this warning.\n"
     ]
    },
    {
     "name": "stdout",
     "output_type": "stream",
     "text": [
      "Vivax/gt/1709041080-0029-T.jpg\n",
      "Vivax/gt/1709041080-0030-S.tif\n",
      "Vivax/gt/1709041080-0030-S.jpg\n",
      "Vivax/gt/1709041080-0031-S.tif\n"
     ]
    },
    {
     "name": "stderr",
     "output_type": "stream",
     "text": [
      "/data/users/g6114450078/.local/lib/python3.7/site-packages/ipykernel_launcher.py:9: UserWarning: Vivax/gt/1709041080-0031-S.jpg is a low contrast image\n",
      "  if __name__ == '__main__':\n",
      "Lossy conversion from float64 to uint8. Range [0, 1]. Convert image to uint8 prior to saving to suppress this warning.\n",
      "Lossy conversion from float64 to uint8. Range [0, 1]. Convert image to uint8 prior to saving to suppress this warning.\n"
     ]
    },
    {
     "name": "stdout",
     "output_type": "stream",
     "text": [
      "Vivax/gt/1709041080-0031-S.jpg\n",
      "Vivax/gt/1709041080-0032-S.tif\n",
      "Vivax/gt/1709041080-0032-S.jpg\n",
      "Vivax/gt/1709041080-0033-S.tif\n"
     ]
    },
    {
     "name": "stderr",
     "output_type": "stream",
     "text": [
      "/data/users/g6114450078/.local/lib/python3.7/site-packages/ipykernel_launcher.py:9: UserWarning: Vivax/gt/1709041080-0033-S.jpg is a low contrast image\n",
      "  if __name__ == '__main__':\n",
      "Lossy conversion from float64 to uint8. Range [0, 1]. Convert image to uint8 prior to saving to suppress this warning.\n",
      "/data/users/g6114450078/.local/lib/python3.7/site-packages/ipykernel_launcher.py:9: UserWarning: Vivax/gt/1709041080-0034-R.jpg is a low contrast image\n",
      "  if __name__ == '__main__':\n",
      "Lossy conversion from float64 to uint8. Range [0, 1]. Convert image to uint8 prior to saving to suppress this warning.\n"
     ]
    },
    {
     "name": "stdout",
     "output_type": "stream",
     "text": [
      "Vivax/gt/1709041080-0033-S.jpg\n",
      "Vivax/gt/1709041080-0034-R.tif\n",
      "Vivax/gt/1709041080-0034-R.jpg\n",
      "Vivax/gt/1709041080-0035-S.tif\n"
     ]
    },
    {
     "name": "stderr",
     "output_type": "stream",
     "text": [
      "/data/users/g6114450078/.local/lib/python3.7/site-packages/ipykernel_launcher.py:9: UserWarning: Vivax/gt/1709041080-0035-S.jpg is a low contrast image\n",
      "  if __name__ == '__main__':\n",
      "Lossy conversion from float64 to uint8. Range [0, 1]. Convert image to uint8 prior to saving to suppress this warning.\n",
      "/data/users/g6114450078/.local/lib/python3.7/site-packages/ipykernel_launcher.py:9: UserWarning: Vivax/gt/1709041080-0036-S_R.jpg is a low contrast image\n",
      "  if __name__ == '__main__':\n",
      "Lossy conversion from float64 to uint8. Range [0, 1]. Convert image to uint8 prior to saving to suppress this warning.\n"
     ]
    },
    {
     "name": "stdout",
     "output_type": "stream",
     "text": [
      "Vivax/gt/1709041080-0035-S.jpg\n",
      "Vivax/gt/1709041080-0036-S_R.tif\n",
      "Vivax/gt/1709041080-0036-S_R.jpg\n",
      "Vivax/gt/1709041080-0037-S.tif\n"
     ]
    },
    {
     "name": "stderr",
     "output_type": "stream",
     "text": [
      "/data/users/g6114450078/.local/lib/python3.7/site-packages/ipykernel_launcher.py:9: UserWarning: Vivax/gt/1709041080-0037-S.jpg is a low contrast image\n",
      "  if __name__ == '__main__':\n",
      "Lossy conversion from float64 to uint8. Range [0, 1]. Convert image to uint8 prior to saving to suppress this warning.\n",
      "/data/users/g6114450078/.local/lib/python3.7/site-packages/ipykernel_launcher.py:9: UserWarning: Vivax/gt/1709041080-0038-S.jpg is a low contrast image\n",
      "  if __name__ == '__main__':\n",
      "Lossy conversion from float64 to uint8. Range [0, 1]. Convert image to uint8 prior to saving to suppress this warning.\n"
     ]
    },
    {
     "name": "stdout",
     "output_type": "stream",
     "text": [
      "Vivax/gt/1709041080-0037-S.jpg\n",
      "Vivax/gt/1709041080-0038-S.tif\n",
      "Vivax/gt/1709041080-0038-S.jpg\n",
      "--------img start---------\n",
      "Vivax/img/1703121298-0001-G_R.tif\n"
     ]
    },
    {
     "name": "stderr",
     "output_type": "stream",
     "text": [
      "Lossy conversion from float64 to uint8. Range [0, 1]. Convert image to uint8 prior to saving to suppress this warning.\n"
     ]
    },
    {
     "name": "stdout",
     "output_type": "stream",
     "text": [
      "Vivax/img/1703121298-0001-G_R.jpg\n",
      "Vivax/img/1703121298-0002-S.tif\n"
     ]
    },
    {
     "name": "stderr",
     "output_type": "stream",
     "text": [
      "Lossy conversion from float64 to uint8. Range [0, 1]. Convert image to uint8 prior to saving to suppress this warning.\n"
     ]
    },
    {
     "name": "stdout",
     "output_type": "stream",
     "text": [
      "Vivax/img/1703121298-0002-S.jpg\n",
      "Vivax/img/1703121298-0003-R.tif\n"
     ]
    },
    {
     "name": "stderr",
     "output_type": "stream",
     "text": [
      "Lossy conversion from float64 to uint8. Range [0, 1]. Convert image to uint8 prior to saving to suppress this warning.\n"
     ]
    },
    {
     "name": "stdout",
     "output_type": "stream",
     "text": [
      "Vivax/img/1703121298-0003-R.jpg\n",
      "Vivax/img/1703121298-0004-R.tif\n"
     ]
    },
    {
     "name": "stderr",
     "output_type": "stream",
     "text": [
      "Lossy conversion from float64 to uint8. Range [0, 1]. Convert image to uint8 prior to saving to suppress this warning.\n"
     ]
    },
    {
     "name": "stdout",
     "output_type": "stream",
     "text": [
      "Vivax/img/1703121298-0004-R.jpg\n",
      "Vivax/img/1703121298-0005-R.tif\n"
     ]
    },
    {
     "name": "stderr",
     "output_type": "stream",
     "text": [
      "Lossy conversion from float64 to uint8. Range [0, 1]. Convert image to uint8 prior to saving to suppress this warning.\n"
     ]
    },
    {
     "name": "stdout",
     "output_type": "stream",
     "text": [
      "Vivax/img/1703121298-0005-R.jpg\n",
      "Vivax/img/1703121298-0006-R.tif\n"
     ]
    },
    {
     "name": "stderr",
     "output_type": "stream",
     "text": [
      "Lossy conversion from float64 to uint8. Range [0, 1]. Convert image to uint8 prior to saving to suppress this warning.\n"
     ]
    },
    {
     "name": "stdout",
     "output_type": "stream",
     "text": [
      "Vivax/img/1703121298-0006-R.jpg\n",
      "Vivax/img/1703121298-0007-R.tif\n"
     ]
    },
    {
     "name": "stderr",
     "output_type": "stream",
     "text": [
      "Lossy conversion from float64 to uint8. Range [0, 1]. Convert image to uint8 prior to saving to suppress this warning.\n"
     ]
    },
    {
     "name": "stdout",
     "output_type": "stream",
     "text": [
      "Vivax/img/1703121298-0007-R.jpg\n",
      "Vivax/img/1703121298-0008-G.tif\n"
     ]
    },
    {
     "name": "stderr",
     "output_type": "stream",
     "text": [
      "Lossy conversion from float64 to uint8. Range [0, 1]. Convert image to uint8 prior to saving to suppress this warning.\n"
     ]
    },
    {
     "name": "stdout",
     "output_type": "stream",
     "text": [
      "Vivax/img/1703121298-0008-G.jpg\n",
      "Vivax/img/1703121298-0009-R.tif\n"
     ]
    },
    {
     "name": "stderr",
     "output_type": "stream",
     "text": [
      "Lossy conversion from float64 to uint8. Range [0, 1]. Convert image to uint8 prior to saving to suppress this warning.\n"
     ]
    },
    {
     "name": "stdout",
     "output_type": "stream",
     "text": [
      "Vivax/img/1703121298-0009-R.jpg\n",
      "Vivax/img/1703121298-0010-G.tif\n"
     ]
    },
    {
     "name": "stderr",
     "output_type": "stream",
     "text": [
      "Lossy conversion from float64 to uint8. Range [0, 1]. Convert image to uint8 prior to saving to suppress this warning.\n"
     ]
    },
    {
     "name": "stdout",
     "output_type": "stream",
     "text": [
      "Vivax/img/1703121298-0010-G.jpg\n",
      "Vivax/img/1703121298-0011-R.tif\n"
     ]
    },
    {
     "name": "stderr",
     "output_type": "stream",
     "text": [
      "Lossy conversion from float64 to uint8. Range [0, 1]. Convert image to uint8 prior to saving to suppress this warning.\n"
     ]
    },
    {
     "name": "stdout",
     "output_type": "stream",
     "text": [
      "Vivax/img/1703121298-0011-R.jpg\n",
      "Vivax/img/1703121298-0012-G_R.tif\n"
     ]
    },
    {
     "name": "stderr",
     "output_type": "stream",
     "text": [
      "Lossy conversion from float64 to uint8. Range [0, 1]. Convert image to uint8 prior to saving to suppress this warning.\n"
     ]
    },
    {
     "name": "stdout",
     "output_type": "stream",
     "text": [
      "Vivax/img/1703121298-0012-G_R.jpg\n",
      "Vivax/img/1703121298-0015-R.tif\n"
     ]
    },
    {
     "name": "stderr",
     "output_type": "stream",
     "text": [
      "Lossy conversion from float64 to uint8. Range [0, 1]. Convert image to uint8 prior to saving to suppress this warning.\n"
     ]
    },
    {
     "name": "stdout",
     "output_type": "stream",
     "text": [
      "Vivax/img/1703121298-0015-R.jpg\n",
      "Vivax/img/1703121298-0016-G.tif\n"
     ]
    },
    {
     "name": "stderr",
     "output_type": "stream",
     "text": [
      "Lossy conversion from float64 to uint8. Range [0, 1]. Convert image to uint8 prior to saving to suppress this warning.\n"
     ]
    },
    {
     "name": "stdout",
     "output_type": "stream",
     "text": [
      "Vivax/img/1703121298-0016-G.jpg\n",
      "Vivax/img/1703121298-0017-R.tif\n"
     ]
    },
    {
     "name": "stderr",
     "output_type": "stream",
     "text": [
      "Lossy conversion from float64 to uint8. Range [0, 1]. Convert image to uint8 prior to saving to suppress this warning.\n"
     ]
    },
    {
     "name": "stdout",
     "output_type": "stream",
     "text": [
      "Vivax/img/1703121298-0017-R.jpg\n",
      "Vivax/img/1709041080-0013-R.tif\n"
     ]
    },
    {
     "name": "stderr",
     "output_type": "stream",
     "text": [
      "Lossy conversion from float64 to uint8. Range [0, 1]. Convert image to uint8 prior to saving to suppress this warning.\n"
     ]
    },
    {
     "name": "stdout",
     "output_type": "stream",
     "text": [
      "Vivax/img/1709041080-0013-R.jpg\n",
      "Vivax/img/1709041080-0014-R.tif\n"
     ]
    },
    {
     "name": "stderr",
     "output_type": "stream",
     "text": [
      "Lossy conversion from float64 to uint8. Range [0, 1]. Convert image to uint8 prior to saving to suppress this warning.\n"
     ]
    },
    {
     "name": "stdout",
     "output_type": "stream",
     "text": [
      "Vivax/img/1709041080-0014-R.jpg\n",
      "Vivax/img/1709041080-0015-R.tif\n"
     ]
    },
    {
     "name": "stderr",
     "output_type": "stream",
     "text": [
      "Lossy conversion from float64 to uint8. Range [0, 1]. Convert image to uint8 prior to saving to suppress this warning.\n"
     ]
    },
    {
     "name": "stdout",
     "output_type": "stream",
     "text": [
      "Vivax/img/1709041080-0015-R.jpg\n",
      "Vivax/img/1709041080-0016-S.tif\n"
     ]
    },
    {
     "name": "stderr",
     "output_type": "stream",
     "text": [
      "Lossy conversion from float64 to uint8. Range [0, 1]. Convert image to uint8 prior to saving to suppress this warning.\n"
     ]
    },
    {
     "name": "stdout",
     "output_type": "stream",
     "text": [
      "Vivax/img/1709041080-0016-S.jpg\n",
      "Vivax/img/1709041080-0017-R.tif\n"
     ]
    },
    {
     "name": "stderr",
     "output_type": "stream",
     "text": [
      "Lossy conversion from float64 to uint8. Range [0, 1]. Convert image to uint8 prior to saving to suppress this warning.\n"
     ]
    },
    {
     "name": "stdout",
     "output_type": "stream",
     "text": [
      "Vivax/img/1709041080-0017-R.jpg\n",
      "Vivax/img/1709041080-0018-R_R.tif\n"
     ]
    },
    {
     "name": "stderr",
     "output_type": "stream",
     "text": [
      "Lossy conversion from float64 to uint8. Range [0, 1]. Convert image to uint8 prior to saving to suppress this warning.\n"
     ]
    },
    {
     "name": "stdout",
     "output_type": "stream",
     "text": [
      "Vivax/img/1709041080-0018-R_R.jpg\n",
      "Vivax/img/1709041080-0019-R.tif\n"
     ]
    },
    {
     "name": "stderr",
     "output_type": "stream",
     "text": [
      "Lossy conversion from float64 to uint8. Range [0, 1]. Convert image to uint8 prior to saving to suppress this warning.\n"
     ]
    },
    {
     "name": "stdout",
     "output_type": "stream",
     "text": [
      "Vivax/img/1709041080-0019-R.jpg\n",
      "Vivax/img/1709041080-0020-R.tif\n"
     ]
    },
    {
     "name": "stderr",
     "output_type": "stream",
     "text": [
      "Lossy conversion from float64 to uint8. Range [0, 1]. Convert image to uint8 prior to saving to suppress this warning.\n"
     ]
    },
    {
     "name": "stdout",
     "output_type": "stream",
     "text": [
      "Vivax/img/1709041080-0020-R.jpg\n",
      "Vivax/img/1709041080-0021-R_T.tif\n"
     ]
    },
    {
     "name": "stderr",
     "output_type": "stream",
     "text": [
      "Lossy conversion from float64 to uint8. Range [0, 1]. Convert image to uint8 prior to saving to suppress this warning.\n"
     ]
    },
    {
     "name": "stdout",
     "output_type": "stream",
     "text": [
      "Vivax/img/1709041080-0021-R_T.jpg\n",
      "Vivax/img/1709041080-0022-T.tif\n"
     ]
    },
    {
     "name": "stderr",
     "output_type": "stream",
     "text": [
      "Lossy conversion from float64 to uint8. Range [0, 1]. Convert image to uint8 prior to saving to suppress this warning.\n"
     ]
    },
    {
     "name": "stdout",
     "output_type": "stream",
     "text": [
      "Vivax/img/1709041080-0022-T.jpg\n",
      "Vivax/img/1709041080-0023-R.tif\n"
     ]
    },
    {
     "name": "stderr",
     "output_type": "stream",
     "text": [
      "Lossy conversion from float64 to uint8. Range [0, 1]. Convert image to uint8 prior to saving to suppress this warning.\n"
     ]
    },
    {
     "name": "stdout",
     "output_type": "stream",
     "text": [
      "Vivax/img/1709041080-0023-R.jpg\n",
      "Vivax/img/1709041080-0024-R.tif\n"
     ]
    },
    {
     "name": "stderr",
     "output_type": "stream",
     "text": [
      "Lossy conversion from float64 to uint8. Range [0, 1]. Convert image to uint8 prior to saving to suppress this warning.\n"
     ]
    },
    {
     "name": "stdout",
     "output_type": "stream",
     "text": [
      "Vivax/img/1709041080-0024-R.jpg\n",
      "Vivax/img/1709041080-0025-R_T.tif\n"
     ]
    },
    {
     "name": "stderr",
     "output_type": "stream",
     "text": [
      "Lossy conversion from float64 to uint8. Range [0, 1]. Convert image to uint8 prior to saving to suppress this warning.\n"
     ]
    },
    {
     "name": "stdout",
     "output_type": "stream",
     "text": [
      "Vivax/img/1709041080-0025-R_T.jpg\n",
      "Vivax/img/1709041080-0027-R.tif\n"
     ]
    },
    {
     "name": "stderr",
     "output_type": "stream",
     "text": [
      "Lossy conversion from float64 to uint8. Range [0, 1]. Convert image to uint8 prior to saving to suppress this warning.\n"
     ]
    },
    {
     "name": "stdout",
     "output_type": "stream",
     "text": [
      "Vivax/img/1709041080-0027-R.jpg\n",
      "Vivax/img/1709041080-0028-T.tif\n"
     ]
    },
    {
     "name": "stderr",
     "output_type": "stream",
     "text": [
      "Lossy conversion from float64 to uint8. Range [0, 1]. Convert image to uint8 prior to saving to suppress this warning.\n"
     ]
    },
    {
     "name": "stdout",
     "output_type": "stream",
     "text": [
      "Vivax/img/1709041080-0028-T.jpg\n",
      "Vivax/img/1709041080-0029-T.tif\n"
     ]
    },
    {
     "name": "stderr",
     "output_type": "stream",
     "text": [
      "Lossy conversion from float64 to uint8. Range [0, 1]. Convert image to uint8 prior to saving to suppress this warning.\n"
     ]
    },
    {
     "name": "stdout",
     "output_type": "stream",
     "text": [
      "Vivax/img/1709041080-0029-T.jpg\n",
      "Vivax/img/1709041080-0030-S.tif\n"
     ]
    },
    {
     "name": "stderr",
     "output_type": "stream",
     "text": [
      "Lossy conversion from float64 to uint8. Range [0, 1]. Convert image to uint8 prior to saving to suppress this warning.\n"
     ]
    },
    {
     "name": "stdout",
     "output_type": "stream",
     "text": [
      "Vivax/img/1709041080-0030-S.jpg\n",
      "Vivax/img/1709041080-0031-S.tif\n"
     ]
    },
    {
     "name": "stderr",
     "output_type": "stream",
     "text": [
      "Lossy conversion from float64 to uint8. Range [0, 1]. Convert image to uint8 prior to saving to suppress this warning.\n"
     ]
    },
    {
     "name": "stdout",
     "output_type": "stream",
     "text": [
      "Vivax/img/1709041080-0031-S.jpg\n",
      "Vivax/img/1709041080-0032-S.tif\n"
     ]
    },
    {
     "name": "stderr",
     "output_type": "stream",
     "text": [
      "Lossy conversion from float64 to uint8. Range [0, 1]. Convert image to uint8 prior to saving to suppress this warning.\n"
     ]
    },
    {
     "name": "stdout",
     "output_type": "stream",
     "text": [
      "Vivax/img/1709041080-0032-S.jpg\n",
      "Vivax/img/1709041080-0033-S.tif\n"
     ]
    },
    {
     "name": "stderr",
     "output_type": "stream",
     "text": [
      "Lossy conversion from float64 to uint8. Range [0, 1]. Convert image to uint8 prior to saving to suppress this warning.\n"
     ]
    },
    {
     "name": "stdout",
     "output_type": "stream",
     "text": [
      "Vivax/img/1709041080-0033-S.jpg\n",
      "Vivax/img/1709041080-0034-R.tif\n"
     ]
    },
    {
     "name": "stderr",
     "output_type": "stream",
     "text": [
      "Lossy conversion from float64 to uint8. Range [0, 1]. Convert image to uint8 prior to saving to suppress this warning.\n"
     ]
    },
    {
     "name": "stdout",
     "output_type": "stream",
     "text": [
      "Vivax/img/1709041080-0034-R.jpg\n",
      "Vivax/img/1709041080-0035-S.tif\n"
     ]
    },
    {
     "name": "stderr",
     "output_type": "stream",
     "text": [
      "Lossy conversion from float64 to uint8. Range [0, 1]. Convert image to uint8 prior to saving to suppress this warning.\n"
     ]
    },
    {
     "name": "stdout",
     "output_type": "stream",
     "text": [
      "Vivax/img/1709041080-0035-S.jpg\n",
      "Vivax/img/1709041080-0036-S_R.tif\n"
     ]
    },
    {
     "name": "stderr",
     "output_type": "stream",
     "text": [
      "Lossy conversion from float64 to uint8. Range [0, 1]. Convert image to uint8 prior to saving to suppress this warning.\n"
     ]
    },
    {
     "name": "stdout",
     "output_type": "stream",
     "text": [
      "Vivax/img/1709041080-0036-S_R.jpg\n",
      "Vivax/img/1709041080-0037-S.tif\n"
     ]
    },
    {
     "name": "stderr",
     "output_type": "stream",
     "text": [
      "Lossy conversion from float64 to uint8. Range [0, 1]. Convert image to uint8 prior to saving to suppress this warning.\n"
     ]
    },
    {
     "name": "stdout",
     "output_type": "stream",
     "text": [
      "Vivax/img/1709041080-0037-S.jpg\n",
      "Vivax/img/1709041080-0038-S.tif\n"
     ]
    },
    {
     "name": "stderr",
     "output_type": "stream",
     "text": [
      "Lossy conversion from float64 to uint8. Range [0, 1]. Convert image to uint8 prior to saving to suppress this warning.\n"
     ]
    },
    {
     "name": "stdout",
     "output_type": "stream",
     "text": [
      "Vivax/img/1709041080-0038-S.jpg\n"
     ]
    }
   ],
   "source": [
    "# resize image\n",
    "gts = glob.glob(\"Vivax/gt/*\")\n",
    "\n",
    "for gt in gts:\n",
    "    print(gt)\n",
    "    img = imread(gt, plugin='pil')\n",
    "    new_img = resize(img,(1200,1600),anti_aliasing=True)\n",
    "    new_name = gt.split(\".\")[0] + \".jpg\"\n",
    "    imsave(new_name,new_img)\n",
    "    print(new_name)\n",
    "\n",
    "print(\"--------img start---------\") \n",
    "gts = glob.glob(\"Vivax/img/*\")\n",
    "for gt in gts:\n",
    "    print(gt)\n",
    "    img = imread(gt, plugin='pil')\n",
    "    new_img = resize(img,(1200,1600),anti_aliasing=True)\n",
    "    new_name = gt.split(\".\")[0] + \".jpg\"\n",
    "    imsave(new_name,new_img)\n",
    "    print(new_name)"
   ]
  },
  {
   "cell_type": "code",
   "execution_count": 3,
   "metadata": {},
   "outputs": [
    {
     "name": "stdout",
     "output_type": "stream",
     "text": [
      "1703121298-0001-G_R.jpg\n",
      "1703121298-0002-S.jpg\n",
      "1703121298-0003-R.jpg\n",
      "1703121298-0004-R.jpg\n",
      "1703121298-0005-R.jpg\n",
      "1703121298-0006-R.jpg\n",
      "1703121298-0007-R.jpg\n",
      "1703121298-0008-G.jpg\n",
      "1703121298-0009-R.jpg\n",
      "1703121298-0010-G.jpg\n",
      "1703121298-0011-R.jpg\n",
      "1703121298-0012-G_R.jpg\n",
      "1703121298-0015-R.jpg\n",
      "1703121298-0016-G.jpg\n",
      "1703121298-0017-R.jpg\n",
      "1709041080-0013-R.jpg\n",
      "1709041080-0014-R.jpg\n",
      "1709041080-0015-R.jpg\n",
      "1709041080-0016-S.jpg\n",
      "1709041080-0017-R.jpg\n",
      "1709041080-0018-R_R.jpg\n",
      "1709041080-0019-R.jpg\n",
      "1709041080-0020-R.jpg\n",
      "1709041080-0021-R_T.jpg\n",
      "1709041080-0022-T.jpg\n",
      "1709041080-0023-R.jpg\n",
      "1709041080-0024-R.jpg\n",
      "1709041080-0025-R_T.jpg\n",
      "1709041080-0027-R.jpg\n",
      "1709041080-0028-T.jpg\n",
      "1709041080-0029-T.jpg\n",
      "1709041080-0030-S.jpg\n",
      "1709041080-0031-S.jpg\n",
      "1709041080-0032-S.jpg\n",
      "1709041080-0033-S.jpg\n",
      "1709041080-0034-R.jpg\n",
      "1709041080-0035-S.jpg\n",
      "1709041080-0036-S_R.jpg\n",
      "1709041080-0037-S.jpg\n",
      "1709041080-0038-S.jpg\n"
     ]
    }
   ],
   "source": [
    "class_id = \"1\"\n",
    "count = 1\n",
    "gts = glob.glob(\"Vivax/gt/*.jpg\")\n",
    "main_img_pth = \"Vivax/img/\"\n",
    "for gt in gts:\n",
    "    gt_image = gt.split(\"/\")[-1]\n",
    "    txt_name = \"pv-{:010d}.txt\".format(int(count))\n",
    "    img_name = \"pv-{:010d}.jpg\".format(int(count))\n",
    "    print(gt_image)\n",
    "    img_main = imread(main_img_pth + gt_image)\n",
    "    imsave(os.path.join(\"tmp_images/\",img_name),img_main)\n",
    "    img = imread(gt)\n",
    "    h, w = img.shape\n",
    "    thresh = threshold_otsu(img)\n",
    "    bw = img > thresh\n",
    "    label_image = label(bw)\n",
    "    result = \"\"\n",
    "    for region in regionprops(label_image):\n",
    "        minr, minc, maxr, maxc = region.bbox\n",
    "        x1 = minc / w\n",
    "        y1 = minr / h\n",
    "        bw = (maxc - minc) / w\n",
    "        bh = (maxr - minr) / h\n",
    "        xc = x1 + (bw / 2)\n",
    "        yc = y1 + (bh / 2)\n",
    "        result += \"\\n\" + class_id + \" \" + str(xc) + \" \" + str(yc) + \" \" + str(bw) + \" \" + str(bh) \n",
    "    f = open(\"tmp_labels/\" + txt_name,'w')\n",
    "    result = result[1:]\n",
    "    f.write(result)\n",
    "    f.close()\n",
    "    count += 1"
   ]
  },
  {
   "cell_type": "code",
   "execution_count": 2,
   "metadata": {},
   "outputs": [
    {
     "name": "stdout",
     "output_type": "stream",
     "text": [
      "tmp_labels/pm-0000000001.txt\n",
      "38 45\n",
      "39 90\n",
      "40 135\n",
      "41 180\n",
      "42 225\n",
      "43 270\n",
      "44 315\n",
      "tmp_labels/pm-0000000002.txt\n",
      "45 45\n",
      "46 90\n",
      "47 135\n",
      "48 180\n",
      "49 225\n",
      "50 270\n",
      "51 315\n",
      "tmp_labels/pm-0000000003.txt\n",
      "52 45\n",
      "53 90\n",
      "54 135\n",
      "55 180\n",
      "56 225\n",
      "57 270\n",
      "58 315\n",
      "tmp_labels/pm-0000000004.txt\n",
      "59 45\n",
      "60 90\n",
      "61 135\n",
      "62 180\n",
      "63 225\n",
      "64 270\n",
      "65 315\n",
      "tmp_labels/pm-0000000005.txt\n",
      "66 45\n",
      "67 90\n",
      "68 135\n",
      "69 180\n",
      "70 225\n",
      "71 270\n",
      "72 315\n",
      "tmp_labels/pm-0000000006.txt\n",
      "73 45\n",
      "74 90\n",
      "75 135\n",
      "76 180\n",
      "77 225\n",
      "78 270\n",
      "79 315\n",
      "tmp_labels/pm-0000000007.txt\n",
      "80 45\n",
      "81 90\n",
      "82 135\n",
      "83 180\n",
      "84 225\n",
      "85 270\n",
      "86 315\n",
      "tmp_labels/pm-0000000008.txt\n",
      "87 45\n",
      "88 90\n",
      "89 135\n",
      "90 180\n",
      "91 225\n",
      "92 270\n",
      "93 315\n",
      "tmp_labels/pm-0000000009.txt\n",
      "94 45\n",
      "95 90\n",
      "96 135\n",
      "97 180\n",
      "98 225\n",
      "99 270\n",
      "100 315\n",
      "tmp_labels/pm-0000000010.txt\n",
      "101 45\n",
      "102 90\n",
      "103 135\n",
      "104 180\n",
      "105 225\n",
      "106 270\n",
      "107 315\n",
      "tmp_labels/pm-0000000011.txt\n",
      "108 45\n",
      "109 90\n",
      "110 135\n",
      "111 180\n",
      "112 225\n",
      "113 270\n",
      "114 315\n",
      "tmp_labels/pm-0000000012.txt\n",
      "115 45\n",
      "116 90\n",
      "117 135\n",
      "118 180\n",
      "119 225\n",
      "120 270\n",
      "121 315\n",
      "tmp_labels/pm-0000000013.txt\n",
      "122 45\n",
      "123 90\n",
      "124 135\n",
      "125 180\n",
      "126 225\n",
      "127 270\n",
      "128 315\n",
      "tmp_labels/pm-0000000014.txt\n",
      "129 45\n",
      "130 90\n",
      "131 135\n",
      "132 180\n",
      "133 225\n",
      "134 270\n",
      "135 315\n",
      "tmp_labels/pm-0000000015.txt\n",
      "136 45\n",
      "137 90\n",
      "138 135\n",
      "139 180\n",
      "140 225\n",
      "141 270\n",
      "142 315\n",
      "tmp_labels/pm-0000000016.txt\n",
      "143 45\n",
      "144 90\n",
      "145 135\n",
      "146 180\n",
      "147 225\n",
      "148 270\n",
      "149 315\n",
      "tmp_labels/pm-0000000017.txt\n",
      "150 45\n",
      "151 90\n",
      "152 135\n",
      "153 180\n",
      "154 225\n",
      "155 270\n",
      "156 315\n",
      "tmp_labels/pm-0000000018.txt\n",
      "157 45\n",
      "158 90\n",
      "159 135\n",
      "160 180\n",
      "161 225\n",
      "162 270\n",
      "163 315\n",
      "tmp_labels/pm-0000000019.txt\n",
      "164 45\n",
      "165 90\n",
      "166 135\n",
      "167 180\n",
      "168 225\n",
      "169 270\n",
      "170 315\n",
      "tmp_labels/pm-0000000020.txt\n",
      "171 45\n",
      "172 90\n",
      "173 135\n",
      "174 180\n",
      "175 225\n",
      "176 270\n",
      "177 315\n",
      "tmp_labels/pm-0000000021.txt\n",
      "178 45\n",
      "179 90\n",
      "180 135\n",
      "181 180\n",
      "182 225\n",
      "183 270\n",
      "184 315\n",
      "tmp_labels/pm-0000000022.txt\n",
      "185 45\n",
      "186 90\n",
      "187 135\n",
      "188 180\n",
      "189 225\n",
      "190 270\n",
      "191 315\n",
      "tmp_labels/pm-0000000023.txt\n",
      "192 45\n",
      "193 90\n",
      "194 135\n",
      "195 180\n",
      "196 225\n",
      "197 270\n",
      "198 315\n",
      "tmp_labels/pm-0000000024.txt\n",
      "199 45\n",
      "200 90\n",
      "201 135\n",
      "202 180\n",
      "203 225\n",
      "204 270\n",
      "205 315\n",
      "tmp_labels/pm-0000000025.txt\n",
      "206 45\n",
      "207 90\n",
      "208 135\n",
      "209 180\n",
      "210 225\n",
      "211 270\n",
      "212 315\n",
      "tmp_labels/pm-0000000026.txt\n",
      "213 45\n",
      "214 90\n",
      "215 135\n",
      "216 180\n",
      "217 225\n",
      "218 270\n",
      "219 315\n",
      "tmp_labels/pm-0000000027.txt\n",
      "220 45\n",
      "221 90\n",
      "222 135\n",
      "223 180\n",
      "224 225\n",
      "225 270\n",
      "226 315\n",
      "tmp_labels/pm-0000000028.txt\n",
      "227 45\n",
      "228 90\n",
      "229 135\n",
      "230 180\n",
      "231 225\n",
      "232 270\n",
      "233 315\n",
      "tmp_labels/pm-0000000029.txt\n",
      "234 45\n",
      "235 90\n",
      "236 135\n",
      "237 180\n",
      "238 225\n",
      "239 270\n",
      "240 315\n",
      "tmp_labels/pm-0000000030.txt\n",
      "241 45\n",
      "242 90\n",
      "243 135\n",
      "244 180\n",
      "245 225\n",
      "246 270\n",
      "247 315\n",
      "tmp_labels/pm-0000000031.txt\n",
      "248 45\n",
      "249 90\n",
      "250 135\n",
      "251 180\n",
      "252 225\n",
      "253 270\n",
      "254 315\n",
      "tmp_labels/pm-0000000032.txt\n",
      "255 45\n",
      "256 90\n",
      "257 135\n",
      "258 180\n",
      "259 225\n",
      "260 270\n",
      "261 315\n",
      "tmp_labels/pm-0000000033.txt\n",
      "262 45\n",
      "263 90\n",
      "264 135\n",
      "265 180\n",
      "266 225\n",
      "267 270\n",
      "268 315\n",
      "tmp_labels/pm-0000000034.txt\n",
      "269 45\n",
      "270 90\n",
      "271 135\n",
      "272 180\n",
      "273 225\n",
      "274 270\n",
      "275 315\n",
      "tmp_labels/pm-0000000035.txt\n",
      "276 45\n",
      "277 90\n",
      "278 135\n",
      "279 180\n",
      "280 225\n",
      "281 270\n",
      "282 315\n",
      "tmp_labels/pm-0000000036.txt\n",
      "283 45\n",
      "284 90\n",
      "285 135\n",
      "286 180\n",
      "287 225\n",
      "288 270\n",
      "289 315\n",
      "tmp_labels/pm-0000000037.txt\n",
      "290 45\n",
      "291 90\n",
      "292 135\n",
      "293 180\n",
      "294 225\n",
      "295 270\n",
      "296 315\n"
     ]
    }
   ],
   "source": [
    "count = 41\n",
    "files = glob.glob(\"tmp_labels/*.txt\")\n",
    "degs = [45,90,135,180,225,270,315]\n",
    "for file in files:\n",
    "    print(file)\n",
    "    f = open(file,\"r\")\n",
    "    lines = f.readlines()\n",
    "    f.close()\n",
    "    rects = []\n",
    "    img_name = file.split(\"/\")[1].replace(\".txt\",\".jpg\")\n",
    "    for line in lines:\n",
    "        class_id, xc, yc, bw, bh = line.split(\" \")\n",
    "        xc = float(xc)\n",
    "        yc = float(yc)\n",
    "        bw = float(bw)\n",
    "        bh = float(bh)\n",
    "        minx = (xc - (bw/2)) * 1600\n",
    "        miny = (yc - (bh/2)) * 1200\n",
    "        bw = bw * 1600\n",
    "        bh = bh * 1200\n",
    "        maxx = minx + bw\n",
    "        maxy = miny + bh\n",
    "        rects.append(BoundingBox(x1=int(minx),y1=int(miny),x2=int(maxx),y2=int(maxy),label=class_id))\n",
    "    img = Image.open(\"tmp_images/\"+img_name)\n",
    "    img = np.array(img)\n",
    "    bbs = BoundingBoxesOnImage(rects,shape=img.shape)\n",
    "    for deg in degs:\n",
    "        name = \"pm-{:010d}\".format(count)\n",
    "        image_aug, bbs_aug = iaa.Affine(rotate=deg,mode=\"reflect\")(image=img, bounding_boxes=bbs)\n",
    "        aug_h, aug_w, aug_c = image_aug.shape\n",
    "        clip_off_bbs = bbs_aug.remove_out_of_image(fully=True,partly=False).clip_out_of_image()\n",
    "        bboxs = \"\"\n",
    "        for bb in clip_off_bbs.bounding_boxes:\n",
    "            x1 = bb.x1\n",
    "            y1 = bb.y1\n",
    "            x2 = bb.x2\n",
    "            y2 = bb.y2\n",
    "            bb_w = (x2-x1)/aug_w\n",
    "            bb_h = (y2-y1)/aug_h\n",
    "            bb_xc = (x1/aug_w) + (bb_w/2)\n",
    "            bb_yc = (y1/aug_h) + (bb_h/2)\n",
    "            bboxs += \"\\n\"+ str(bb.label) + \" \" + str(bb_xc) + \" \" + str(bb_yc) + \" \" + str(bb_w) + \" \" + str(bb_h)\n",
    "        bboxs = bboxs[1:]\n",
    "        im_aug = Image.fromarray(image_aug)\n",
    "        im_aug.save(os.path.join('tmp_images',name+\".jpg\"))\n",
    "        f = open(os.path.join('tmp_labels',name+\".txt\"),'w')\n",
    "        f.write(bboxs)\n",
    "        f.close()\n",
    "        print(\"{} {}\".format(count,deg))\n",
    "        count += 1"
   ]
  },
  {
   "cell_type": "code",
   "execution_count": 4,
   "metadata": {},
   "outputs": [
    {
     "name": "stdout",
     "output_type": "stream",
     "text": [
      "1600\n",
      "test_images/pv-0000000001.jpg\n",
      "1600\n",
      "test_images/pv-0000000002.jpg\n",
      "1600\n",
      "test_images/pv-0000000003.jpg\n",
      "1600\n",
      "test_images/pv-0000000004.jpg\n",
      "1600\n",
      "test_images/pv-0000000005.jpg\n",
      "1600\n",
      "test_images/pv-0000000006.jpg\n",
      "1600\n",
      "test_images/pv-0000000007.jpg\n",
      "1600\n",
      "test_images/pv-0000000008.jpg\n",
      "1600\n",
      "test_images/pv-0000000009.jpg\n",
      "1600\n",
      "test_images/pv-0000000010.jpg\n",
      "1600\n",
      "test_images/pv-0000000011.jpg\n",
      "1600\n",
      "test_images/pv-0000000012.jpg\n",
      "1600\n",
      "test_images/pv-0000000013.jpg\n",
      "1600\n",
      "test_images/pv-0000000014.jpg\n",
      "1600\n",
      "test_images/pv-0000000015.jpg\n",
      "1600\n",
      "test_images/pv-0000000016.jpg\n",
      "1600\n",
      "test_images/pv-0000000017.jpg\n",
      "1600\n",
      "test_images/pv-0000000018.jpg\n",
      "1600\n",
      "test_images/pv-0000000019.jpg\n",
      "1600\n",
      "test_images/pv-0000000020.jpg\n",
      "1600\n",
      "test_images/pv-0000000021.jpg\n",
      "1600\n",
      "test_images/pv-0000000022.jpg\n",
      "1600\n",
      "test_images/pv-0000000023.jpg\n",
      "1600\n",
      "test_images/pv-0000000024.jpg\n",
      "1600\n",
      "test_images/pv-0000000025.jpg\n",
      "1600\n",
      "test_images/pv-0000000026.jpg\n",
      "1600\n",
      "test_images/pv-0000000027.jpg\n",
      "1600\n",
      "test_images/pv-0000000028.jpg\n",
      "1600\n",
      "test_images/pv-0000000029.jpg\n",
      "1600\n",
      "test_images/pv-0000000030.jpg\n",
      "1600\n",
      "test_images/pv-0000000031.jpg\n",
      "1600\n",
      "test_images/pv-0000000032.jpg\n",
      "1600\n",
      "test_images/pv-0000000033.jpg\n",
      "1600\n",
      "test_images/pv-0000000034.jpg\n",
      "1600\n",
      "test_images/pv-0000000035.jpg\n",
      "1600\n",
      "test_images/pv-0000000036.jpg\n",
      "1600\n",
      "test_images/pv-0000000037.jpg\n",
      "1600\n",
      "test_images/pv-0000000038.jpg\n",
      "1600\n",
      "test_images/pv-0000000039.jpg\n",
      "1600\n",
      "test_images/pv-0000000040.jpg\n"
     ]
    }
   ],
   "source": [
    "# create test_image\n",
    "images = glob.glob(\"tmp_images/*.jpg\")\n",
    "for image in images:\n",
    "    img = Image.open(image)\n",
    "    weigth,height = img.size\n",
    "    print(weigth)\n",
    "    txt_name = image.replace(\"tmp_images/\",\"tmp_labels/\").replace(\".jpg\",\".txt\")\n",
    "    f = open(txt_name,\"r\")\n",
    "    bboxs = list(f)\n",
    "    f.close()\n",
    "    for box in bboxs:\n",
    "        coor = box.split()\n",
    "        label = int(coor[0])\n",
    "        xc = float(coor[1])*weigth\n",
    "        yc = float(coor[2])*height\n",
    "        bb_w = float(coor[3])*weigth\n",
    "        bb_h = float(coor[4])*height\n",
    "        x1 = xc-(bb_w/2)\n",
    "        y1 = yc-(bb_h/2)\n",
    "        x2 = x1 + bb_w\n",
    "        y2 = y1 + bb_h\n",
    "        draw = ImageDraw.Draw(img)\n",
    "        draw.rectangle((x1, y1,x2,y2), fill=None,outline=\"red\",width=5)\n",
    "    save_path = image.replace(\"tmp_images/\",\"test_images/\")\n",
    "    img.save(save_path)\n",
    "    print(save_path)"
   ]
  },
  {
   "cell_type": "code",
   "execution_count": 7,
   "metadata": {},
   "outputs": [
    {
     "name": "stdout",
     "output_type": "stream",
     "text": [
      "https://raw.githubusercontent.com/RTANC/malaria_dataset/master/Vivax/pv-0000000001.jpg\n",
      "https://raw.githubusercontent.com/RTANC/malaria_dataset/master/Vivax/pv-0000000002.jpg\n",
      "https://raw.githubusercontent.com/RTANC/malaria_dataset/master/Vivax/pv-0000000003.jpg\n",
      "https://raw.githubusercontent.com/RTANC/malaria_dataset/master/Vivax/pv-0000000004.jpg\n",
      "https://raw.githubusercontent.com/RTANC/malaria_dataset/master/Vivax/pv-0000000005.jpg\n",
      "https://raw.githubusercontent.com/RTANC/malaria_dataset/master/Vivax/pv-0000000006.jpg\n",
      "https://raw.githubusercontent.com/RTANC/malaria_dataset/master/Vivax/pv-0000000007.jpg\n",
      "https://raw.githubusercontent.com/RTANC/malaria_dataset/master/Vivax/pv-0000000008.jpg\n",
      "https://raw.githubusercontent.com/RTANC/malaria_dataset/master/Vivax/pv-0000000009.jpg\n",
      "https://raw.githubusercontent.com/RTANC/malaria_dataset/master/Vivax/pv-0000000010.jpg\n",
      "https://raw.githubusercontent.com/RTANC/malaria_dataset/master/Vivax/pv-0000000011.jpg\n",
      "https://raw.githubusercontent.com/RTANC/malaria_dataset/master/Vivax/pv-0000000012.jpg\n",
      "https://raw.githubusercontent.com/RTANC/malaria_dataset/master/Vivax/pv-0000000013.jpg\n",
      "https://raw.githubusercontent.com/RTANC/malaria_dataset/master/Vivax/pv-0000000014.jpg\n",
      "https://raw.githubusercontent.com/RTANC/malaria_dataset/master/Vivax/pv-0000000015.jpg\n",
      "https://raw.githubusercontent.com/RTANC/malaria_dataset/master/Vivax/pv-0000000016.jpg\n",
      "https://raw.githubusercontent.com/RTANC/malaria_dataset/master/Vivax/pv-0000000017.jpg\n",
      "https://raw.githubusercontent.com/RTANC/malaria_dataset/master/Vivax/pv-0000000018.jpg\n",
      "https://raw.githubusercontent.com/RTANC/malaria_dataset/master/Vivax/pv-0000000019.jpg\n",
      "https://raw.githubusercontent.com/RTANC/malaria_dataset/master/Vivax/pv-0000000020.jpg\n",
      "https://raw.githubusercontent.com/RTANC/malaria_dataset/master/Vivax/pv-0000000021.jpg\n",
      "https://raw.githubusercontent.com/RTANC/malaria_dataset/master/Vivax/pv-0000000022.jpg\n",
      "https://raw.githubusercontent.com/RTANC/malaria_dataset/master/Vivax/pv-0000000023.jpg\n",
      "https://raw.githubusercontent.com/RTANC/malaria_dataset/master/Vivax/pv-0000000024.jpg\n",
      "https://raw.githubusercontent.com/RTANC/malaria_dataset/master/Vivax/pv-0000000025.jpg\n",
      "https://raw.githubusercontent.com/RTANC/malaria_dataset/master/Vivax/pv-0000000026.jpg\n",
      "https://raw.githubusercontent.com/RTANC/malaria_dataset/master/Vivax/pv-0000000027.jpg\n",
      "https://raw.githubusercontent.com/RTANC/malaria_dataset/master/Vivax/pv-0000000028.jpg\n",
      "https://raw.githubusercontent.com/RTANC/malaria_dataset/master/Vivax/pv-0000000029.jpg\n",
      "https://raw.githubusercontent.com/RTANC/malaria_dataset/master/Vivax/pv-0000000030.jpg\n",
      "https://raw.githubusercontent.com/RTANC/malaria_dataset/master/Vivax/pv-0000000031.jpg\n",
      "https://raw.githubusercontent.com/RTANC/malaria_dataset/master/Vivax/pv-0000000032.jpg\n",
      "https://raw.githubusercontent.com/RTANC/malaria_dataset/master/Vivax/pv-0000000033.jpg\n",
      "https://raw.githubusercontent.com/RTANC/malaria_dataset/master/Vivax/pv-0000000034.jpg\n",
      "https://raw.githubusercontent.com/RTANC/malaria_dataset/master/Vivax/pv-0000000035.jpg\n",
      "https://raw.githubusercontent.com/RTANC/malaria_dataset/master/Vivax/pv-0000000036.jpg\n",
      "https://raw.githubusercontent.com/RTANC/malaria_dataset/master/Vivax/pv-0000000037.jpg\n",
      "https://raw.githubusercontent.com/RTANC/malaria_dataset/master/Vivax/pv-0000000038.jpg\n",
      "https://raw.githubusercontent.com/RTANC/malaria_dataset/master/Vivax/pv-0000000039.jpg\n",
      "https://raw.githubusercontent.com/RTANC/malaria_dataset/master/Vivax/pv-0000000040.jpg\n"
     ]
    }
   ],
   "source": [
    "# gen url\n",
    "count = 1\n",
    "for i in range(count,41):\n",
    "    name = \"pv-{:010d}.jpg\".format(i)\n",
    "    print(\"https://raw.githubusercontent.com/RTANC/malaria_dataset/master/Vivax/\"+name)"
   ]
  },
  {
   "cell_type": "code",
   "execution_count": null,
   "metadata": {},
   "outputs": [],
   "source": [
    "count = 15250\n",
    "for i in range(count,15367):\n",
    "    name = \"{:010d}\".format(i)\n",
    "    print(name)\n",
    "    os.remove(os.path.join(\"images/\",name+\".jpg\"))\n",
    "    os.remove(os.path.join(\"labels/\",name+\".txt\"))"
   ]
  },
  {
   "cell_type": "code",
   "execution_count": null,
   "metadata": {},
   "outputs": [],
   "source": []
  }
 ],
 "metadata": {
  "kernelspec": {
   "display_name": "pytorch_env",
   "language": "python",
   "name": "pytorch_env"
  },
  "language_info": {
   "codemirror_mode": {
    "name": "ipython",
    "version": 3
   },
   "file_extension": ".py",
   "mimetype": "text/x-python",
   "name": "python",
   "nbconvert_exporter": "python",
   "pygments_lexer": "ipython3",
   "version": "3.7.3"
  }
 },
 "nbformat": 4,
 "nbformat_minor": 2
}
